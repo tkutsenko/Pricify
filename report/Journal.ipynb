{
 "cells": [
  {
   "cell_type": "markdown",
   "metadata": {},
   "source": [
    "## Capstone project Pricify"
   ]
  },
  {
   "cell_type": "markdown",
   "metadata": {},
   "source": [
    "#### Business Understanding"
   ]
  },
  {
   "cell_type": "markdown",
   "metadata": {},
   "source": [
    "The goal is to build a model to predict a price for item by picture. As OfferUp says that \"With a single snap, you can take a photo of an item and instantly circulate it to people nearby.\", it sounds interesting to suggest the price, so you can take a photo of item and decide either you should sell it or not."
   ]
  },
  {
   "cell_type": "markdown",
   "metadata": {},
   "source": [
    "### Data Understanding"
   ]
  },
  {
   "cell_type": "markdown",
   "metadata": {},
   "source": [
    "OfferUp scraping"
   ]
  },
  {
   "cell_type": "markdown",
   "metadata": {},
   "source": [
    "scrap_offerup.rb  - HTTP Request to https://offerupnow.com/ and scrap the recent offers page by page until the date limit was reached. Each offer was stored into file in JSON format. \n",
    "\n",
    "normalize_scraped.rb - Spliting and combining offers into 3 JSON files, I got:\n",
    "offerup-data\n",
    "* items.json 605 Mb 380,107 items\n",
    "* owners.json 141.2 Mb ? item owners\n",
    "* images.json 214.1 Mb ? links to item images\n",
    "\n",
    "download_images.rb - 3 size of images organizes into subfolders with offer-id name.\n",
    "* detail\n",
    "* full\n",
    "* list\n"
   ]
  },
  {
   "cell_type": "markdown",
   "metadata": {},
   "source": [
    "./scrap_offerup.rb -c /tmp/cookie.txt -s ./scraped -t 0 -n 20000 -p 0.5 | tee scrap.log"
   ]
  },
  {
   "cell_type": "code",
   "execution_count": 3,
   "metadata": {
    "collapsed": false
   },
   "outputs": [],
   "source": [
    "import pandas as pd\n",
    "import matplotlib\n",
    "%matplotlib inline"
   ]
  },
  {
   "cell_type": "code",
   "execution_count": 4,
   "metadata": {
    "collapsed": true
   },
   "outputs": [],
   "source": [
    "df = pd.read_json('../data/items.json')"
   ]
  },
  {
   "cell_type": "code",
   "execution_count": 5,
   "metadata": {
    "collapsed": true
   },
   "outputs": [],
   "source": [
    "cdf = df.copy()"
   ]
  },
  {
   "cell_type": "code",
   "execution_count": 6,
   "metadata": {
    "collapsed": false
   },
   "outputs": [
    {
     "data": {
      "text/plain": [
       "(380107, 34)"
      ]
     },
     "execution_count": 6,
     "metadata": {},
     "output_type": "execute_result"
    }
   ],
   "source": [
    "df.shape"
   ]
  },
  {
   "cell_type": "code",
   "execution_count": 7,
   "metadata": {
    "collapsed": false
   },
   "outputs": [
    {
     "data": {
      "text/html": [
       "<div>\n",
       "<table border=\"1\" class=\"dataframe\">\n",
       "  <thead>\n",
       "    <tr style=\"text-align: right;\">\n",
       "      <th></th>\n",
       "      <th>category</th>\n",
       "      <th>condition</th>\n",
       "      <th>description</th>\n",
       "      <th>distance</th>\n",
       "      <th>get_full_url</th>\n",
       "      <th>get_img_medium_height</th>\n",
       "      <th>get_img_medium_width</th>\n",
       "      <th>get_img_permalink_large</th>\n",
       "      <th>get_img_permalink_medium</th>\n",
       "      <th>get_img_permalink_small</th>\n",
       "      <th>...</th>\n",
       "      <th>post_from_store_address</th>\n",
       "      <th>price</th>\n",
       "      <th>priority</th>\n",
       "      <th>reservable</th>\n",
       "      <th>reserved</th>\n",
       "      <th>review_status</th>\n",
       "      <th>sold_date</th>\n",
       "      <th>sold_offer_id</th>\n",
       "      <th>state</th>\n",
       "      <th>title</th>\n",
       "    </tr>\n",
       "  </thead>\n",
       "  <tbody>\n",
       "    <tr>\n",
       "      <th>0</th>\n",
       "      <td>{u'id': 2, u'name': u'Household'}</td>\n",
       "      <td>40</td>\n",
       "      <td>Colorful mosaic that brightens up a room! 1.5'...</td>\n",
       "      <td>15</td>\n",
       "      <td>https://offerupnow.com/item/detail/96366652/fl...</td>\n",
       "      <td>400</td>\n",
       "      <td>300</td>\n",
       "      <td>https://d2j6tswx2otu6e.cloudfront.net/V_DoSoMA...</td>\n",
       "      <td>https://d2j6tswx2otu6e.cloudfront.net/8toAz7Tj...</td>\n",
       "      <td>https://d2j6tswx2otu6e.cloudfront.net/KPORxbgy...</td>\n",
       "      <td>...</td>\n",
       "      <td>Lynnwood, WA</td>\n",
       "      <td>10</td>\n",
       "      <td>100</td>\n",
       "      <td>False</td>\n",
       "      <td>False</td>\n",
       "      <td>2</td>\n",
       "      <td>None</td>\n",
       "      <td>NaN</td>\n",
       "      <td>3</td>\n",
       "      <td>Fleur d' lys mosaic artwork</td>\n",
       "    </tr>\n",
       "    <tr>\n",
       "      <th>1</th>\n",
       "      <td>{u'id': 13, u'name': u'Beauty &amp; Health'}</td>\n",
       "      <td>100</td>\n",
       "      <td>2 NYX Avant Pop Palettes. Has 10 different eye...</td>\n",
       "      <td>15</td>\n",
       "      <td>https://offerupnow.com/item/detail/96366557/ny...</td>\n",
       "      <td>400</td>\n",
       "      <td>300</td>\n",
       "      <td>https://d2j6tswx2otu6e.cloudfront.net/lv6RLzOC...</td>\n",
       "      <td>https://d2j6tswx2otu6e.cloudfront.net/z0pDlQul...</td>\n",
       "      <td>https://d2j6tswx2otu6e.cloudfront.net/OujFPQXl...</td>\n",
       "      <td>...</td>\n",
       "      <td>Lynnwood, WA</td>\n",
       "      <td>25</td>\n",
       "      <td>100</td>\n",
       "      <td>False</td>\n",
       "      <td>False</td>\n",
       "      <td>2</td>\n",
       "      <td>None</td>\n",
       "      <td>NaN</td>\n",
       "      <td>3</td>\n",
       "      <td>NYX Avant Pop Palettes</td>\n",
       "    </tr>\n",
       "    <tr>\n",
       "      <th>2</th>\n",
       "      <td>{u'id': 3, u'name': u'General'}</td>\n",
       "      <td>40</td>\n",
       "      <td>Size 28 only put on once very nice jeans</td>\n",
       "      <td>18</td>\n",
       "      <td>https://offerupnow.com/item/detail/96366541/mi...</td>\n",
       "      <td>225</td>\n",
       "      <td>300</td>\n",
       "      <td>https://d2j6tswx2otu6e.cloudfront.net/gY13xLL9...</td>\n",
       "      <td>https://d2j6tswx2otu6e.cloudfront.net/-5KLMMcI...</td>\n",
       "      <td>https://d2j6tswx2otu6e.cloudfront.net/Zqk9QmT3...</td>\n",
       "      <td>...</td>\n",
       "      <td>Lynnwood, WA</td>\n",
       "      <td>60</td>\n",
       "      <td>100</td>\n",
       "      <td>False</td>\n",
       "      <td>False</td>\n",
       "      <td>2</td>\n",
       "      <td>None</td>\n",
       "      <td>NaN</td>\n",
       "      <td>3</td>\n",
       "      <td>Miss Me jeans</td>\n",
       "    </tr>\n",
       "    <tr>\n",
       "      <th>3</th>\n",
       "      <td>{u'id': 3, u'name': u'General'}</td>\n",
       "      <td>40</td>\n",
       "      <td>Red justice jean shorts</td>\n",
       "      <td>4</td>\n",
       "      <td>https://offerupnow.com/item/detail/96366520/re...</td>\n",
       "      <td>400</td>\n",
       "      <td>300</td>\n",
       "      <td>https://d2j6tswx2otu6e.cloudfront.net/e7zVb3QB...</td>\n",
       "      <td>https://d2j6tswx2otu6e.cloudfront.net/_Sm3yKZR...</td>\n",
       "      <td>https://d2j6tswx2otu6e.cloudfront.net/ge9ot77Y...</td>\n",
       "      <td>...</td>\n",
       "      <td>Lake Stevens, WA</td>\n",
       "      <td>3</td>\n",
       "      <td>100</td>\n",
       "      <td>False</td>\n",
       "      <td>False</td>\n",
       "      <td>2</td>\n",
       "      <td>None</td>\n",
       "      <td>NaN</td>\n",
       "      <td>3</td>\n",
       "      <td>red Justice jeans shorts</td>\n",
       "    </tr>\n",
       "    <tr>\n",
       "      <th>4</th>\n",
       "      <td>{u'id': 1, u'name': u'Electronics'}</td>\n",
       "      <td>40</td>\n",
       "      <td>Great condition</td>\n",
       "      <td>26</td>\n",
       "      <td>https://offerupnow.com/item/detail/96366471/su...</td>\n",
       "      <td>400</td>\n",
       "      <td>300</td>\n",
       "      <td>https://d2j6tswx2otu6e.cloudfront.net/OqwfY7Q7...</td>\n",
       "      <td>https://d2j6tswx2otu6e.cloudfront.net/v0gyLUF5...</td>\n",
       "      <td>https://d2j6tswx2otu6e.cloudfront.net/UaGTB7eA...</td>\n",
       "      <td>...</td>\n",
       "      <td>Seattle, WA</td>\n",
       "      <td>400</td>\n",
       "      <td>100</td>\n",
       "      <td>False</td>\n",
       "      <td>False</td>\n",
       "      <td>2</td>\n",
       "      <td>None</td>\n",
       "      <td>NaN</td>\n",
       "      <td>3</td>\n",
       "      <td>Surface pro 3 128gb</td>\n",
       "    </tr>\n",
       "  </tbody>\n",
       "</table>\n",
       "<p>5 rows × 34 columns</p>\n",
       "</div>"
      ],
      "text/plain": [
       "                                   category  condition  \\\n",
       "0         {u'id': 2, u'name': u'Household'}         40   \n",
       "1  {u'id': 13, u'name': u'Beauty & Health'}        100   \n",
       "2           {u'id': 3, u'name': u'General'}         40   \n",
       "3           {u'id': 3, u'name': u'General'}         40   \n",
       "4       {u'id': 1, u'name': u'Electronics'}         40   \n",
       "\n",
       "                                         description  distance  \\\n",
       "0  Colorful mosaic that brightens up a room! 1.5'...        15   \n",
       "1  2 NYX Avant Pop Palettes. Has 10 different eye...        15   \n",
       "2           Size 28 only put on once very nice jeans        18   \n",
       "3                            Red justice jean shorts         4   \n",
       "4                                    Great condition        26   \n",
       "\n",
       "                                        get_full_url  get_img_medium_height  \\\n",
       "0  https://offerupnow.com/item/detail/96366652/fl...                    400   \n",
       "1  https://offerupnow.com/item/detail/96366557/ny...                    400   \n",
       "2  https://offerupnow.com/item/detail/96366541/mi...                    225   \n",
       "3  https://offerupnow.com/item/detail/96366520/re...                    400   \n",
       "4  https://offerupnow.com/item/detail/96366471/su...                    400   \n",
       "\n",
       "   get_img_medium_width                            get_img_permalink_large  \\\n",
       "0                   300  https://d2j6tswx2otu6e.cloudfront.net/V_DoSoMA...   \n",
       "1                   300  https://d2j6tswx2otu6e.cloudfront.net/lv6RLzOC...   \n",
       "2                   300  https://d2j6tswx2otu6e.cloudfront.net/gY13xLL9...   \n",
       "3                   300  https://d2j6tswx2otu6e.cloudfront.net/e7zVb3QB...   \n",
       "4                   300  https://d2j6tswx2otu6e.cloudfront.net/OqwfY7Q7...   \n",
       "\n",
       "                            get_img_permalink_medium  \\\n",
       "0  https://d2j6tswx2otu6e.cloudfront.net/8toAz7Tj...   \n",
       "1  https://d2j6tswx2otu6e.cloudfront.net/z0pDlQul...   \n",
       "2  https://d2j6tswx2otu6e.cloudfront.net/-5KLMMcI...   \n",
       "3  https://d2j6tswx2otu6e.cloudfront.net/_Sm3yKZR...   \n",
       "4  https://d2j6tswx2otu6e.cloudfront.net/v0gyLUF5...   \n",
       "\n",
       "                             get_img_permalink_small  \\\n",
       "0  https://d2j6tswx2otu6e.cloudfront.net/KPORxbgy...   \n",
       "1  https://d2j6tswx2otu6e.cloudfront.net/OujFPQXl...   \n",
       "2  https://d2j6tswx2otu6e.cloudfront.net/Zqk9QmT3...   \n",
       "3  https://d2j6tswx2otu6e.cloudfront.net/ge9ot77Y...   \n",
       "4  https://d2j6tswx2otu6e.cloudfront.net/UaGTB7eA...   \n",
       "\n",
       "              ...               post_from_store_address  price priority  \\\n",
       "0             ...                          Lynnwood, WA     10      100   \n",
       "1             ...                          Lynnwood, WA     25      100   \n",
       "2             ...                          Lynnwood, WA     60      100   \n",
       "3             ...                      Lake Stevens, WA      3      100   \n",
       "4             ...                           Seattle, WA    400      100   \n",
       "\n",
       "   reservable reserved review_status sold_date  sold_offer_id  state  \\\n",
       "0       False    False             2      None            NaN      3   \n",
       "1       False    False             2      None            NaN      3   \n",
       "2       False    False             2      None            NaN      3   \n",
       "3       False    False             2      None            NaN      3   \n",
       "4       False    False             2      None            NaN      3   \n",
       "\n",
       "                         title  \n",
       "0  Fleur d' lys mosaic artwork  \n",
       "1       NYX Avant Pop Palettes  \n",
       "2                Miss Me jeans  \n",
       "3     red Justice jeans shorts  \n",
       "4          Surface pro 3 128gb  \n",
       "\n",
       "[5 rows x 34 columns]"
      ]
     },
     "execution_count": 7,
     "metadata": {},
     "output_type": "execute_result"
    }
   ],
   "source": [
    "df.head()"
   ]
  },
  {
   "cell_type": "code",
   "execution_count": 8,
   "metadata": {
    "collapsed": true
   },
   "outputs": [],
   "source": [
    "sample = df.sample(100)"
   ]
  },
  {
   "cell_type": "code",
   "execution_count": 9,
   "metadata": {
    "collapsed": false
   },
   "outputs": [
    {
     "data": {
      "text/plain": [
       "(100, 34)"
      ]
     },
     "execution_count": 9,
     "metadata": {},
     "output_type": "execute_result"
    }
   ],
   "source": [
    "sample.shape"
   ]
  },
  {
   "cell_type": "code",
   "execution_count": 10,
   "metadata": {
    "collapsed": false
   },
   "outputs": [
    {
     "name": "stdout",
     "output_type": "stream",
     "text": [
      "<class 'pandas.core.frame.DataFrame'>\n",
      "Int64Index: 380107 entries, 0 to 380106\n",
      "Data columns (total 34 columns):\n",
      "category                      380107 non-null object\n",
      "condition                     380107 non-null int64\n",
      "description                   380107 non-null object\n",
      "distance                      380107 non-null int64\n",
      "get_full_url                  380107 non-null object\n",
      "get_img_medium_height         380107 non-null int64\n",
      "get_img_medium_width          380107 non-null int64\n",
      "get_img_permalink_large       380107 non-null object\n",
      "get_img_permalink_medium      380107 non-null object\n",
      "get_img_permalink_small       380107 non-null object\n",
      "get_img_small_height          380107 non-null int64\n",
      "get_img_small_width           380107 non-null int64\n",
      "get_small_square_thumbanil    380107 non-null object\n",
      "id                            380107 non-null int64\n",
      "image                         159857 non-null object\n",
      "image_mob_det_hd              380107 non-null object\n",
      "image_mob_list_hd             380107 non-null object\n",
      "latitude                      380107 non-null float64\n",
      "listing_type                  380107 non-null int64\n",
      "location_name                 380107 non-null object\n",
      "longitude                     380107 non-null float64\n",
      "owner_id                      380107 non-null int64\n",
      "payable                       380107 non-null bool\n",
      "post_date                     380107 non-null object\n",
      "post_from_store_address       377435 non-null object\n",
      "price                         380107 non-null float64\n",
      "priority                      380107 non-null int64\n",
      "reservable                    380107 non-null bool\n",
      "reserved                      380107 non-null bool\n",
      "review_status                 285697 non-null float64\n",
      "sold_date                     6486 non-null object\n",
      "sold_offer_id                 3862 non-null float64\n",
      "state                         380107 non-null int64\n",
      "title                         380107 non-null object\n",
      "dtypes: bool(3), float64(5), int64(11), object(15)\n",
      "memory usage: 93.9+ MB\n"
     ]
    }
   ],
   "source": [
    "df.info()"
   ]
  },
  {
   "cell_type": "markdown",
   "metadata": {},
   "source": [
    "#### Remove duplicates"
   ]
  },
  {
   "cell_type": "markdown",
   "metadata": {},
   "source": [
    "From 380107 to 300304"
   ]
  },
  {
   "cell_type": "code",
   "execution_count": 11,
   "metadata": {
    "collapsed": true
   },
   "outputs": [],
   "source": [
    "cdf.drop_duplicates(subset='id', inplace=True)"
   ]
  },
  {
   "cell_type": "code",
   "execution_count": 12,
   "metadata": {
    "collapsed": false
   },
   "outputs": [
    {
     "data": {
      "text/plain": [
       "(300304, 34)"
      ]
     },
     "execution_count": 12,
     "metadata": {},
     "output_type": "execute_result"
    }
   ],
   "source": [
    "cdf.shape"
   ]
  },
  {
   "cell_type": "markdown",
   "metadata": {},
   "source": [
    "### Data Preparation"
   ]
  },
  {
   "cell_type": "markdown",
   "metadata": {},
   "source": [
    "Start from item.json. We got 300,304 rows and 34 columns. "
   ]
  },
  {
   "cell_type": "markdown",
   "metadata": {},
   "source": [
    "Columns are: \n",
    "\n",
    "* category - object (calculate how many categories, split into separate table?)\n",
    "* condition\t - int (40, 100 ? looks like categorical)\n",
    "* description - text\n",
    "* distance\t- distance from logged user, not applicable\n",
    "* get_full_url\t- link to offer\n",
    "* get_img_medium_height\t400\n",
    "* get_img_medium_width\t300\n",
    "* get_img_permalink_large\n",
    "* get_img_permalink_medium\n",
    "* get_img_permalink_small\n",
    "* get_img_small_height\n",
    "* get_img_small_width\n",
    "* get_small_square_thumbanil\n",
    "* id\t65194613\n",
    "* image\tNone\n",
    "* image_mob_det_hd\n",
    "* image_mob_list_hd\n",
    "* latitude\t47.8426\n",
    "* listing_type\t2\n",
    "* location_name\tLynnwood, WA\n",
    "* longitude\t-122.295\n",
    "* owner_id\t6787474\n",
    "* payable\tFalse\n",
    "* post_date\t2015-12-19T19:38:50.398Z\n",
    "* post_from_store_address\tLynnwood, WA\n",
    "* price\t25\n",
    "* priority\t100\n",
    "* reservable\tFalse\n",
    "* reserved\tFalse\n",
    "* review_status\t2\n",
    "* sold_date\tNone\n",
    "* sold_offer_id\tNaN\n",
    "* state\t3\n",
    "* title"
   ]
  },
  {
   "cell_type": "markdown",
   "metadata": {},
   "source": [
    "1. Category\n",
    " - category 380107 non-null object - no missing values\n",
    " - Create two features with category data - category_id and category_name"
   ]
  },
  {
   "cell_type": "code",
   "execution_count": 13,
   "metadata": {
    "collapsed": false
   },
   "outputs": [],
   "source": [
    "cdf['category_id'] =  cdf.category.apply(lambda x: int(x['id']))"
   ]
  },
  {
   "cell_type": "code",
   "execution_count": 14,
   "metadata": {
    "collapsed": false
   },
   "outputs": [],
   "source": [
    "cdf['category_name'] =  cdf.category.apply(lambda x: str(x['name']))"
   ]
  },
  {
   "cell_type": "code",
   "execution_count": 15,
   "metadata": {
    "collapsed": false
   },
   "outputs": [],
   "source": [
    "cat_counts = cdf['category_name'].value_counts()"
   ]
  },
  {
   "cell_type": "code",
   "execution_count": 16,
   "metadata": {
    "collapsed": false
   },
   "outputs": [
    {
     "data": {
      "text/plain": [
       "37"
      ]
     },
     "execution_count": 16,
     "metadata": {},
     "output_type": "execute_result"
    }
   ],
   "source": [
    "len(cat_counts)"
   ]
  },
  {
   "cell_type": "code",
   "execution_count": 17,
   "metadata": {
    "collapsed": false,
    "scrolled": false
   },
   "outputs": [
    {
     "data": {
      "text/plain": [
       "Baby & Kids              37114\n",
       "Clothing & Shoes         27743\n",
       "Jewelry & Accessories    24671\n",
       "Furniture                22857\n",
       "General                  22527\n",
       "Household                21974\n",
       "Electronics              14967\n",
       "Cell Phones              14307\n",
       "Collectibles             12093\n",
       "Sports & Outdoors        10963\n",
       "Home & Garden             9529\n",
       "Cars & Trucks             8401\n",
       "Auto Parts                8261\n",
       "Games & Toys              8149\n",
       "Beauty & Health           6384\n",
       "Tools & Machinery         6265\n",
       "Arts & Crafts             5766\n",
       "Antiques                  4654\n",
       "Appliances                4411\n",
       "Computer Equipment        3817\n",
       "Audio Equipment           3673\n",
       "Video Games               3166\n",
       "Bicycles                  2787\n",
       "Motorcycles               2582\n",
       "Pet Supplies              2329\n",
       "Musical Instruments       2108\n",
       "Photography               1576\n",
       "TVs                       1463\n",
       "Boats & Marine            1167\n",
       "Business Equipment        1082\n",
       "CDs & DVDs                1021\n",
       "Books & Magazines          508\n",
       "Farming                    469\n",
       "Campers & RVs              415\n",
       "Video Equipment            392\n",
       "Tickets                    380\n",
       "Computer Software          333\n",
       "Name: category_name, dtype: int64"
      ]
     },
     "execution_count": 17,
     "metadata": {},
     "output_type": "execute_result"
    }
   ],
   "source": [
    "cat_counts"
   ]
  },
  {
   "cell_type": "markdown",
   "metadata": {},
   "source": [
    "So, we have 37 categories of items"
   ]
  },
  {
   "cell_type": "code",
   "execution_count": 138,
   "metadata": {
    "collapsed": false
   },
   "outputs": [
    {
     "data": {
      "text/plain": [
       "<matplotlib.axes._subplots.AxesSubplot at 0x10f913890>"
      ]
     },
     "execution_count": 138,
     "metadata": {},
     "output_type": "execute_result"
    },
    {
     "data": {
      "image/png": "[encoded data removed]",
      "text/plain": [
       "<matplotlib.figure.Figure at 0x11071d250>"
      ]
     },
     "metadata": {},
     "output_type": "display_data"
    }
   ],
   "source": [
    "cat_counts.plot(kind='density')"
   ]
  },
  {
   "cell_type": "raw",
   "metadata": {},
   "source": [
    "To simplify the model, let's decrease the number of categories. \n",
    "\n",
    "Baby & Kids              37114\n",
    "Clothing & Shoes         27743\n",
    "\n",
    "\n",
    "Furniture                22857\n",
    "Household                21974\n",
    "Home & Garden            9529\n",
    "\n",
    "Cell Phones              14307 - select phones\n",
    "Electronics              14967 - select phones\n",
    "\n",
    "I'm going to train models on each of these groups separately, maybe using different models for each of three categories.\n"
   ]
  },
  {
   "cell_type": "code",
   "execution_count": 19,
   "metadata": {
    "collapsed": false
   },
   "outputs": [],
   "source": [
    "#Selected features: \n",
    "features = ['id', 'description', 'title', 'category_id', 'category_name', 'price']\n",
    "fdf = cdf[features]"
   ]
  },
  {
   "cell_type": "code",
   "execution_count": 22,
   "metadata": {
    "collapsed": false
   },
   "outputs": [],
   "source": [
    "phones_category = cdf[cdf['category_name'] == 'Cell Phones']"
   ]
  },
  {
   "cell_type": "code",
   "execution_count": 20,
   "metadata": {
    "collapsed": false
   },
   "outputs": [
    {
     "data": {
      "text/plain": [
       "(64857, 6)"
      ]
     },
     "execution_count": 20,
     "metadata": {},
     "output_type": "execute_result"
    }
   ],
   "source": [
    "apparel_category = fdf[fdf['category_name'].isin(['Baby & Kids', 'Clothing & Shoes'])]\n",
    "apparel_category.shape\n",
    "#apparel_category.id.to_csv('apparel_category.csv', index=False)\n"
   ]
  },
  {
   "cell_type": "code",
   "execution_count": 21,
   "metadata": {
    "collapsed": false
   },
   "outputs": [
    {
     "data": {
      "text/plain": [
       "(54360, 6)"
      ]
     },
     "execution_count": 21,
     "metadata": {},
     "output_type": "execute_result"
    }
   ],
   "source": [
    "house_category = fdf[fdf['category_name'].isin(['Furniture', 'Household', 'Home & Garden'])]\n",
    "house_category.shape\n",
    "#house_category.id.to_csv('house_category.csv', index=False)"
   ]
  },
  {
   "cell_type": "code",
   "execution_count": 300,
   "metadata": {
    "collapsed": false
   },
   "outputs": [
    {
     "data": {
      "text/plain": [
       "[(u'unlocked', 4096),\n",
       " (u'iphone', 3799),\n",
       " (u'galaxy', 3427),\n",
       " (u'samsung', 2979),\n",
       " (u'note', 1487),\n",
       " (u'case', 1474),\n",
       " (u'phone', 1012),\n",
       " (u's5', 980),\n",
       " (u'lg', 977),\n",
       " (u'5', 913),\n",
       " (u'4', 893),\n",
       " (u'htc', 867),\n",
       " (u's4', 812),\n",
       " (u's6', 765),\n",
       " (u'6', 704),\n",
       " (u'3', 670),\n",
       " (u'verizon', 665),\n",
       " (u'5s', 630),\n",
       " (u'for', 557),\n",
       " (u'one', 530),\n",
       " (u'new', 523),\n",
       " (u'2', 496),\n",
       " (u'sprint', 475),\n",
       " (u'4s', 473),\n",
       " (u'edge', 379),\n",
       " (u'5c', 366),\n",
       " (u't-mobile', 358),\n",
       " (u'plus', 345),\n",
       " (u'cases', 334),\n",
       " (u'at&t', 332)]"
      ]
     },
     "execution_count": 300,
     "metadata": {},
     "output_type": "execute_result"
    }
   ],
   "source": [
    "phones_base = cdf[cdf['category_name'] == 'Cell Phones']\n",
    "from collections import Counter\n",
    "l = map(lambda x: x.split(), phones_base.title.tolist())\n",
    "c = Counter([item.lower() for sublist in l for item in sublist])\n",
    "c.most_common(30)"
   ]
  },
  {
   "cell_type": "code",
   "execution_count": null,
   "metadata": {
    "collapsed": false
   },
   "outputs": [],
   "source": []
  },
  {
   "cell_type": "code",
   "execution_count": 301,
   "metadata": {
    "collapsed": false
   },
   "outputs": [
    {
     "data": {
      "text/plain": [
       "[(u'.', 51955),\n",
       " (u'and', 10572),\n",
       " (u'mobile', 10284),\n",
       " (u'on', 10161),\n",
       " (u'my', 9445),\n",
       " (u'to', 7886),\n",
       " (u'any', 7455),\n",
       " (u'works', 6481),\n",
       " (u'the', 5805),\n",
       " (u'is', 5517),\n",
       " (u'521', 5344),\n",
       " (u'street', 5331),\n",
       " (u'ne', 5330),\n",
       " (u'98155', 5328),\n",
       " (u'165th', 5311),\n",
       " (u'pcs', 5281),\n",
       " (u'address', 5249),\n",
       " (u'go', 5236),\n",
       " (u'shoreline', 5224),\n",
       " (u'smart', 5181),\n",
       " (u'metro', 5174),\n",
       " (u'family', 5153),\n",
       " (u'in', 5153),\n",
       " (u'att', 5083),\n",
       " (u'others', 5028),\n",
       " (u'simple', 4923),\n",
       " (u'tmobile', 4878),\n",
       " (u'talk', 4875),\n",
       " (u'straight', 4856),\n",
       " (u'cricket', 4825)]"
      ]
     },
     "execution_count": 301,
     "metadata": {},
     "output_type": "execute_result"
    }
   ],
   "source": [
    "from collections import Counter\n",
    "l = map(lambda x: x.split(), phones_base.description.tolist())\n",
    "c = Counter([item.lower() for sublist in l for item in sublist])\n",
    "c.most_common(30)"
   ]
  },
  {
   "cell_type": "code",
   "execution_count": 302,
   "metadata": {
    "collapsed": false
   },
   "outputs": [
    {
     "data": {
      "text/plain": [
       "[(u'size', 7665),\n",
       " (u'baby', 6006),\n",
       " (u'dress', 4675),\n",
       " (u'new', 3189),\n",
       " (u'jacket', 3045),\n",
       " (u'and', 2896),\n",
       " (u'shoes', 1922),\n",
       " (u'girls', 1916),\n",
       " (u'jeans', 1877),\n",
       " (u'girl', 1569),\n",
       " (u'brand', 1552),\n",
       " (u'kids', 1431),\n",
       " (u'nike', 1406),\n",
       " (u'for', 1403),\n",
       " (u'boys', 1396),\n",
       " (u'boots', 1391),\n",
       " (u'with', 1227),\n",
       " (u'leather', 1213),\n",
       " (u'toddler', 1203),\n",
       " (u'jordan', 1195),\n",
       " (u'months', 1148),\n",
       " (u'month', 1134),\n",
       " (u'black', 1084),\n",
       " (u'set', 1062),\n",
       " (u'lot', 1049),\n",
       " (u'seat', 1046),\n",
       " (u'coat', 1046),\n",
       " (u'clothes', 1020),\n",
       " (u\"women's\", 952),\n",
       " (u'&', 937)]"
      ]
     },
     "execution_count": 302,
     "metadata": {},
     "output_type": "execute_result"
    }
   ],
   "source": [
    "from collections import Counter\n",
    "l = map(lambda x: x.split(), apparel_category.title.tolist())\n",
    "c = Counter([item.lower() for sublist in l for item in sublist])\n",
    "c.most_common(30)"
   ]
  },
  {
   "cell_type": "code",
   "execution_count": 303,
   "metadata": {
    "collapsed": false
   },
   "outputs": [
    {
     "data": {
      "text/plain": [
       "[(u'and', 23489),\n",
       " (u'size', 22487),\n",
       " (u'for', 19957),\n",
       " (u'a', 16746),\n",
       " (u'in', 15689),\n",
       " (u'the', 13905),\n",
       " (u'new', 11440),\n",
       " (u'with', 10795),\n",
       " (u'to', 10723),\n",
       " (u'of', 8202),\n",
       " (u'is', 7897),\n",
       " (u'i', 7411),\n",
       " (u'worn', 7215),\n",
       " (u'great', 7171),\n",
       " (u'brand', 7086),\n",
       " (u'it', 7085),\n",
       " (u'used', 7054),\n",
       " (u'or', 6519),\n",
       " (u'condition', 6493),\n",
       " (u'never', 6234),\n",
       " (u'on', 6045),\n",
       " (u'my', 5869),\n",
       " (u'only', 5595),\n",
       " (u'good', 4971),\n",
       " (u'all', 4909),\n",
       " (u'are', 4834),\n",
       " (u'no', 4739),\n",
       " (u'condition.', 4713),\n",
       " (u'baby', 4544),\n",
       " (u'but', 4479)]"
      ]
     },
     "execution_count": 303,
     "metadata": {},
     "output_type": "execute_result"
    }
   ],
   "source": [
    "from collections import Counter\n",
    "l = map(lambda x: x.split(), apparel_category.description.tolist())\n",
    "c = Counter([item.lower() for sublist in l for item in sublist])\n",
    "c.most_common(30)"
   ]
  },
  {
   "cell_type": "code",
   "execution_count": 296,
   "metadata": {
    "collapsed": false
   },
   "outputs": [
    {
     "data": {
      "text/plain": [
       "[(u'table', 4448),\n",
       " (u'and', 3372),\n",
       " (u'set', 2807),\n",
       " (u'with', 2077),\n",
       " (u'new', 2075),\n",
       " (u'chair', 1744),\n",
       " (u'glass', 1690),\n",
       " (u'wood', 1653),\n",
       " (u'2', 1306),\n",
       " (u'wall', 1280)]"
      ]
     },
     "execution_count": 296,
     "metadata": {},
     "output_type": "execute_result"
    }
   ],
   "source": [
    "from collections import Counter\n",
    "l = map(lambda x: x.split(), house_category.title.tolist())\n",
    "c = Counter([item.lower() for sublist in l for item in sublist])\n",
    "c.most_common(10)"
   ]
  },
  {
   "cell_type": "code",
   "execution_count": 299,
   "metadata": {
    "collapsed": false
   },
   "outputs": [
    {
     "data": {
      "text/plain": [
       "[(u'and', 20903),\n",
       " (u'for', 16570),\n",
       " (u'in', 15563),\n",
       " (u'a', 15165),\n",
       " (u'the', 13897),\n",
       " (u'with', 10410),\n",
       " (u'to', 10039),\n",
       " (u'is', 8630),\n",
       " (u'of', 8538),\n",
       " (u'it', 7253),\n",
       " (u'new', 7156),\n",
       " (u'or', 6842),\n",
       " (u'i', 6338),\n",
       " (u'great', 6304),\n",
       " (u'on', 5410),\n",
       " (u'have', 5048),\n",
       " (u'used', 4778),\n",
       " (u'good', 4667),\n",
       " (u'this', 4657),\n",
       " (u'condition', 4183),\n",
       " (u'very', 4178),\n",
       " (u'no', 4022),\n",
       " (u'x', 3944),\n",
       " (u'are', 3877),\n",
       " (u'but', 3738),\n",
       " (u'table', 3676),\n",
       " (u'2', 3608),\n",
       " (u'you', 3574),\n",
       " (u'condition.', 3502),\n",
       " (u'brand', 3465)]"
      ]
     },
     "execution_count": 299,
     "metadata": {},
     "output_type": "execute_result"
    }
   ],
   "source": [
    "from collections import Counter\n",
    "l = map(lambda x: x.split(), house_category.description.tolist())\n",
    "c = Counter([item.lower() for sublist in l for item in sublist])\n",
    "c.most_common(30)"
   ]
  },
  {
   "cell_type": "code",
   "execution_count": 228,
   "metadata": {
    "collapsed": true
   },
   "outputs": [],
   "source": [
    "def key_words_check(title, words):\n",
    "    if len(set(title.split()).intersection(words)) > 0:\n",
    "        return True\n",
    "    return False"
   ]
  },
  {
   "cell_type": "code",
   "execution_count": 229,
   "metadata": {
    "collapsed": false
   },
   "outputs": [],
   "source": [
    "phone_words = set(['unlocked', 'iphone', 'galaxy', 'samsung', 'note', 'phone', 'lg', 'htc', 'verizon', 't-mobile', 'at&t', \n",
    "              'tmobile','nokia', 'mobile', 'sony', 'motorola', 'unlocled', 'lumia', 'smart', 'phones', 'nexus'])\n"
   ]
  },
  {
   "cell_type": "code",
   "execution_count": 230,
   "metadata": {
    "collapsed": false
   },
   "outputs": [
    {
     "data": {
      "text/plain": [
       "(6158, 42)"
      ]
     },
     "execution_count": 230,
     "metadata": {},
     "output_type": "execute_result"
    }
   ],
   "source": [
    "phones_category = cdf[cdf['category_name'].isin(['Cell Phones', 'Electronics'])]\n",
    "phones_category = phones_category[phones_category['title'].apply(lambda x: key_words_check(x, phone_words))]\n",
    "phones_category.shape\n",
    "#phones_category.id.to_csv('phones_category.csv', index=False)"
   ]
  },
  {
   "cell_type": "code",
   "execution_count": 274,
   "metadata": {
    "collapsed": false
   },
   "outputs": [],
   "source": [
    "phones_category = fdf[fdf['category_name'] == 'Cell Phones']\n",
    "phones_category.id.to_csv('phones_category.csv', index=False)\n",
    "#phones_category.shape"
   ]
  },
  {
   "cell_type": "markdown",
   "metadata": {},
   "source": [
    "### Features"
   ]
  },
  {
   "cell_type": "markdown",
   "metadata": {},
   "source": [
    "#### Condition\n",
    "  \n",
    "* condition 380107 non-null int64 - no missing values\n",
    "* value range: [0, 20, 40, 60, 80, 100], so it looks like categorical.\n",
    "* Create 6 features with conditions"
   ]
  },
  {
   "cell_type": "code",
   "execution_count": 101,
   "metadata": {
    "collapsed": false
   },
   "outputs": [],
   "source": [
    "condition_counts = cdf['condition'].value_counts()"
   ]
  },
  {
   "cell_type": "code",
   "execution_count": 102,
   "metadata": {
    "collapsed": false
   },
   "outputs": [
    {
     "data": {
      "text/plain": [
       "40     268919\n",
       "100     71506\n",
       "60      24276\n",
       "80       9918\n",
       "0        4423\n",
       "20       1065\n",
       "Name: condition, dtype: int64"
      ]
     },
     "execution_count": 102,
     "metadata": {},
     "output_type": "execute_result"
    }
   ],
   "source": [
    "condition_counts"
   ]
  },
  {
   "cell_type": "code",
   "execution_count": 113,
   "metadata": {
    "collapsed": false
   },
   "outputs": [
    {
     "data": {
      "text/plain": [
       "<matplotlib.axes._subplots.AxesSubplot at 0x113e68190>"
      ]
     },
     "execution_count": 113,
     "metadata": {},
     "output_type": "execute_result"
    },
    {
     "data": {
      "image/png": "[encoded data removed]",
      "text/plain": [
       "<matplotlib.figure.Figure at 0x110990650>"
      ]
     },
     "metadata": {},
     "output_type": "display_data"
    }
   ],
   "source": [
    "condition_counts.plot(kind='density')"
   ]
  },
  {
   "cell_type": "code",
   "execution_count": 112,
   "metadata": {
    "collapsed": false
   },
   "outputs": [],
   "source": [
    "for i in  [0, 20, 40, 60, 80, 100]:\n",
    "    cdf['condition_' + str(i)] =  cdf.condition.apply(lambda x: 1 if x == i else 0 )"
   ]
  },
  {
   "cell_type": "markdown",
   "metadata": {},
   "source": [
    "#### Description, title\n",
    "  \n",
    "* description                   380107 non-null object - no missing values\n",
    "* title                         380107 non-null object\n",
    "* vectorize with TF-IDF"
   ]
  },
  {
   "cell_type": "markdown",
   "metadata": {},
   "source": [
    "#### Distance\n",
    "  \n",
    "* distance                      380107 non-null int64 - no missing values\n",
    "* It looks like distance was calculated based on location from cookie file, so from my home, it's not relevant in general."
   ]
  },
  {
   "cell_type": "markdown",
   "metadata": {},
   "source": [
    "#### Owner\n",
    "* owner_id                      380107 non-null int64\n",
    "* Information about owner looks valueble, but in case of consignments it's not likely that the same person would sell the same tipe of item again and again. I will skip owners information."
   ]
  },
  {
   "cell_type": "markdown",
   "metadata": {},
   "source": [
    "#### Priority\n",
    "* priority                      380107 non-null int64\n",
    "* All observation have the same priority 100, will not use it"
   ]
  },
  {
   "cell_type": "markdown",
   "metadata": {},
   "source": [
    "#### Reservable, reserved\n",
    "* reservable                    380107 non-null bool\n",
    "* reserved                      380107 non-null bool\n",
    "* Only two offer has reservable=True, will not use it\n",
    "* All offers have reserved=False, will not use it"
   ]
  },
  {
   "cell_type": "code",
   "execution_count": 257,
   "metadata": {
    "collapsed": false
   },
   "outputs": [
    {
     "data": {
      "text/plain": [
       "False    211271\n",
       "True      89033\n",
       "Name: payable, dtype: int64"
      ]
     },
     "execution_count": 257,
     "metadata": {},
     "output_type": "execute_result"
    }
   ],
   "source": [
    "cdf['payable'].value_counts()"
   ]
  },
  {
   "cell_type": "markdown",
   "metadata": {},
   "source": [
    "#### Price\n",
    "  \n",
    "* price                         380107 non-null float64 - no missing values\n",
    "* target"
   ]
  },
  {
   "cell_type": "markdown",
   "metadata": {},
   "source": [
    "### Save for later\n",
    "\n",
    "* latitude                      380107 non-null float64\n",
    "* listing_type                  380107 non-null int64\n",
    "* location_name                 380107 non-null object\n",
    "* longitude                     380107 non-null float64\n",
    "* payable                       380107 non-null bool\n",
    "* post_date                     380107 non-null object\n",
    "* post_from_store_address       377435 non-null object\n",
    "* review_status                 285697 non-null float64\n",
    "* sold_date                     6486 non-null object\n",
    "* sold_offer_id                 3862 non-null float64\n",
    "* state                         380107 non-null int64\n"
   ]
  },
  {
   "cell_type": "markdown",
   "metadata": {},
   "source": [
    "### Other\n",
    "\n",
    "Doesn't look relevant\n",
    "\n",
    "* get_full_url                  380107 non-null object\n",
    "* get_img_medium_height         380107 non-null int64\n",
    "* get_img_medium_width          380107 non-null int64\n",
    "* get_img_permalink_large       380107 non-null object\n",
    "* get_img_permalink_medium      380107 non-null object\n",
    "* get_img_permalink_small       380107 non-null object\n",
    "* get_img_small_height          380107 non-null int64\n",
    "* get_img_small_width           380107 non-null int64\n",
    "* get_small_square_thumbanil    380107 non-null object\n",
    "* id                            380107 non-null int64\n",
    "* image                         159857 non-null object\n",
    "* image_mob_det_hd              380107 non-null object\n",
    "* image_mob_list_hd             380107 non-null object"
   ]
  },
  {
   "cell_type": "code",
   "execution_count": 269,
   "metadata": {
    "collapsed": true
   },
   "outputs": [],
   "source": []
  },
  {
   "cell_type": "code",
   "execution_count": null,
   "metadata": {
    "collapsed": true
   },
   "outputs": [],
   "source": []
  },
  {
   "cell_type": "markdown",
   "metadata": {},
   "source": [
    "# Model"
   ]
  },
  {
   "cell_type": "markdown",
   "metadata": {},
   "source": [
    "I will build recommendation model for each category. Switch to GraphLab Create."
   ]
  },
  {
   "cell_type": "code",
   "execution_count": 284,
   "metadata": {
    "collapsed": true
   },
   "outputs": [],
   "source": [
    "import graphlab as gl\n",
    "gl.canvas.set_target('ipynb')"
   ]
  },
  {
   "cell_type": "code",
   "execution_count": 282,
   "metadata": {
    "collapsed": false
   },
   "outputs": [],
   "source": [
    "apparel = gl.SFrame(apparel_category)\n",
    "house = gl.SFrame(house_category)\n",
    "phones = gl.SFrame(phones_category)"
   ]
  },
  {
   "cell_type": "markdown",
   "metadata": {},
   "source": [
    "On the last step I'm going to use graphlab.nearest_neighbors to get top 5 nearest offers to display for user and choose median price value as recommendation. "
   ]
  },
  {
   "cell_type": "code",
   "execution_count": null,
   "metadata": {
    "collapsed": true
   },
   "outputs": [],
   "source": [
    "gramms = ['new', 'used', 'unlocked', 'good condition', 'great condition', 'very good condition', 'never used']"
   ]
  },
  {
   "cell_type": "markdown",
   "metadata": {},
   "source": [
    "Start with phones"
   ]
  },
  {
   "cell_type": "code",
   "execution_count": 286,
   "metadata": {
    "collapsed": true
   },
   "outputs": [],
   "source": [
    "phones['title_word_count'] = gl.text_analytics.tf_idf(phones['title'])\n",
    "#phones['desc_word_count'] = gl.text_analytics.count_words(phones['description'])"
   ]
  },
  {
   "cell_type": "code",
   "execution_count": null,
   "metadata": {
    "collapsed": false
   },
   "outputs": [],
   "source": []
  },
  {
   "cell_type": "code",
   "execution_count": 341,
   "metadata": {
    "collapsed": false
   },
   "outputs": [
    {
     "data": {
      "text/plain": [
       "[('works on', 5553),\n",
       " ('street shoreline', 5328),\n",
       " ('521 ne', 5320),\n",
       " ('165th street', 5311),\n",
       " ('ne 165th', 5303),\n",
       " ('shoreline 98155', 5220),\n",
       " ('metro pcs', 5189),\n",
       " ('family mobile', 5141),\n",
       " ('go smart', 5121),\n",
       " ('simple mobile', 4911),\n",
       " ('straight talk', 4854),\n",
       " ('and many', 4542),\n",
       " ('many others', 4538),\n",
       " ('mobile go', 4521),\n",
       " ('tmobile simple', 4511),\n",
       " ('talk cricket', 4502),\n",
       " ('on any', 3613),\n",
       " ('cash only', 3463),\n",
       " ('no trades', 3434),\n",
       " ('trades cash', 3368),\n",
       " ('is 521', 3279),\n",
       " ('address is', 3279),\n",
       " ('in any', 3262),\n",
       " ('any country', 3250),\n",
       " ('network in', 3236),\n",
       " ('my other', 3218),\n",
       " ('on my', 3191),\n",
       " ('see my', 3176),\n",
       " ('to see', 3174),\n",
       " ('click on', 3157),\n",
       " ('please click', 3156),\n",
       " ('2o6 5787484', 3129),\n",
       " ('shop address', 3077),\n",
       " ('cricket h2o', 2982),\n",
       " ('10am to', 2977),\n",
       " ('only works', 2909),\n",
       " ('any network', 2886),\n",
       " ('me at', 2858),\n",
       " ('at 2o6', 2798),\n",
       " ('att straight', 2778),\n",
       " ('or call', 2751),\n",
       " ('text or', 2750),\n",
       " ('pcs family', 2743),\n",
       " ('from 10am', 2667),\n",
       " ('to 8pm', 2658),\n",
       " ('98155 open', 2553),\n",
       " ('contact me', 2527),\n",
       " ('open from', 2510),\n",
       " ('my shop', 2468),\n",
       " ('98155 contact', 2466)]"
      ]
     },
     "execution_count": 341,
     "metadata": {},
     "output_type": "execute_result"
    }
   ],
   "source": [
    "pl = gl.text_analytics.count_ngrams(phones['description'], 2)\n",
    "c = Counter()\n",
    "for row in pl: \n",
    "    for key, value in row.iteritems():\n",
    "        c[key] += value\n",
    "c.most_common(50)"
   ]
  },
  {
   "cell_type": "code",
   "execution_count": 339,
   "metadata": {
    "collapsed": false,
    "scrolled": true
   },
   "outputs": [
    {
     "data": {
      "text/plain": [
       "[('brand new', 1333),\n",
       " ('women s', 964),\n",
       " ('men s', 809),\n",
       " ('fisher price', 763),\n",
       " ('car seat', 684),\n",
       " ('wedding dress', 656),\n",
       " ('size 8', 637),\n",
       " ('baby girl', 636),\n",
       " ('north face', 614),\n",
       " ('size 10', 588),\n",
       " ('size 6', 570),\n",
       " ('true religion', 564),\n",
       " ('prom dress', 554),\n",
       " ('dress size', 500),\n",
       " ('leather jacket', 481),\n",
       " ('michael kors', 422),\n",
       " ('size 9', 405),\n",
       " ('size 7', 400),\n",
       " ('baby boy', 397),\n",
       " ('size 4', 390),\n",
       " ('size 12', 384),\n",
       " ('size 5', 384),\n",
       " ('jeans size', 373),\n",
       " ('miss me', 331),\n",
       " ('diaper bag', 330),\n",
       " ('air jordan', 326),\n",
       " ('shoes size', 322),\n",
       " ('0 3', 316),\n",
       " ('3 6', 316),\n",
       " ('carter s', 315)]"
      ]
     },
     "execution_count": 339,
     "metadata": {},
     "output_type": "execute_result"
    }
   ],
   "source": [
    "pl = gl.text_analytics.count_ngrams(apparel['title'], 2)\n",
    "c = Counter()\n",
    "for row in pl: \n",
    "    for key, value in row.iteritems():\n",
    "        c[key] += value\n",
    "c.most_common(30)"
   ]
  },
  {
   "cell_type": "code",
   "execution_count": 318,
   "metadata": {
    "collapsed": false
   },
   "outputs": [
    {
     "data": {
      "text/plain": [
       "['vtech home', 'home phone']"
      ]
     },
     "execution_count": 318,
     "metadata": {},
     "output_type": "execute_result"
    }
   ],
   "source": [
    "pl[0].keys()"
   ]
  },
  {
   "cell_type": "code",
   "execution_count": null,
   "metadata": {
    "collapsed": true
   },
   "outputs": [],
   "source": []
  },
  {
   "cell_type": "code",
   "execution_count": 264,
   "metadata": {
    "collapsed": false
   },
   "outputs": [],
   "source": [
    "apparel_model = gl.nearest_neighbors.create(apparel_category,features=['deep_features'],label='id')\n",
    "house_model = gl.nearest_neighbors.create(house_category,features=['deep_features'],label='id')\n",
    "phone_model = gl.nearest_neighbors.create(phone_category,features=['deep_features'],label='id')"
   ]
  },
  {
   "cell_type": "markdown",
   "metadata": {},
   "source": [
    "Add additional features for each category from title and description."
   ]
  },
  {
   "cell_type": "code",
   "execution_count": null,
   "metadata": {
    "collapsed": true
   },
   "outputs": [],
   "source": []
  },
  {
   "cell_type": "code",
   "execution_count": null,
   "metadata": {
    "collapsed": true
   },
   "outputs": [],
   "source": []
  },
  {
   "cell_type": "code",
   "execution_count": null,
   "metadata": {
    "collapsed": true
   },
   "outputs": [],
   "source": [
    "## TF/IDF\n",
    "    #vectorizer1 = TfidfVectorizer(encoding='english',\n",
    "    #                            stop_words='english',\n",
    "    #                            strip_accents=\"ascii\",\n",
    "    #                          # token_pattern=r'\\w{3,}',\n",
    "    #                           max_features=100)\n",
    "\n",
    "    text_vec = df['description'].apply(lambda x: BeautifulSoup(x, 'lxml').get_text())\n",
    "    text_vec1 = zip(text_vec, df['name'], df['org_name'], df['payee_name'], df['org_desc'])\n",
    "    text_vec1 = [ ''.join(ln) for ln in text_vec1]\n",
    "    count_char = pd.Series(text_vec1)\n",
    "    df[\"Numberof!\"]    = count_char.apply(lambda x: x.count(\"!\"))\n",
    "    df[\"NumberofCaps\"] = count_char.apply(lambda x: sum(1 for c in x if c.isupper()))\n",
    "    \n",
    "    tfidf_vec = joblib.load(tfidf_file)\n",
    "\n",
    "    r       = tfidf_vec.transform(text_vec1)\n",
    "    columns = tfidf_vec.get_feature_names()\n",
    "    columns = [ 'tfidf_'+c for c in columns]\n",
    "    temp    = pd.DataFrame(r.toarray(),columns=columns)\n"
   ]
  },
  {
   "cell_type": "code",
   "execution_count": null,
   "metadata": {
    "collapsed": true
   },
   "outputs": [],
   "source": [
    "from sklearn.cross_validation import train_test_split\n",
    "from sklearn.linear_model import LogisticRegression\n",
    "X_train, X_test, y_train, y_test = train_test_split(\n",
    "    X, y, random_state=55)"
   ]
  },
  {
   "cell_type": "code",
   "execution_count": 40,
   "metadata": {
    "collapsed": false
   },
   "outputs": [
    {
     "data": {
      "text/plain": [
       "450000.0"
      ]
     },
     "execution_count": 40,
     "metadata": {},
     "output_type": "execute_result"
    }
   ],
   "source": [
    "max(phones_category.price)"
   ]
  },
  {
   "cell_type": "code",
   "execution_count": 39,
   "metadata": {
    "collapsed": false
   },
   "outputs": [
    {
     "data": {
      "text/plain": [
       "0.1        10.000000\n",
       "0.5       149.000000\n",
       "1.0    449937.411249\n",
       "Name: price, dtype: float64"
      ]
     },
     "execution_count": 39,
     "metadata": {},
     "output_type": "execute_result"
    }
   ],
   "source": [
    "phones_category.price.quantile([.1, .5, .99999999])"
   ]
  },
  {
   "cell_type": "code",
   "execution_count": 25,
   "metadata": {
    "collapsed": false
   },
   "outputs": [
    {
     "data": {
      "text/plain": [
       "14307"
      ]
     },
     "execution_count": 25,
     "metadata": {},
     "output_type": "execute_result"
    }
   ],
   "source": [
    "len(phones_category)"
   ]
  },
  {
   "cell_type": "code",
   "execution_count": null,
   "metadata": {
    "collapsed": true
   },
   "outputs": [],
   "source": []
  },
  {
   "cell_type": "code",
   "execution_count": null,
   "metadata": {
    "collapsed": true
   },
   "outputs": [],
   "source": []
  },
  {
   "cell_type": "code",
   "execution_count": null,
   "metadata": {
    "collapsed": true
   },
   "outputs": [],
   "source": []
  },
  {
   "cell_type": "code",
   "execution_count": null,
   "metadata": {
    "collapsed": true
   },
   "outputs": [],
   "source": []
  },
  {
   "cell_type": "code",
   "execution_count": null,
   "metadata": {
    "collapsed": true
   },
   "outputs": [],
   "source": []
  },
  {
   "cell_type": "code",
   "execution_count": null,
   "metadata": {
    "collapsed": true
   },
   "outputs": [],
   "source": []
  }
 ],
 "metadata": {
  "kernelspec": {
   "display_name": "Python 2",
   "language": "python",
   "name": "python2"
  },
  "language_info": {
   "codemirror_mode": {
    "name": "ipython",
    "version": 2
   },
   "file_extension": ".py",
   "mimetype": "text/x-python",
   "name": "python",
   "nbconvert_exporter": "python",
   "pygments_lexer": "ipython2",
   "version": "2.7.11"
  }
 },
 "nbformat": 4,
 "nbformat_minor": 0
}
