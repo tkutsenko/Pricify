{
 "cells": [
  {
   "cell_type": "markdown",
   "metadata": {},
   "source": [
    "## Capstone project Pricify"
   ]
  },
  {
   "cell_type": "markdown",
   "metadata": {},
   "source": [
    "#### Business Understanding"
   ]
  },
  {
   "cell_type": "markdown",
   "metadata": {},
   "source": [
    "The goal is to build a model to predict a price for item by picture. As OfferUp says that \"With a single snap, you can take a photo of an item and instantly circulate it to people nearby.\", it sounds interesting to suggest the price, so you can take a photo of item and decide either you should sell it or not."
   ]
  },
  {
   "cell_type": "markdown",
   "metadata": {},
   "source": [
    "### Data Understanding"
   ]
  },
  {
   "cell_type": "markdown",
   "metadata": {},
   "source": [
    "OfferUp scraping"
   ]
  },
  {
   "cell_type": "markdown",
   "metadata": {},
   "source": [
    "scrap_offerup.rb  - HTTP Request to https://offerupnow.com/ and scrap the recent offers page by page until the date limit was reached. Each offer was stored into file in JSON format. \n",
    "\n",
    "normalize_scraped.rb - Spliting and combining offers into 3 JSON files, I got:\n",
    "offerup-data\n",
    "* items.json 605 Mb ? items\n",
    "* owners.json 141.2 Mb ? item owners\n",
    "* images.json 214.1 Mb ? links to item images\n",
    "\n",
    "offerup-images - 3 size of images organizes into subfolders with offer-id name.\n",
    "* detail\n",
    "* full\n",
    "* list\n",
    "\n",
    "\n",
    "\n",
    "Где скрип для картинок?!"
   ]
  },
  {
   "cell_type": "markdown",
   "metadata": {},
   "source": [
    "TODO: Add scrip run command"
   ]
  },
  {
   "cell_type": "code",
   "execution_count": 1,
   "metadata": {
    "collapsed": false
   },
   "outputs": [],
   "source": [
    "import pandas as pd\n",
    "import matplotlib\n",
    "%matplotlib inline"
   ]
  },
  {
   "cell_type": "code",
   "execution_count": 2,
   "metadata": {
    "collapsed": true
   },
   "outputs": [],
   "source": [
    "df = pd.read_json('../data/items.json')"
   ]
  },
  {
   "cell_type": "code",
   "execution_count": 3,
   "metadata": {
    "collapsed": true
   },
   "outputs": [],
   "source": [
    "cdf = df.copy()"
   ]
  },
  {
   "cell_type": "code",
   "execution_count": 4,
   "metadata": {
    "collapsed": false
   },
   "outputs": [
    {
     "data": {
      "text/plain": [
       "(380107, 34)"
      ]
     },
     "execution_count": 4,
     "metadata": {},
     "output_type": "execute_result"
    }
   ],
   "source": [
    "df.shape"
   ]
  },
  {
   "cell_type": "code",
   "execution_count": 5,
   "metadata": {
    "collapsed": false
   },
   "outputs": [
    {
     "data": {
      "text/html": [
       "<div>\n",
       "<table border=\"1\" class=\"dataframe\">\n",
       "  <thead>\n",
       "    <tr style=\"text-align: right;\">\n",
       "      <th></th>\n",
       "      <th>category</th>\n",
       "      <th>condition</th>\n",
       "      <th>description</th>\n",
       "      <th>distance</th>\n",
       "      <th>get_full_url</th>\n",
       "      <th>get_img_medium_height</th>\n",
       "      <th>get_img_medium_width</th>\n",
       "      <th>get_img_permalink_large</th>\n",
       "      <th>get_img_permalink_medium</th>\n",
       "      <th>get_img_permalink_small</th>\n",
       "      <th>...</th>\n",
       "      <th>post_from_store_address</th>\n",
       "      <th>price</th>\n",
       "      <th>priority</th>\n",
       "      <th>reservable</th>\n",
       "      <th>reserved</th>\n",
       "      <th>review_status</th>\n",
       "      <th>sold_date</th>\n",
       "      <th>sold_offer_id</th>\n",
       "      <th>state</th>\n",
       "      <th>title</th>\n",
       "    </tr>\n",
       "  </thead>\n",
       "  <tbody>\n",
       "    <tr>\n",
       "      <th>0</th>\n",
       "      <td>{u'id': 2, u'name': u'Household'}</td>\n",
       "      <td>40</td>\n",
       "      <td>Colorful mosaic that brightens up a room! 1.5'...</td>\n",
       "      <td>15</td>\n",
       "      <td>https://offerupnow.com/item/detail/96366652/fl...</td>\n",
       "      <td>400</td>\n",
       "      <td>300</td>\n",
       "      <td>https://d2j6tswx2otu6e.cloudfront.net/V_DoSoMA...</td>\n",
       "      <td>https://d2j6tswx2otu6e.cloudfront.net/8toAz7Tj...</td>\n",
       "      <td>https://d2j6tswx2otu6e.cloudfront.net/KPORxbgy...</td>\n",
       "      <td>...</td>\n",
       "      <td>Lynnwood, WA</td>\n",
       "      <td>10</td>\n",
       "      <td>100</td>\n",
       "      <td>False</td>\n",
       "      <td>False</td>\n",
       "      <td>2</td>\n",
       "      <td>None</td>\n",
       "      <td>NaN</td>\n",
       "      <td>3</td>\n",
       "      <td>Fleur d' lys mosaic artwork</td>\n",
       "    </tr>\n",
       "    <tr>\n",
       "      <th>1</th>\n",
       "      <td>{u'id': 13, u'name': u'Beauty &amp; Health'}</td>\n",
       "      <td>100</td>\n",
       "      <td>2 NYX Avant Pop Palettes. Has 10 different eye...</td>\n",
       "      <td>15</td>\n",
       "      <td>https://offerupnow.com/item/detail/96366557/ny...</td>\n",
       "      <td>400</td>\n",
       "      <td>300</td>\n",
       "      <td>https://d2j6tswx2otu6e.cloudfront.net/lv6RLzOC...</td>\n",
       "      <td>https://d2j6tswx2otu6e.cloudfront.net/z0pDlQul...</td>\n",
       "      <td>https://d2j6tswx2otu6e.cloudfront.net/OujFPQXl...</td>\n",
       "      <td>...</td>\n",
       "      <td>Lynnwood, WA</td>\n",
       "      <td>25</td>\n",
       "      <td>100</td>\n",
       "      <td>False</td>\n",
       "      <td>False</td>\n",
       "      <td>2</td>\n",
       "      <td>None</td>\n",
       "      <td>NaN</td>\n",
       "      <td>3</td>\n",
       "      <td>NYX Avant Pop Palettes</td>\n",
       "    </tr>\n",
       "    <tr>\n",
       "      <th>2</th>\n",
       "      <td>{u'id': 3, u'name': u'General'}</td>\n",
       "      <td>40</td>\n",
       "      <td>Size 28 only put on once very nice jeans</td>\n",
       "      <td>18</td>\n",
       "      <td>https://offerupnow.com/item/detail/96366541/mi...</td>\n",
       "      <td>225</td>\n",
       "      <td>300</td>\n",
       "      <td>https://d2j6tswx2otu6e.cloudfront.net/gY13xLL9...</td>\n",
       "      <td>https://d2j6tswx2otu6e.cloudfront.net/-5KLMMcI...</td>\n",
       "      <td>https://d2j6tswx2otu6e.cloudfront.net/Zqk9QmT3...</td>\n",
       "      <td>...</td>\n",
       "      <td>Lynnwood, WA</td>\n",
       "      <td>60</td>\n",
       "      <td>100</td>\n",
       "      <td>False</td>\n",
       "      <td>False</td>\n",
       "      <td>2</td>\n",
       "      <td>None</td>\n",
       "      <td>NaN</td>\n",
       "      <td>3</td>\n",
       "      <td>Miss Me jeans</td>\n",
       "    </tr>\n",
       "    <tr>\n",
       "      <th>3</th>\n",
       "      <td>{u'id': 3, u'name': u'General'}</td>\n",
       "      <td>40</td>\n",
       "      <td>Red justice jean shorts</td>\n",
       "      <td>4</td>\n",
       "      <td>https://offerupnow.com/item/detail/96366520/re...</td>\n",
       "      <td>400</td>\n",
       "      <td>300</td>\n",
       "      <td>https://d2j6tswx2otu6e.cloudfront.net/e7zVb3QB...</td>\n",
       "      <td>https://d2j6tswx2otu6e.cloudfront.net/_Sm3yKZR...</td>\n",
       "      <td>https://d2j6tswx2otu6e.cloudfront.net/ge9ot77Y...</td>\n",
       "      <td>...</td>\n",
       "      <td>Lake Stevens, WA</td>\n",
       "      <td>3</td>\n",
       "      <td>100</td>\n",
       "      <td>False</td>\n",
       "      <td>False</td>\n",
       "      <td>2</td>\n",
       "      <td>None</td>\n",
       "      <td>NaN</td>\n",
       "      <td>3</td>\n",
       "      <td>red Justice jeans shorts</td>\n",
       "    </tr>\n",
       "    <tr>\n",
       "      <th>4</th>\n",
       "      <td>{u'id': 1, u'name': u'Electronics'}</td>\n",
       "      <td>40</td>\n",
       "      <td>Great condition</td>\n",
       "      <td>26</td>\n",
       "      <td>https://offerupnow.com/item/detail/96366471/su...</td>\n",
       "      <td>400</td>\n",
       "      <td>300</td>\n",
       "      <td>https://d2j6tswx2otu6e.cloudfront.net/OqwfY7Q7...</td>\n",
       "      <td>https://d2j6tswx2otu6e.cloudfront.net/v0gyLUF5...</td>\n",
       "      <td>https://d2j6tswx2otu6e.cloudfront.net/UaGTB7eA...</td>\n",
       "      <td>...</td>\n",
       "      <td>Seattle, WA</td>\n",
       "      <td>400</td>\n",
       "      <td>100</td>\n",
       "      <td>False</td>\n",
       "      <td>False</td>\n",
       "      <td>2</td>\n",
       "      <td>None</td>\n",
       "      <td>NaN</td>\n",
       "      <td>3</td>\n",
       "      <td>Surface pro 3 128gb</td>\n",
       "    </tr>\n",
       "  </tbody>\n",
       "</table>\n",
       "<p>5 rows × 34 columns</p>\n",
       "</div>"
      ],
      "text/plain": [
       "                                   category  condition  \\\n",
       "0         {u'id': 2, u'name': u'Household'}         40   \n",
       "1  {u'id': 13, u'name': u'Beauty & Health'}        100   \n",
       "2           {u'id': 3, u'name': u'General'}         40   \n",
       "3           {u'id': 3, u'name': u'General'}         40   \n",
       "4       {u'id': 1, u'name': u'Electronics'}         40   \n",
       "\n",
       "                                         description  distance  \\\n",
       "0  Colorful mosaic that brightens up a room! 1.5'...        15   \n",
       "1  2 NYX Avant Pop Palettes. Has 10 different eye...        15   \n",
       "2           Size 28 only put on once very nice jeans        18   \n",
       "3                            Red justice jean shorts         4   \n",
       "4                                    Great condition        26   \n",
       "\n",
       "                                        get_full_url  get_img_medium_height  \\\n",
       "0  https://offerupnow.com/item/detail/96366652/fl...                    400   \n",
       "1  https://offerupnow.com/item/detail/96366557/ny...                    400   \n",
       "2  https://offerupnow.com/item/detail/96366541/mi...                    225   \n",
       "3  https://offerupnow.com/item/detail/96366520/re...                    400   \n",
       "4  https://offerupnow.com/item/detail/96366471/su...                    400   \n",
       "\n",
       "   get_img_medium_width                            get_img_permalink_large  \\\n",
       "0                   300  https://d2j6tswx2otu6e.cloudfront.net/V_DoSoMA...   \n",
       "1                   300  https://d2j6tswx2otu6e.cloudfront.net/lv6RLzOC...   \n",
       "2                   300  https://d2j6tswx2otu6e.cloudfront.net/gY13xLL9...   \n",
       "3                   300  https://d2j6tswx2otu6e.cloudfront.net/e7zVb3QB...   \n",
       "4                   300  https://d2j6tswx2otu6e.cloudfront.net/OqwfY7Q7...   \n",
       "\n",
       "                            get_img_permalink_medium  \\\n",
       "0  https://d2j6tswx2otu6e.cloudfront.net/8toAz7Tj...   \n",
       "1  https://d2j6tswx2otu6e.cloudfront.net/z0pDlQul...   \n",
       "2  https://d2j6tswx2otu6e.cloudfront.net/-5KLMMcI...   \n",
       "3  https://d2j6tswx2otu6e.cloudfront.net/_Sm3yKZR...   \n",
       "4  https://d2j6tswx2otu6e.cloudfront.net/v0gyLUF5...   \n",
       "\n",
       "                             get_img_permalink_small  \\\n",
       "0  https://d2j6tswx2otu6e.cloudfront.net/KPORxbgy...   \n",
       "1  https://d2j6tswx2otu6e.cloudfront.net/OujFPQXl...   \n",
       "2  https://d2j6tswx2otu6e.cloudfront.net/Zqk9QmT3...   \n",
       "3  https://d2j6tswx2otu6e.cloudfront.net/ge9ot77Y...   \n",
       "4  https://d2j6tswx2otu6e.cloudfront.net/UaGTB7eA...   \n",
       "\n",
       "              ...               post_from_store_address  price priority  \\\n",
       "0             ...                          Lynnwood, WA     10      100   \n",
       "1             ...                          Lynnwood, WA     25      100   \n",
       "2             ...                          Lynnwood, WA     60      100   \n",
       "3             ...                      Lake Stevens, WA      3      100   \n",
       "4             ...                           Seattle, WA    400      100   \n",
       "\n",
       "   reservable reserved review_status sold_date  sold_offer_id  state  \\\n",
       "0       False    False             2      None            NaN      3   \n",
       "1       False    False             2      None            NaN      3   \n",
       "2       False    False             2      None            NaN      3   \n",
       "3       False    False             2      None            NaN      3   \n",
       "4       False    False             2      None            NaN      3   \n",
       "\n",
       "                         title  \n",
       "0  Fleur d' lys mosaic artwork  \n",
       "1       NYX Avant Pop Palettes  \n",
       "2                Miss Me jeans  \n",
       "3     red Justice jeans shorts  \n",
       "4          Surface pro 3 128gb  \n",
       "\n",
       "[5 rows x 34 columns]"
      ]
     },
     "execution_count": 5,
     "metadata": {},
     "output_type": "execute_result"
    }
   ],
   "source": [
    "df.head()"
   ]
  },
  {
   "cell_type": "code",
   "execution_count": 6,
   "metadata": {
    "collapsed": true
   },
   "outputs": [],
   "source": [
    "sample = df.sample(100)"
   ]
  },
  {
   "cell_type": "code",
   "execution_count": 7,
   "metadata": {
    "collapsed": false
   },
   "outputs": [
    {
     "data": {
      "text/plain": [
       "(100, 34)"
      ]
     },
     "execution_count": 7,
     "metadata": {},
     "output_type": "execute_result"
    }
   ],
   "source": [
    "sample.shape"
   ]
  },
  {
   "cell_type": "code",
   "execution_count": 8,
   "metadata": {
    "collapsed": false
   },
   "outputs": [
    {
     "name": "stdout",
     "output_type": "stream",
     "text": [
      "<class 'pandas.core.frame.DataFrame'>\n",
      "Int64Index: 380107 entries, 0 to 380106\n",
      "Data columns (total 34 columns):\n",
      "category                      380107 non-null object\n",
      "condition                     380107 non-null int64\n",
      "description                   380107 non-null object\n",
      "distance                      380107 non-null int64\n",
      "get_full_url                  380107 non-null object\n",
      "get_img_medium_height         380107 non-null int64\n",
      "get_img_medium_width          380107 non-null int64\n",
      "get_img_permalink_large       380107 non-null object\n",
      "get_img_permalink_medium      380107 non-null object\n",
      "get_img_permalink_small       380107 non-null object\n",
      "get_img_small_height          380107 non-null int64\n",
      "get_img_small_width           380107 non-null int64\n",
      "get_small_square_thumbanil    380107 non-null object\n",
      "id                            380107 non-null int64\n",
      "image                         159857 non-null object\n",
      "image_mob_det_hd              380107 non-null object\n",
      "image_mob_list_hd             380107 non-null object\n",
      "latitude                      380107 non-null float64\n",
      "listing_type                  380107 non-null int64\n",
      "location_name                 380107 non-null object\n",
      "longitude                     380107 non-null float64\n",
      "owner_id                      380107 non-null int64\n",
      "payable                       380107 non-null bool\n",
      "post_date                     380107 non-null object\n",
      "post_from_store_address       377435 non-null object\n",
      "price                         380107 non-null float64\n",
      "priority                      380107 non-null int64\n",
      "reservable                    380107 non-null bool\n",
      "reserved                      380107 non-null bool\n",
      "review_status                 285697 non-null float64\n",
      "sold_date                     6486 non-null object\n",
      "sold_offer_id                 3862 non-null float64\n",
      "state                         380107 non-null int64\n",
      "title                         380107 non-null object\n",
      "dtypes: bool(3), float64(5), int64(11), object(15)\n",
      "memory usage: 93.9+ MB\n"
     ]
    }
   ],
   "source": [
    "df.info()"
   ]
  },
  {
   "cell_type": "markdown",
   "metadata": {},
   "source": [
    "### Data Preparation"
   ]
  },
  {
   "cell_type": "markdown",
   "metadata": {},
   "source": [
    "Start from item.json. We got 380,107 rows and 34 columns. "
   ]
  },
  {
   "cell_type": "markdown",
   "metadata": {},
   "source": [
    "Columns are: \n",
    "\n",
    "* category - object (calculate how many categories, split into separate table?)\n",
    "* condition\t - int (40, 100 ? looks like categorical)\n",
    "* description - text\n",
    "* distance\t- distance from logged user, not applicable\n",
    "* get_full_url\t- link to offer\n",
    "* get_img_medium_height\t400\n",
    "* get_img_medium_width\t300\n",
    "* get_img_permalink_large\n",
    "* get_img_permalink_medium\n",
    "* get_img_permalink_small\n",
    "* get_img_small_height\n",
    "* get_img_small_width\n",
    "* get_small_square_thumbanil\n",
    "* id\t65194613\n",
    "* image\tNone\n",
    "* image_mob_det_hd\n",
    "* image_mob_list_hd\n",
    "* latitude\t47.8426\n",
    "* listing_type\t2\n",
    "* location_name\tLynnwood, WA\n",
    "* longitude\t-122.295\n",
    "* owner_id\t6787474\n",
    "* payable\tFalse\n",
    "* post_date\t2015-12-19T19:38:50.398Z\n",
    "* post_from_store_address\tLynnwood, WA\n",
    "* price\t25\n",
    "* priority\t100\n",
    "* reservable\tFalse\n",
    "* reserved\tFalse\n",
    "* review_status\t2\n",
    "* sold_date\tNone\n",
    "* sold_offer_id\tNaN\n",
    "* state\t3\n",
    "* title"
   ]
  },
  {
   "cell_type": "markdown",
   "metadata": {},
   "source": [
    "1. Category\n",
    " - category 380107 non-null object - no missing values\n",
    " - Create two features with category data - category_id and category_name"
   ]
  },
  {
   "cell_type": "code",
   "execution_count": 9,
   "metadata": {
    "collapsed": false
   },
   "outputs": [],
   "source": [
    "cdf['category_id'] =  cdf.category.apply(lambda x: int(x['id']))"
   ]
  },
  {
   "cell_type": "code",
   "execution_count": 10,
   "metadata": {
    "collapsed": false
   },
   "outputs": [],
   "source": [
    "cdf['category_name'] =  cdf.category.apply(lambda x: str(x['name']))"
   ]
  },
  {
   "cell_type": "code",
   "execution_count": 73,
   "metadata": {
    "collapsed": false
   },
   "outputs": [],
   "source": [
    "cat_counts = cdf['category_name'].value_counts()"
   ]
  },
  {
   "cell_type": "code",
   "execution_count": 76,
   "metadata": {
    "collapsed": false
   },
   "outputs": [
    {
     "data": {
      "text/plain": [
       "37"
      ]
     },
     "execution_count": 76,
     "metadata": {},
     "output_type": "execute_result"
    }
   ],
   "source": [
    "len(cat_counts)"
   ]
  },
  {
   "cell_type": "code",
   "execution_count": 93,
   "metadata": {
    "collapsed": false,
    "scrolled": false
   },
   "outputs": [
    {
     "data": {
      "text/plain": [
       "Baby & Kids              46130\n",
       "Clothing & Shoes         33174\n",
       "Furniture                30387\n",
       "Jewelry & Accessories    29923\n",
       "General                  28770\n",
       "Household                27960\n",
       "Cell Phones              19568\n",
       "Electronics              18968\n",
       "Collectibles             14783\n",
       "Sports & Outdoors        13881\n",
       "Home & Garden            12230\n",
       "Cars & Trucks            11199\n",
       "Auto Parts               10711\n",
       "Games & Toys             10312\n",
       "Beauty & Health           8298\n",
       "Tools & Machinery         8198\n",
       "Arts & Crafts             6933\n",
       "Antiques                  5860\n",
       "Appliances                5716\n",
       "Computer Equipment        4772\n",
       "Audio Equipment           4673\n",
       "Video Games               4000\n",
       "Bicycles                  3551\n",
       "Motorcycles               3278\n",
       "Pet Supplies              2987\n",
       "Musical Instruments       2741\n",
       "Photography               1978\n",
       "TVs                       1863\n",
       "Boats & Marine            1490\n",
       "Business Equipment        1431\n",
       "CDs & DVDs                1219\n",
       "Farming                    620\n",
       "Campers & RVs              555\n",
       "Books & Magazines          532\n",
       "Tickets                    506\n",
       "Video Equipment            496\n",
       "Computer Software          414\n",
       "Name: category_name, dtype: int64"
      ]
     },
     "execution_count": 93,
     "metadata": {},
     "output_type": "execute_result"
    }
   ],
   "source": [
    "cat_counts"
   ]
  },
  {
   "cell_type": "markdown",
   "metadata": {},
   "source": [
    "So, we have 37 categories of items"
   ]
  },
  {
   "cell_type": "code",
   "execution_count": 92,
   "metadata": {
    "collapsed": false
   },
   "outputs": [
    {
     "data": {
      "text/plain": [
       "<matplotlib.axes._subplots.AxesSubplot at 0x110a1e710>"
      ]
     },
     "execution_count": 92,
     "metadata": {},
     "output_type": "execute_result"
    },
    {
     "data": {
      "image/png": "[encoded data removed]",
      "text/plain": [
       "<matplotlib.figure.Figure at 0x113d3da50>"
      ]
     },
     "metadata": {},
     "output_type": "display_data"
    }
   ],
   "source": [
    "cat_counts.plot(kind='density')"
   ]
  },
  {
   "cell_type": "markdown",
   "metadata": {},
   "source": [
    "1. Condition\n",
    "- condition 380107 non-null int64 - no missing values\n",
    "- value range: [0, 20, 40, 60, 80, 100], so it looks like categorical.\n",
    "- Create 6 features with conditions"
   ]
  },
  {
   "cell_type": "code",
   "execution_count": 101,
   "metadata": {
    "collapsed": false
   },
   "outputs": [],
   "source": [
    "condition_counts = cdf['condition'].value_counts()"
   ]
  },
  {
   "cell_type": "code",
   "execution_count": 102,
   "metadata": {
    "collapsed": false
   },
   "outputs": [
    {
     "data": {
      "text/plain": [
       "40     268919\n",
       "100     71506\n",
       "60      24276\n",
       "80       9918\n",
       "0        4423\n",
       "20       1065\n",
       "Name: condition, dtype: int64"
      ]
     },
     "execution_count": 102,
     "metadata": {},
     "output_type": "execute_result"
    }
   ],
   "source": [
    "condition_counts"
   ]
  },
  {
   "cell_type": "code",
   "execution_count": 113,
   "metadata": {
    "collapsed": false
   },
   "outputs": [
    {
     "data": {
      "text/plain": [
       "<matplotlib.axes._subplots.AxesSubplot at 0x113e68190>"
      ]
     },
     "execution_count": 113,
     "metadata": {},
     "output_type": "execute_result"
    },
    {
     "data": {
      "image/png": "[encoded data removed]",
      "text/plain": [
       "<matplotlib.figure.Figure at 0x110990650>"
      ]
     },
     "metadata": {},
     "output_type": "display_data"
    }
   ],
   "source": [
    "condition_counts.plot(kind='density')"
   ]
  },
  {
   "cell_type": "code",
   "execution_count": 112,
   "metadata": {
    "collapsed": false
   },
   "outputs": [],
   "source": [
    "for i in  [0, 20, 40, 60, 80, 100]:\n",
    "    cdf['condition_' + str(i)] =  cdf.condition.apply(lambda x: 1 if x == i else 0 )"
   ]
  },
  {
   "cell_type": "code",
   "execution_count": null,
   "metadata": {
    "collapsed": false
   },
   "outputs": [],
   "source": []
  },
  {
   "cell_type": "code",
   "execution_count": null,
   "metadata": {
    "collapsed": true
   },
   "outputs": [],
   "source": []
  }
 ],
 "metadata": {
  "kernelspec": {
   "display_name": "Python 2",
   "language": "python",
   "name": "python2"
  },
  "language_info": {
   "codemirror_mode": {
    "name": "ipython",
    "version": 2
   },
   "file_extension": ".py",
   "mimetype": "text/x-python",
   "name": "python",
   "nbconvert_exporter": "python",
   "pygments_lexer": "ipython2",
   "version": "2.7.11"
  }
 },
 "nbformat": 4,
 "nbformat_minor": 0
}
