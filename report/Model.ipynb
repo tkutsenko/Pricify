{
 "cells": [
  {
   "cell_type": "markdown",
   "metadata": {},
   "source": [
    "# Price for OfferUp"
   ]
  },
  {
   "cell_type": "code",
   "execution_count": 1,
   "metadata": {
    "collapsed": false
   },
   "outputs": [],
   "source": [
    "import graphlab\n",
    "import re, string\n",
    "import graphlab.aggregate as agg\n",
    "graphlab.canvas.set_target('ipynb')"
   ]
  },
  {
   "cell_type": "markdown",
   "metadata": {},
   "source": [
    "## Load image analysis datasets\n",
    "\n",
    "I've reduced the data to 6 categories in 3 groups: phones, home (Furniture, Household, Home & Garden), apparel (Baby & Kids, Clothing & Shoes) \n",
    "This dataset is already split into a training set and test set (80/20)."
   ]
  },
  {
   "cell_type": "code",
   "execution_count": 2,
   "metadata": {
    "collapsed": false
   },
   "outputs": [
    {
     "name": "stdout",
     "output_type": "stream",
     "text": [
      "This non-commercial license of GraphLab Create is assigned to fpanasenko@gmail.com and will expire on April 01, 2017. For commercial licensing options, visit https://dato.com/buy/.\n"
     ]
    },
    {
     "name": "stderr",
     "output_type": "stream",
     "text": [
      "2016-04-19 17:29:00,004 [INFO] graphlab.cython.cy_server, 176: GraphLab Create v1.8.5 started. Logging: /tmp/graphlab_server_1461086938.log\n"
     ]
    }
   ],
   "source": [
    "phones_train = graphlab.load_sframe('../../data/models/phones_train')\n",
    "phones_test = graphlab.load_sframe('../../data/models/phones_test')\n",
    "\n",
    "home_train = graphlab.load_sframe('../../data/models/home_train')\n",
    "home_test = graphlab.load_sframe('../../data/models/home_test')\n",
    "\n",
    "apparel_train = graphlab.load_sframe('../../data/models/apparel_train')\n",
    "apparel_test = graphlab.load_sframe('../../data/models/apparel_test')"
   ]
  },
  {
   "cell_type": "markdown",
   "metadata": {},
   "source": [
    "### Features"
   ]
  },
  {
   "cell_type": "code",
   "execution_count": 3,
   "metadata": {
    "collapsed": false
   },
   "outputs": [],
   "source": [
    "features_lst = ['id', 'category_id', 'category_name', 'count_words', 'tfidf', 'image', 'deep_features','price']\n",
    "\n",
    "def features(sf):\n",
    "    # Make price float from string\n",
    "    sf['price'] = sf['price'].astype(float)\n",
    "    #Remove outliers\n",
    "    sf = sf[sf['price'] < 1500]\n",
    "    \n",
    "    # Combine words from title and description\n",
    "    sf['words'] = sf['title'] + ' ' + sf['description']\n",
    "    # Remove punctuation\n",
    "    regex = re.compile('[%s]' % re.escape(string.punctuation))\n",
    "    sf['words'] = sf['words'].apply(lambda x: regex.sub('', x))\n",
    "    #Ttransforms row into an ordered list of strings that represents the a simpler version of the \n",
    "    #Penn-Tree-Bank-style (PTB-style) tokenization\n",
    "    sf['words'] = graphlab.text_analytics.tokenize(sf['words'])\n",
    "\n",
    "    #Bag-of-words\n",
    "    sf['count_words'] = graphlab.text_analytics.count_words(sf['words'])\n",
    "    #Text cleaning. Remove stop words.\n",
    "    sf['count_words'] = sf['count_words'].dict_trim_by_keys(graphlab.text_analytics.stopwords(), exclude=True)\n",
    "    #TF-IDF (term frequency - inverse document frequency)\n",
    "    sf['tfidf'] = graphlab.text_analytics.tf_idf(sf['count_words'])\n",
    "    \n",
    "    return sf.select_columns(features_lst)"
   ]
  },
  {
   "cell_type": "code",
   "execution_count": 4,
   "metadata": {
    "collapsed": false
   },
   "outputs": [
    {
     "data": {
      "text/html": [
       "<pre>Using default 16 lambda workers.</pre>"
      ],
      "text/plain": [
       "Using default 16 lambda workers."
      ]
     },
     "metadata": {},
     "output_type": "display_data"
    },
    {
     "data": {
      "text/html": [
       "<pre>To maximize the degree of parallelism, add the following code to the beginning of the program:</pre>"
      ],
      "text/plain": [
       "To maximize the degree of parallelism, add the following code to the beginning of the program:"
      ]
     },
     "metadata": {},
     "output_type": "display_data"
    },
    {
     "data": {
      "text/html": [
       "<pre>\"graphlab.set_runtime_config('GRAPHLAB_DEFAULT_NUM_PYLAMBDA_WORKERS', 36)\"</pre>"
      ],
      "text/plain": [
       "\"graphlab.set_runtime_config('GRAPHLAB_DEFAULT_NUM_PYLAMBDA_WORKERS', 36)\""
      ]
     },
     "metadata": {},
     "output_type": "display_data"
    },
    {
     "data": {
      "text/html": [
       "<pre>Note that increasing the degree of parallelism also increases the memory footprint.</pre>"
      ],
      "text/plain": [
       "Note that increasing the degree of parallelism also increases the memory footprint."
      ]
     },
     "metadata": {},
     "output_type": "display_data"
    }
   ],
   "source": [
    "phones_train = features(phones_train)\n",
    "home_train = features(home_train)\n",
    "apparel_train = features(apparel_train)\n",
    "phones_test = features(phones_test)\n",
    "home_test = features(home_test)\n",
    "apparel_test = features(apparel_test)"
   ]
  },
  {
   "cell_type": "markdown",
   "metadata": {},
   "source": [
    "## Work with title and description"
   ]
  },
  {
   "cell_type": "markdown",
   "metadata": {},
   "source": [
    "I use Topic models from GraphLab Create to generate topic by title and description"
   ]
  },
  {
   "cell_type": "code",
   "execution_count": 6,
   "metadata": {
    "collapsed": false
   },
   "outputs": [
    {
     "data": {
      "text/html": [
       "<pre>Learning a topic model</pre>"
      ],
      "text/plain": [
       "Learning a topic model"
      ]
     },
     "metadata": {},
     "output_type": "display_data"
    },
    {
     "data": {
      "text/html": [
       "<pre>       Number of documents     68471</pre>"
      ],
      "text/plain": [
       "       Number of documents     68471"
      ]
     },
     "metadata": {},
     "output_type": "display_data"
    },
    {
     "data": {
      "text/html": [
       "<pre>           Vocabulary size     32789</pre>"
      ],
      "text/plain": [
       "           Vocabulary size     32789"
      ]
     },
     "metadata": {},
     "output_type": "display_data"
    },
    {
     "data": {
      "text/html": [
       "<pre>   Running collapsed Gibbs sampling</pre>"
      ],
      "text/plain": [
       "   Running collapsed Gibbs sampling"
      ]
     },
     "metadata": {},
     "output_type": "display_data"
    },
    {
     "data": {
      "text/html": [
       "<pre>+-----------+---------------+----------------+-----------------+</pre>"
      ],
      "text/plain": [
       "+-----------+---------------+----------------+-----------------+"
      ]
     },
     "metadata": {},
     "output_type": "display_data"
    },
    {
     "data": {
      "text/html": [
       "<pre>| Iteration | Elapsed Time  | Tokens/Second  | Est. Perplexity |</pre>"
      ],
      "text/plain": [
       "| Iteration | Elapsed Time  | Tokens/Second  | Est. Perplexity |"
      ]
     },
     "metadata": {},
     "output_type": "display_data"
    },
    {
     "data": {
      "text/html": [
       "<pre>+-----------+---------------+----------------+-----------------+</pre>"
      ],
      "text/plain": [
       "+-----------+---------------+----------------+-----------------+"
      ]
     },
     "metadata": {},
     "output_type": "display_data"
    },
    {
     "data": {
      "text/html": [
       "<pre>| 10        | 2.12s         | 4.13353e+06    | 0               |</pre>"
      ],
      "text/plain": [
       "| 10        | 2.12s         | 4.13353e+06    | 0               |"
      ]
     },
     "metadata": {},
     "output_type": "display_data"
    },
    {
     "data": {
      "text/html": [
       "<pre>| 20        | 3.96s         | 4.45066e+06    | 0               |</pre>"
      ],
      "text/plain": [
       "| 20        | 3.96s         | 4.45066e+06    | 0               |"
      ]
     },
     "metadata": {},
     "output_type": "display_data"
    },
    {
     "data": {
      "text/html": [
       "<pre>| 30        | 5.86s         | 4.43874e+06    | 0               |</pre>"
      ],
      "text/plain": [
       "| 30        | 5.86s         | 4.43874e+06    | 0               |"
      ]
     },
     "metadata": {},
     "output_type": "display_data"
    },
    {
     "data": {
      "text/html": [
       "<pre>| 40        | 7.62s         | 5.5124e+06     | 0               |</pre>"
      ],
      "text/plain": [
       "| 40        | 7.62s         | 5.5124e+06     | 0               |"
      ]
     },
     "metadata": {},
     "output_type": "display_data"
    },
    {
     "data": {
      "text/html": [
       "<pre>| 50        | 9.33s         | 4.56775e+06    | 0               |</pre>"
      ],
      "text/plain": [
       "| 50        | 9.33s         | 4.56775e+06    | 0               |"
      ]
     },
     "metadata": {},
     "output_type": "display_data"
    },
    {
     "data": {
      "text/html": [
       "<pre>| 60        | 11.11s        | 4.90256e+06    | 0               |</pre>"
      ],
      "text/plain": [
       "| 60        | 11.11s        | 4.90256e+06    | 0               |"
      ]
     },
     "metadata": {},
     "output_type": "display_data"
    },
    {
     "data": {
      "text/html": [
       "<pre>| 70        | 12.70s        | 4.49974e+06    | 0               |</pre>"
      ],
      "text/plain": [
       "| 70        | 12.70s        | 4.49974e+06    | 0               |"
      ]
     },
     "metadata": {},
     "output_type": "display_data"
    },
    {
     "data": {
      "text/html": [
       "<pre>| 80        | 14.30s        | 4.74046e+06    | 0               |</pre>"
      ],
      "text/plain": [
       "| 80        | 14.30s        | 4.74046e+06    | 0               |"
      ]
     },
     "metadata": {},
     "output_type": "display_data"
    },
    {
     "data": {
      "text/html": [
       "<pre>| 90        | 16.09s        | 4.54138e+06    | 0               |</pre>"
      ],
      "text/plain": [
       "| 90        | 16.09s        | 4.54138e+06    | 0               |"
      ]
     },
     "metadata": {},
     "output_type": "display_data"
    },
    {
     "data": {
      "text/html": [
       "<pre>| 100       | 17.90s        | 4.4081e+06     | 0               |</pre>"
      ],
      "text/plain": [
       "| 100       | 17.90s        | 4.4081e+06     | 0               |"
      ]
     },
     "metadata": {},
     "output_type": "display_data"
    },
    {
     "data": {
      "text/html": [
       "<pre>+-----------+---------------+----------------+-----------------+</pre>"
      ],
      "text/plain": [
       "+-----------+---------------+----------------+-----------------+"
      ]
     },
     "metadata": {},
     "output_type": "display_data"
    }
   ],
   "source": [
    "# Learn topic model\n",
    "#model = graphlab.topic_model.create(apparel_train['count_words'], num_topics=100, num_iterations=100)"
   ]
  },
  {
   "cell_type": "code",
   "execution_count": null,
   "metadata": {
    "collapsed": true
   },
   "outputs": [],
   "source": [
    "#apparel_train['topic'] = model.predict(apparel_train['count_words'])"
   ]
  },
  {
   "cell_type": "code",
   "execution_count": null,
   "metadata": {
    "collapsed": false
   },
   "outputs": [],
   "source": [
    "#As with other models in GraphLab Create, it's also easy to save and load models.\n",
    "\n",
    "#model.save('my_model')\n",
    "#new_model = graphlab.load_model('my_model')"
   ]
  },
  {
   "cell_type": "markdown",
   "metadata": {},
   "source": [
    "### Evaluating topic models"
   ]
  },
  {
   "cell_type": "code",
   "execution_count": null,
   "metadata": {
    "collapsed": false
   },
   "outputs": [],
   "source": [
    "#model.evaluate(apparel_test['count_words'])"
   ]
  },
  {
   "cell_type": "markdown",
   "metadata": {},
   "source": [
    "Stop on 100 topics with 100 iterations as it gives one of the best results."
   ]
  },
  {
   "cell_type": "code",
   "execution_count": 5,
   "metadata": {
    "collapsed": false
   },
   "outputs": [],
   "source": [
    "# Learn topic model\n",
    "def topic_model(sf):\n",
    "    model = graphlab.topic_model.create(sf['count_words'], num_topics=100, num_iterations=100)\n",
    "    sf['topic'] = model.predict(sf['count_words'])\n",
    "    for i in  xrange(100):\n",
    "        sf['topic_' + str(i)] = sf['topic'].apply(lambda x: (1 if int(x) == i else 0))\n",
    "    return sf"
   ]
  },
  {
   "cell_type": "code",
   "execution_count": 6,
   "metadata": {
    "collapsed": false
   },
   "outputs": [
    {
     "data": {
      "text/html": [
       "<pre>Learning a topic model</pre>"
      ],
      "text/plain": [
       "Learning a topic model"
      ]
     },
     "metadata": {},
     "output_type": "display_data"
    },
    {
     "data": {
      "text/html": [
       "<pre>       Number of documents     15179</pre>"
      ],
      "text/plain": [
       "       Number of documents     15179"
      ]
     },
     "metadata": {},
     "output_type": "display_data"
    },
    {
     "data": {
      "text/html": [
       "<pre>           Vocabulary size      7898</pre>"
      ],
      "text/plain": [
       "           Vocabulary size      7898"
      ]
     },
     "metadata": {},
     "output_type": "display_data"
    },
    {
     "data": {
      "text/html": [
       "<pre>   Running collapsed Gibbs sampling</pre>"
      ],
      "text/plain": [
       "   Running collapsed Gibbs sampling"
      ]
     },
     "metadata": {},
     "output_type": "display_data"
    },
    {
     "data": {
      "text/html": [
       "<pre>+-----------+---------------+----------------+-----------------+</pre>"
      ],
      "text/plain": [
       "+-----------+---------------+----------------+-----------------+"
      ]
     },
     "metadata": {},
     "output_type": "display_data"
    },
    {
     "data": {
      "text/html": [
       "<pre>| Iteration | Elapsed Time  | Tokens/Second  | Est. Perplexity |</pre>"
      ],
      "text/plain": [
       "| Iteration | Elapsed Time  | Tokens/Second  | Est. Perplexity |"
      ]
     },
     "metadata": {},
     "output_type": "display_data"
    },
    {
     "data": {
      "text/html": [
       "<pre>+-----------+---------------+----------------+-----------------+</pre>"
      ],
      "text/plain": [
       "+-----------+---------------+----------------+-----------------+"
      ]
     },
     "metadata": {},
     "output_type": "display_data"
    },
    {
     "data": {
      "text/html": [
       "<pre>| 10        | 953.278ms     | 3.57719e+06    | 0               |</pre>"
      ],
      "text/plain": [
       "| 10        | 953.278ms     | 3.57719e+06    | 0               |"
      ]
     },
     "metadata": {},
     "output_type": "display_data"
    },
    {
     "data": {
      "text/html": [
       "<pre>| 20        | 1.72s         | 3.86824e+06    | 0               |</pre>"
      ],
      "text/plain": [
       "| 20        | 1.72s         | 3.86824e+06    | 0               |"
      ]
     },
     "metadata": {},
     "output_type": "display_data"
    },
    {
     "data": {
      "text/html": [
       "<pre>| 30        | 2.50s         | 3.8083e+06     | 0               |</pre>"
      ],
      "text/plain": [
       "| 30        | 2.50s         | 3.8083e+06     | 0               |"
      ]
     },
     "metadata": {},
     "output_type": "display_data"
    },
    {
     "data": {
      "text/html": [
       "<pre>| 40        | 3.28s         | 4.28875e+06    | 0               |</pre>"
      ],
      "text/plain": [
       "| 40        | 3.28s         | 4.28875e+06    | 0               |"
      ]
     },
     "metadata": {},
     "output_type": "display_data"
    },
    {
     "data": {
      "text/html": [
       "<pre>| 50        | 4.09s         | 3.7137e+06     | 0               |</pre>"
      ],
      "text/plain": [
       "| 50        | 4.09s         | 3.7137e+06     | 0               |"
      ]
     },
     "metadata": {},
     "output_type": "display_data"
    },
    {
     "data": {
      "text/html": [
       "<pre>| 60        | 4.87s         | 3.81835e+06    | 0               |</pre>"
      ],
      "text/plain": [
       "| 60        | 4.87s         | 3.81835e+06    | 0               |"
      ]
     },
     "metadata": {},
     "output_type": "display_data"
    },
    {
     "data": {
      "text/html": [
       "<pre>| 70        | 5.64s         | 3.70899e+06    | 0               |</pre>"
      ],
      "text/plain": [
       "| 70        | 5.64s         | 3.70899e+06    | 0               |"
      ]
     },
     "metadata": {},
     "output_type": "display_data"
    },
    {
     "data": {
      "text/html": [
       "<pre>| 80        | 6.41s         | 3.80878e+06    | 0               |</pre>"
      ],
      "text/plain": [
       "| 80        | 6.41s         | 3.80878e+06    | 0               |"
      ]
     },
     "metadata": {},
     "output_type": "display_data"
    },
    {
     "data": {
      "text/html": [
       "<pre>| 90        | 7.18s         | 4.07288e+06    | 0               |</pre>"
      ],
      "text/plain": [
       "| 90        | 7.18s         | 4.07288e+06    | 0               |"
      ]
     },
     "metadata": {},
     "output_type": "display_data"
    },
    {
     "data": {
      "text/html": [
       "<pre>| 100       | 7.93s         | 4.02486e+06    | 0               |</pre>"
      ],
      "text/plain": [
       "| 100       | 7.93s         | 4.02486e+06    | 0               |"
      ]
     },
     "metadata": {},
     "output_type": "display_data"
    },
    {
     "data": {
      "text/html": [
       "<pre>+-----------+---------------+----------------+-----------------+</pre>"
      ],
      "text/plain": [
       "+-----------+---------------+----------------+-----------------+"
      ]
     },
     "metadata": {},
     "output_type": "display_data"
    },
    {
     "data": {
      "text/html": [
       "<pre>Learning a topic model</pre>"
      ],
      "text/plain": [
       "Learning a topic model"
      ]
     },
     "metadata": {},
     "output_type": "display_data"
    },
    {
     "data": {
      "text/html": [
       "<pre>       Number of documents     59752</pre>"
      ],
      "text/plain": [
       "       Number of documents     59752"
      ]
     },
     "metadata": {},
     "output_type": "display_data"
    },
    {
     "data": {
      "text/html": [
       "<pre>           Vocabulary size     31823</pre>"
      ],
      "text/plain": [
       "           Vocabulary size     31823"
      ]
     },
     "metadata": {},
     "output_type": "display_data"
    },
    {
     "data": {
      "text/html": [
       "<pre>   Running collapsed Gibbs sampling</pre>"
      ],
      "text/plain": [
       "   Running collapsed Gibbs sampling"
      ]
     },
     "metadata": {},
     "output_type": "display_data"
    },
    {
     "data": {
      "text/html": [
       "<pre>+-----------+---------------+----------------+-----------------+</pre>"
      ],
      "text/plain": [
       "+-----------+---------------+----------------+-----------------+"
      ]
     },
     "metadata": {},
     "output_type": "display_data"
    },
    {
     "data": {
      "text/html": [
       "<pre>| Iteration | Elapsed Time  | Tokens/Second  | Est. Perplexity |</pre>"
      ],
      "text/plain": [
       "| Iteration | Elapsed Time  | Tokens/Second  | Est. Perplexity |"
      ]
     },
     "metadata": {},
     "output_type": "display_data"
    },
    {
     "data": {
      "text/html": [
       "<pre>+-----------+---------------+----------------+-----------------+</pre>"
      ],
      "text/plain": [
       "+-----------+---------------+----------------+-----------------+"
      ]
     },
     "metadata": {},
     "output_type": "display_data"
    },
    {
     "data": {
      "text/html": [
       "<pre>| 10        | 1.96s         | 4.34886e+06    | 0               |</pre>"
      ],
      "text/plain": [
       "| 10        | 1.96s         | 4.34886e+06    | 0               |"
      ]
     },
     "metadata": {},
     "output_type": "display_data"
    },
    {
     "data": {
      "text/html": [
       "<pre>| 20        | 3.62s         | 4.28382e+06    | 0               |</pre>"
      ],
      "text/plain": [
       "| 20        | 3.62s         | 4.28382e+06    | 0               |"
      ]
     },
     "metadata": {},
     "output_type": "display_data"
    },
    {
     "data": {
      "text/html": [
       "<pre>| 30        | 5.21s         | 4.36097e+06    | 0               |</pre>"
      ],
      "text/plain": [
       "| 30        | 5.21s         | 4.36097e+06    | 0               |"
      ]
     },
     "metadata": {},
     "output_type": "display_data"
    },
    {
     "data": {
      "text/html": [
       "<pre>| 40        | 6.81s         | 4.41741e+06    | 0               |</pre>"
      ],
      "text/plain": [
       "| 40        | 6.81s         | 4.41741e+06    | 0               |"
      ]
     },
     "metadata": {},
     "output_type": "display_data"
    },
    {
     "data": {
      "text/html": [
       "<pre>| 50        | 8.36s         | 4.6237e+06     | 0               |</pre>"
      ],
      "text/plain": [
       "| 50        | 8.36s         | 4.6237e+06     | 0               |"
      ]
     },
     "metadata": {},
     "output_type": "display_data"
    },
    {
     "data": {
      "text/html": [
       "<pre>| 60        | 9.91s         | 4.5953e+06     | 0               |</pre>"
      ],
      "text/plain": [
       "| 60        | 9.91s         | 4.5953e+06     | 0               |"
      ]
     },
     "metadata": {},
     "output_type": "display_data"
    },
    {
     "data": {
      "text/html": [
       "<pre>| 70        | 11.47s        | 4.48964e+06    | 0               |</pre>"
      ],
      "text/plain": [
       "| 70        | 11.47s        | 4.48964e+06    | 0               |"
      ]
     },
     "metadata": {},
     "output_type": "display_data"
    },
    {
     "data": {
      "text/html": [
       "<pre>| 80        | 13.03s        | 4.42415e+06    | 0               |</pre>"
      ],
      "text/plain": [
       "| 80        | 13.03s        | 4.42415e+06    | 0               |"
      ]
     },
     "metadata": {},
     "output_type": "display_data"
    },
    {
     "data": {
      "text/html": [
       "<pre>| 90        | 14.58s        | 4.48764e+06    | 0               |</pre>"
      ],
      "text/plain": [
       "| 90        | 14.58s        | 4.48764e+06    | 0               |"
      ]
     },
     "metadata": {},
     "output_type": "display_data"
    },
    {
     "data": {
      "text/html": [
       "<pre>| 100       | 16.14s        | 4.76556e+06    | 0               |</pre>"
      ],
      "text/plain": [
       "| 100       | 16.14s        | 4.76556e+06    | 0               |"
      ]
     },
     "metadata": {},
     "output_type": "display_data"
    },
    {
     "data": {
      "text/html": [
       "<pre>+-----------+---------------+----------------+-----------------+</pre>"
      ],
      "text/plain": [
       "+-----------+---------------+----------------+-----------------+"
      ]
     },
     "metadata": {},
     "output_type": "display_data"
    },
    {
     "data": {
      "text/html": [
       "<pre>Learning a topic model</pre>"
      ],
      "text/plain": [
       "Learning a topic model"
      ]
     },
     "metadata": {},
     "output_type": "display_data"
    },
    {
     "data": {
      "text/html": [
       "<pre>       Number of documents     68471</pre>"
      ],
      "text/plain": [
       "       Number of documents     68471"
      ]
     },
     "metadata": {},
     "output_type": "display_data"
    },
    {
     "data": {
      "text/html": [
       "<pre>           Vocabulary size     32789</pre>"
      ],
      "text/plain": [
       "           Vocabulary size     32789"
      ]
     },
     "metadata": {},
     "output_type": "display_data"
    },
    {
     "data": {
      "text/html": [
       "<pre>   Running collapsed Gibbs sampling</pre>"
      ],
      "text/plain": [
       "   Running collapsed Gibbs sampling"
      ]
     },
     "metadata": {},
     "output_type": "display_data"
    },
    {
     "data": {
      "text/html": [
       "<pre>+-----------+---------------+----------------+-----------------+</pre>"
      ],
      "text/plain": [
       "+-----------+---------------+----------------+-----------------+"
      ]
     },
     "metadata": {},
     "output_type": "display_data"
    },
    {
     "data": {
      "text/html": [
       "<pre>| Iteration | Elapsed Time  | Tokens/Second  | Est. Perplexity |</pre>"
      ],
      "text/plain": [
       "| Iteration | Elapsed Time  | Tokens/Second  | Est. Perplexity |"
      ]
     },
     "metadata": {},
     "output_type": "display_data"
    },
    {
     "data": {
      "text/html": [
       "<pre>+-----------+---------------+----------------+-----------------+</pre>"
      ],
      "text/plain": [
       "+-----------+---------------+----------------+-----------------+"
      ]
     },
     "metadata": {},
     "output_type": "display_data"
    },
    {
     "data": {
      "text/html": [
       "<pre>| 10        | 2.27s         | 4.17578e+06    | 0               |</pre>"
      ],
      "text/plain": [
       "| 10        | 2.27s         | 4.17578e+06    | 0               |"
      ]
     },
     "metadata": {},
     "output_type": "display_data"
    },
    {
     "data": {
      "text/html": [
       "<pre>| 20        | 4.16s         | 4.53326e+06    | 0               |</pre>"
      ],
      "text/plain": [
       "| 20        | 4.16s         | 4.53326e+06    | 0               |"
      ]
     },
     "metadata": {},
     "output_type": "display_data"
    },
    {
     "data": {
      "text/html": [
       "<pre>| 30        | 5.96s         | 4.58446e+06    | 0               |</pre>"
      ],
      "text/plain": [
       "| 30        | 5.96s         | 4.58446e+06    | 0               |"
      ]
     },
     "metadata": {},
     "output_type": "display_data"
    },
    {
     "data": {
      "text/html": [
       "<pre>| 40        | 7.77s         | 4.46817e+06    | 0               |</pre>"
      ],
      "text/plain": [
       "| 40        | 7.77s         | 4.46817e+06    | 0               |"
      ]
     },
     "metadata": {},
     "output_type": "display_data"
    },
    {
     "data": {
      "text/html": [
       "<pre>| 50        | 9.50s         | 4.96417e+06    | 0               |</pre>"
      ],
      "text/plain": [
       "| 50        | 9.50s         | 4.96417e+06    | 0               |"
      ]
     },
     "metadata": {},
     "output_type": "display_data"
    },
    {
     "data": {
      "text/html": [
       "<pre>| 60        | 11.22s        | 4.81119e+06    | 0               |</pre>"
      ],
      "text/plain": [
       "| 60        | 11.22s        | 4.81119e+06    | 0               |"
      ]
     },
     "metadata": {},
     "output_type": "display_data"
    },
    {
     "data": {
      "text/html": [
       "<pre>| 70        | 12.79s        | 5.45605e+06    | 0               |</pre>"
      ],
      "text/plain": [
       "| 70        | 12.79s        | 5.45605e+06    | 0               |"
      ]
     },
     "metadata": {},
     "output_type": "display_data"
    },
    {
     "data": {
      "text/html": [
       "<pre>| 80        | 14.46s        | 4.88326e+06    | 0               |</pre>"
      ],
      "text/plain": [
       "| 80        | 14.46s        | 4.88326e+06    | 0               |"
      ]
     },
     "metadata": {},
     "output_type": "display_data"
    },
    {
     "data": {
      "text/html": [
       "<pre>| 90        | 16.19s        | 4.96712e+06    | 0               |</pre>"
      ],
      "text/plain": [
       "| 90        | 16.19s        | 4.96712e+06    | 0               |"
      ]
     },
     "metadata": {},
     "output_type": "display_data"
    },
    {
     "data": {
      "text/html": [
       "<pre>| 100       | 17.92s        | 5.06674e+06    | 0               |</pre>"
      ],
      "text/plain": [
       "| 100       | 17.92s        | 5.06674e+06    | 0               |"
      ]
     },
     "metadata": {},
     "output_type": "display_data"
    },
    {
     "data": {
      "text/html": [
       "<pre>+-----------+---------------+----------------+-----------------+</pre>"
      ],
      "text/plain": [
       "+-----------+---------------+----------------+-----------------+"
      ]
     },
     "metadata": {},
     "output_type": "display_data"
    }
   ],
   "source": [
    "phones_train = topic_model(phones_train)\n",
    "home_train = topic_model(home_train)\n",
    "apparel_train = topic_model(apparel_train)"
   ]
  },
  {
   "cell_type": "markdown",
   "metadata": {},
   "source": [
    "# Final model 1\n",
    "## Find 5 nearest neighbours"
   ]
  },
  {
   "cell_type": "code",
   "execution_count": 7,
   "metadata": {
    "collapsed": false
   },
   "outputs": [],
   "source": [
    "def nearest_neighbors(sf, name):\n",
    "    #'deep_features','tfidf','topic_0','topic_1','topic_2', ...\n",
    "    feature_lst = set(\n",
    "                      sf.column_names()) - \\\n",
    "                      set(['id', 'category_id', 'category_name', 'count_words', 'image', 'price', 'topic']\n",
    "                      )\n",
    "    model = graphlab.nearest_neighbors.create(sf, features=list(feature_lst))\n",
    "    model.save('data/similar_images_for_' + name)\n",
    "    return model"
   ]
  },
  {
   "cell_type": "code",
   "execution_count": 8,
   "metadata": {
    "collapsed": false
   },
   "outputs": [],
   "source": [
    "def get_neighbours(model, item):\n",
    "    similar_images = model.query(item, k = 5)\n",
    "    similar_images = similar_images.groupby(key_columns='query_label', operations={\"neighbours\":agg.CONCAT(\"reference_label\")})\n",
    "    return similar_images"
   ]
  },
  {
   "cell_type": "code",
   "execution_count": 9,
   "metadata": {
    "collapsed": false
   },
   "outputs": [
    {
     "name": "stdout",
     "output_type": "stream",
     "text": [
      "Defaulting to brute force instead of ball tree because there are multiple distance components.\n"
     ]
    },
    {
     "data": {
      "text/html": [
       "<pre>Starting brute force nearest neighbors model training.</pre>"
      ],
      "text/plain": [
       "Starting brute force nearest neighbors model training."
      ]
     },
     "metadata": {},
     "output_type": "display_data"
    }
   ],
   "source": [
    "phones_model = nearest_neighbors(phones_train, 'phones_train')"
   ]
  },
  {
   "cell_type": "code",
   "execution_count": 12,
   "metadata": {
    "collapsed": false
   },
   "outputs": [],
   "source": [
    "#phones_model = graphlab.load_model('data/similar_images_for_phones_train')"
   ]
  },
  {
   "cell_type": "code",
   "execution_count": 10,
   "metadata": {
    "collapsed": false
   },
   "outputs": [
    {
     "data": {
      "text/html": [
       "<pre>Starting pairwise querying.</pre>"
      ],
      "text/plain": [
       "Starting pairwise querying."
      ]
     },
     "metadata": {},
     "output_type": "display_data"
    },
    {
     "data": {
      "text/html": [
       "<pre>+--------------+---------+-------------+--------------+</pre>"
      ],
      "text/plain": [
       "+--------------+---------+-------------+--------------+"
      ]
     },
     "metadata": {},
     "output_type": "display_data"
    },
    {
     "data": {
      "text/html": [
       "<pre>| Query points | # Pairs | % Complete. | Elapsed Time |</pre>"
      ],
      "text/plain": [
       "| Query points | # Pairs | % Complete. | Elapsed Time |"
      ]
     },
     "metadata": {},
     "output_type": "display_data"
    },
    {
     "data": {
      "text/html": [
       "<pre>+--------------+---------+-------------+--------------+</pre>"
      ],
      "text/plain": [
       "+--------------+---------+-------------+--------------+"
      ]
     },
     "metadata": {},
     "output_type": "display_data"
    },
    {
     "data": {
      "text/html": [
       "<pre>| 0            | 1       | 0.00658805  | 10.748ms     |</pre>"
      ],
      "text/plain": [
       "| 0            | 1       | 0.00658805  | 10.748ms     |"
      ]
     },
     "metadata": {},
     "output_type": "display_data"
    },
    {
     "data": {
      "text/html": [
       "<pre>| Done         |         | 100         | 346.275ms    |</pre>"
      ],
      "text/plain": [
       "| Done         |         | 100         | 346.275ms    |"
      ]
     },
     "metadata": {},
     "output_type": "display_data"
    },
    {
     "data": {
      "text/html": [
       "<pre>+--------------+---------+-------------+--------------+</pre>"
      ],
      "text/plain": [
       "+--------------+---------+-------------+--------------+"
      ]
     },
     "metadata": {},
     "output_type": "display_data"
    },
    {
     "data": {
      "text/html": [
       "<div style=\"max-height:1000px;max-width:1500px;overflow:auto;\"><table frame=\"box\" rules=\"cols\">\n",
       "    <tr>\n",
       "        <th style=\"padding-left: 1em; padding-right: 1em; text-align: center\">query_label</th>\n",
       "        <th style=\"padding-left: 1em; padding-right: 1em; text-align: center\">neighbours</th>\n",
       "    </tr>\n",
       "    <tr>\n",
       "        <td style=\"padding-left: 1em; padding-right: 1em; text-align: center; vertical-align: top\">0</td>\n",
       "        <td style=\"padding-left: 1em; padding-right: 1em; text-align: center; vertical-align: top\">[5431, 5430, 2, 1, 0]</td>\n",
       "    </tr>\n",
       "</table>\n",
       "[1 rows x 2 columns]<br/>\n",
       "</div>"
      ],
      "text/plain": [
       "Columns:\n",
       "\tquery_label\tint\n",
       "\tneighbours\tlist\n",
       "\n",
       "Rows: 1\n",
       "\n",
       "Data:\n",
       "+-------------+-----------------------+\n",
       "| query_label |       neighbours      |\n",
       "+-------------+-----------------------+\n",
       "|      0      | [5431, 5430, 2, 1, 0] |\n",
       "+-------------+-----------------------+\n",
       "[1 rows x 2 columns]"
      ]
     },
     "execution_count": 10,
     "metadata": {},
     "output_type": "execute_result"
    }
   ],
   "source": [
    "get_neighbours(phones_model, graphlab.SFrame(phones_train.head(1)))"
   ]
  },
  {
   "cell_type": "code",
   "execution_count": 11,
   "metadata": {
    "collapsed": false
   },
   "outputs": [
    {
     "name": "stdout",
     "output_type": "stream",
     "text": [
      "Defaulting to brute force instead of ball tree because there are multiple distance components.\n"
     ]
    },
    {
     "data": {
      "text/html": [
       "<pre>Starting brute force nearest neighbors model training.</pre>"
      ],
      "text/plain": [
       "Starting brute force nearest neighbors model training."
      ]
     },
     "metadata": {},
     "output_type": "display_data"
    }
   ],
   "source": [
    "apparel_model = nearest_neighbors(apparel_train, 'apparel_train')"
   ]
  },
  {
   "cell_type": "code",
   "execution_count": 15,
   "metadata": {
    "collapsed": false
   },
   "outputs": [],
   "source": [
    "#apparel_model = graphlab.load_model('data/similar_images_for_apparel_train')"
   ]
  },
  {
   "cell_type": "code",
   "execution_count": 12,
   "metadata": {
    "collapsed": false
   },
   "outputs": [
    {
     "data": {
      "text/html": [
       "<pre>Starting pairwise querying.</pre>"
      ],
      "text/plain": [
       "Starting pairwise querying."
      ]
     },
     "metadata": {},
     "output_type": "display_data"
    },
    {
     "data": {
      "text/html": [
       "<pre>+--------------+---------+-------------+--------------+</pre>"
      ],
      "text/plain": [
       "+--------------+---------+-------------+--------------+"
      ]
     },
     "metadata": {},
     "output_type": "display_data"
    },
    {
     "data": {
      "text/html": [
       "<pre>| Query points | # Pairs | % Complete. | Elapsed Time |</pre>"
      ],
      "text/plain": [
       "| Query points | # Pairs | % Complete. | Elapsed Time |"
      ]
     },
     "metadata": {},
     "output_type": "display_data"
    },
    {
     "data": {
      "text/html": [
       "<pre>+--------------+---------+-------------+--------------+</pre>"
      ],
      "text/plain": [
       "+--------------+---------+-------------+--------------+"
      ]
     },
     "metadata": {},
     "output_type": "display_data"
    },
    {
     "data": {
      "text/html": [
       "<pre>| 0            | 1       | 0.00146047  | 8.188ms      |</pre>"
      ],
      "text/plain": [
       "| 0            | 1       | 0.00146047  | 8.188ms      |"
      ]
     },
     "metadata": {},
     "output_type": "display_data"
    },
    {
     "data": {
      "text/html": [
       "<pre>| Done         |         | 100         | 732.467ms    |</pre>"
      ],
      "text/plain": [
       "| Done         |         | 100         | 732.467ms    |"
      ]
     },
     "metadata": {},
     "output_type": "display_data"
    },
    {
     "data": {
      "text/html": [
       "<pre>+--------------+---------+-------------+--------------+</pre>"
      ],
      "text/plain": [
       "+--------------+---------+-------------+--------------+"
      ]
     },
     "metadata": {},
     "output_type": "display_data"
    },
    {
     "data": {
      "text/html": [
       "<div style=\"max-height:1000px;max-width:1500px;overflow:auto;\"><table frame=\"box\" rules=\"cols\">\n",
       "    <tr>\n",
       "        <th style=\"padding-left: 1em; padding-right: 1em; text-align: center\">query_label</th>\n",
       "        <th style=\"padding-left: 1em; padding-right: 1em; text-align: center\">neighbours</th>\n",
       "    </tr>\n",
       "    <tr>\n",
       "        <td style=\"padding-left: 1em; padding-right: 1em; text-align: center; vertical-align: top\">0</td>\n",
       "        <td style=\"padding-left: 1em; padding-right: 1em; text-align: center; vertical-align: top\">[10233, 64389, 64391,<br>2963, 0] ...</td>\n",
       "    </tr>\n",
       "</table>\n",
       "[1 rows x 2 columns]<br/>\n",
       "</div>"
      ],
      "text/plain": [
       "Columns:\n",
       "\tquery_label\tint\n",
       "\tneighbours\tlist\n",
       "\n",
       "Rows: 1\n",
       "\n",
       "Data:\n",
       "+-------------+--------------------------------+\n",
       "| query_label |           neighbours           |\n",
       "+-------------+--------------------------------+\n",
       "|      0      | [10233, 64389, 64391, 2963, 0] |\n",
       "+-------------+--------------------------------+\n",
       "[1 rows x 2 columns]"
      ]
     },
     "execution_count": 12,
     "metadata": {},
     "output_type": "execute_result"
    }
   ],
   "source": [
    "get_neighbours(apparel_model, graphlab.SFrame(apparel_train.head(1)))"
   ]
  },
  {
   "cell_type": "code",
   "execution_count": 13,
   "metadata": {
    "collapsed": false
   },
   "outputs": [
    {
     "name": "stdout",
     "output_type": "stream",
     "text": [
      "Defaulting to brute force instead of ball tree because there are multiple distance components.\n"
     ]
    },
    {
     "data": {
      "text/html": [
       "<pre>Starting brute force nearest neighbors model training.</pre>"
      ],
      "text/plain": [
       "Starting brute force nearest neighbors model training."
      ]
     },
     "metadata": {},
     "output_type": "display_data"
    }
   ],
   "source": [
    "home_model = nearest_neighbors(home_train, 'home_train')"
   ]
  },
  {
   "cell_type": "code",
   "execution_count": 14,
   "metadata": {
    "collapsed": true
   },
   "outputs": [],
   "source": [
    "#home_model = graphlab.load_model('data/similar_images_for_home_train')"
   ]
  },
  {
   "cell_type": "code",
   "execution_count": 15,
   "metadata": {
    "collapsed": false
   },
   "outputs": [
    {
     "data": {
      "text/html": [
       "<pre>Starting pairwise querying.</pre>"
      ],
      "text/plain": [
       "Starting pairwise querying."
      ]
     },
     "metadata": {},
     "output_type": "display_data"
    },
    {
     "data": {
      "text/html": [
       "<pre>+--------------+---------+-------------+--------------+</pre>"
      ],
      "text/plain": [
       "+--------------+---------+-------------+--------------+"
      ]
     },
     "metadata": {},
     "output_type": "display_data"
    },
    {
     "data": {
      "text/html": [
       "<pre>| Query points | # Pairs | % Complete. | Elapsed Time |</pre>"
      ],
      "text/plain": [
       "| Query points | # Pairs | % Complete. | Elapsed Time |"
      ]
     },
     "metadata": {},
     "output_type": "display_data"
    },
    {
     "data": {
      "text/html": [
       "<pre>+--------------+---------+-------------+--------------+</pre>"
      ],
      "text/plain": [
       "+--------------+---------+-------------+--------------+"
      ]
     },
     "metadata": {},
     "output_type": "display_data"
    },
    {
     "data": {
      "text/html": [
       "<pre>| 0            | 1       | 0.00167358  | 5.442ms      |</pre>"
      ],
      "text/plain": [
       "| 0            | 1       | 0.00167358  | 5.442ms      |"
      ]
     },
     "metadata": {},
     "output_type": "display_data"
    },
    {
     "data": {
      "text/html": [
       "<pre>| Done         |         | 100         | 808.921ms    |</pre>"
      ],
      "text/plain": [
       "| Done         |         | 100         | 808.921ms    |"
      ]
     },
     "metadata": {},
     "output_type": "display_data"
    },
    {
     "data": {
      "text/html": [
       "<pre>+--------------+---------+-------------+--------------+</pre>"
      ],
      "text/plain": [
       "+--------------+---------+-------------+--------------+"
      ]
     },
     "metadata": {},
     "output_type": "display_data"
    },
    {
     "data": {
      "text/html": [
       "<div style=\"max-height:1000px;max-width:1500px;overflow:auto;\"><table frame=\"box\" rules=\"cols\">\n",
       "    <tr>\n",
       "        <th style=\"padding-left: 1em; padding-right: 1em; text-align: center\">query_label</th>\n",
       "        <th style=\"padding-left: 1em; padding-right: 1em; text-align: center\">neighbours</th>\n",
       "    </tr>\n",
       "    <tr>\n",
       "        <td style=\"padding-left: 1em; padding-right: 1em; text-align: center; vertical-align: top\">0</td>\n",
       "        <td style=\"padding-left: 1em; padding-right: 1em; text-align: center; vertical-align: top\">[32480, 6175, 54850, 0,<br>49131] ...</td>\n",
       "    </tr>\n",
       "</table>\n",
       "[1 rows x 2 columns]<br/>\n",
       "</div>"
      ],
      "text/plain": [
       "Columns:\n",
       "\tquery_label\tint\n",
       "\tneighbours\tlist\n",
       "\n",
       "Rows: 1\n",
       "\n",
       "Data:\n",
       "+-------------+--------------------------------+\n",
       "| query_label |           neighbours           |\n",
       "+-------------+--------------------------------+\n",
       "|      0      | [32480, 6175, 54850, 0, 49131] |\n",
       "+-------------+--------------------------------+\n",
       "[1 rows x 2 columns]"
      ]
     },
     "execution_count": 15,
     "metadata": {},
     "output_type": "execute_result"
    }
   ],
   "source": [
    "get_neighbours(home_model, graphlab.SFrame(home_train.head(1)))"
   ]
  },
  {
   "cell_type": "code",
   "execution_count": 16,
   "metadata": {
    "collapsed": false
   },
   "outputs": [
    {
     "data": {
      "text/plain": [
       "100.0"
      ]
     },
     "execution_count": 16,
     "metadata": {},
     "output_type": "execute_result"
    }
   ],
   "source": [
    "graphlab.canvas.set_target('ipynb')\n",
    "#graphlab.SArray([apparel_train['image'][0]]).show() \n",
    "apparel_train['price'][0]"
   ]
  },
  {
   "cell_type": "code",
   "execution_count": 17,
   "metadata": {
    "collapsed": false
   },
   "outputs": [
    {
     "data": {
      "text/plain": [
       "160.0"
      ]
     },
     "execution_count": 17,
     "metadata": {},
     "output_type": "execute_result"
    }
   ],
   "source": [
    "#graphlab.SArray([apparel_train['image'][10233]]).show()\n",
    "apparel_train['price'][10233]"
   ]
  },
  {
   "cell_type": "code",
   "execution_count": 18,
   "metadata": {
    "collapsed": false
   },
   "outputs": [
    {
     "data": {
      "text/plain": [
       "40.0"
      ]
     },
     "execution_count": 18,
     "metadata": {},
     "output_type": "execute_result"
    }
   ],
   "source": [
    "#graphlab.SArray([apparel_train['image'][2963]]).show()\n",
    "apparel_train['price'][2963]"
   ]
  },
  {
   "cell_type": "code",
   "execution_count": 19,
   "metadata": {
    "collapsed": false
   },
   "outputs": [
    {
     "data": {
      "text/plain": [
       "400.0"
      ]
     },
     "execution_count": 19,
     "metadata": {},
     "output_type": "execute_result"
    }
   ],
   "source": [
    "#graphlab.SArray([apparel_train['image'][64391]]).show()\n",
    "apparel_train['price'][64391]"
   ]
  },
  {
   "cell_type": "code",
   "execution_count": 20,
   "metadata": {
    "collapsed": false
   },
   "outputs": [
    {
     "data": {
      "text/plain": [
       "400.0"
      ]
     },
     "execution_count": 20,
     "metadata": {},
     "output_type": "execute_result"
    }
   ],
   "source": [
    "#graphlab.SArray([apparel_train['image'][64389]]).show()\n",
    "apparel_train['price'][64389]"
   ]
  },
  {
   "cell_type": "markdown",
   "metadata": {},
   "source": [
    "# Final model 2\n",
    "## Predict exact price"
   ]
  },
  {
   "cell_type": "code",
   "execution_count": 21,
   "metadata": {
    "collapsed": false
   },
   "outputs": [],
   "source": [
    "# Create a model.\n",
    "def random_forest_model(sf, name):\n",
    "    #'deep_features','tfidf','topic_0','topic_1','topic_2', ...\n",
    "    feature_lst = set(\n",
    "                      sf.column_names()) - \\\n",
    "                      set(['id', 'category_id', 'category_name', 'count_words', 'image', 'price', 'topic']\n",
    "                      )\n",
    "\n",
    "    model = graphlab.random_forest_regression.create(sf, target='price',\n",
    "                                          features=list(feature_lst),\n",
    "                                          #max_iterations = 20,\n",
    "                                          max_depth =  3\n",
    "                                          )\n",
    "\n",
    "    model.save('data/random_forest_regression_for_' + name)\n",
    "    return model"
   ]
  },
  {
   "cell_type": "code",
   "execution_count": 22,
   "metadata": {
    "collapsed": false
   },
   "outputs": [],
   "source": [
    "def evaluate(model, test_set):\n",
    "    results = model.evaluate(test_set)\n",
    "    return results"
   ]
  },
  {
   "cell_type": "code",
   "execution_count": 23,
   "metadata": {
    "collapsed": false
   },
   "outputs": [
    {
     "name": "stdout",
     "output_type": "stream",
     "text": [
      "PROGRESS: Creating a validation set from 5 percent of training data. This may take a while.\n",
      "          You can set ``validation_set=None`` to disable validation tracking.\n",
      "\n"
     ]
    },
    {
     "data": {
      "text/html": [
       "<pre>Random forest regression:</pre>"
      ],
      "text/plain": [
       "Random forest regression:"
      ]
     },
     "metadata": {},
     "output_type": "display_data"
    },
    {
     "data": {
      "text/html": [
       "<pre>--------------------------------------------------------</pre>"
      ],
      "text/plain": [
       "--------------------------------------------------------"
      ]
     },
     "metadata": {},
     "output_type": "display_data"
    },
    {
     "data": {
      "text/html": [
       "<pre>Number of examples          : 14468</pre>"
      ],
      "text/plain": [
       "Number of examples          : 14468"
      ]
     },
     "metadata": {},
     "output_type": "display_data"
    },
    {
     "data": {
      "text/html": [
       "<pre>Number of features          : 102</pre>"
      ],
      "text/plain": [
       "Number of features          : 102"
      ]
     },
     "metadata": {},
     "output_type": "display_data"
    },
    {
     "data": {
      "text/html": [
       "<pre>Number of unpacked features : 11918</pre>"
      ],
      "text/plain": [
       "Number of unpacked features : 11918"
      ]
     },
     "metadata": {},
     "output_type": "display_data"
    },
    {
     "data": {
      "text/html": [
       "<pre>+-----------+--------------+--------------------+---------------+----------------------+-----------------+</pre>"
      ],
      "text/plain": [
       "+-----------+--------------+--------------------+---------------+----------------------+-----------------+"
      ]
     },
     "metadata": {},
     "output_type": "display_data"
    },
    {
     "data": {
      "text/html": [
       "<pre>| Iteration | Elapsed Time | Training-max_error | Training-rmse | Validation-max_error | Validation-rmse |</pre>"
      ],
      "text/plain": [
       "| Iteration | Elapsed Time | Training-max_error | Training-rmse | Validation-max_error | Validation-rmse |"
      ]
     },
     "metadata": {},
     "output_type": "display_data"
    },
    {
     "data": {
      "text/html": [
       "<pre>+-----------+--------------+--------------------+---------------+----------------------+-----------------+</pre>"
      ],
      "text/plain": [
       "+-----------+--------------+--------------------+---------------+----------------------+-----------------+"
      ]
     },
     "metadata": {},
     "output_type": "display_data"
    },
    {
     "data": {
      "text/html": [
       "<pre>| 1         | 0.149465     | 1089.218018        | 125.487900    | 792.156494           | 116.328064      |</pre>"
      ],
      "text/plain": [
       "| 1         | 0.149465     | 1089.218018        | 125.487900    | 792.156494           | 116.328064      |"
      ]
     },
     "metadata": {},
     "output_type": "display_data"
    },
    {
     "data": {
      "text/html": [
       "<pre>| 2         | 0.273856     | 1088.632568        | 123.884453    | 800.994751           | 116.006454      |</pre>"
      ],
      "text/plain": [
       "| 2         | 0.273856     | 1088.632568        | 123.884453    | 800.994751           | 116.006454      |"
      ]
     },
     "metadata": {},
     "output_type": "display_data"
    },
    {
     "data": {
      "text/html": [
       "<pre>| 3         | 0.394571     | 1088.090332        | 123.937714    | 797.726013           | 115.701691      |</pre>"
      ],
      "text/plain": [
       "| 3         | 0.394571     | 1088.090332        | 123.937714    | 797.726013           | 115.701691      |"
      ]
     },
     "metadata": {},
     "output_type": "display_data"
    },
    {
     "data": {
      "text/html": [
       "<pre>| 4         | 0.503438     | 1087.900879        | 123.491470    | 796.935730           | 114.827255      |</pre>"
      ],
      "text/plain": [
       "| 4         | 0.503438     | 1087.900879        | 123.491470    | 796.935730           | 114.827255      |"
      ]
     },
     "metadata": {},
     "output_type": "display_data"
    },
    {
     "data": {
      "text/html": [
       "<pre>| 5         | 0.628980     | 1087.820312        | 122.357803    | 796.188965           | 113.449081      |</pre>"
      ],
      "text/plain": [
       "| 5         | 0.628980     | 1087.820312        | 122.357803    | 796.188965           | 113.449081      |"
      ]
     },
     "metadata": {},
     "output_type": "display_data"
    },
    {
     "data": {
      "text/html": [
       "<pre>| 6         | 0.744104     | 1087.931152        | 122.286385    | 792.954224           | 112.168106      |</pre>"
      ],
      "text/plain": [
       "| 6         | 0.744104     | 1087.931152        | 122.286385    | 792.954224           | 112.168106      |"
      ]
     },
     "metadata": {},
     "output_type": "display_data"
    },
    {
     "data": {
      "text/html": [
       "<pre>| 10        | 1.217704     | 1099.069580        | 121.852402    | 792.200073           | 111.341988      |</pre>"
      ],
      "text/plain": [
       "| 10        | 1.217704     | 1099.069580        | 121.852402    | 792.200073           | 111.341988      |"
      ]
     },
     "metadata": {},
     "output_type": "display_data"
    },
    {
     "data": {
      "text/html": [
       "<pre>+-----------+--------------+--------------------+---------------+----------------------+-----------------+</pre>"
      ],
      "text/plain": [
       "+-----------+--------------+--------------------+---------------+----------------------+-----------------+"
      ]
     },
     "metadata": {},
     "output_type": "display_data"
    }
   ],
   "source": [
    "phones_model = random_forest_model(phones_train, 'phones_train')"
   ]
  },
  {
   "cell_type": "code",
   "execution_count": 24,
   "metadata": {
    "collapsed": true
   },
   "outputs": [],
   "source": [
    "#phones_model = graphlab.load_model('data/random_forest_regression_for_phones_train')"
   ]
  },
  {
   "cell_type": "code",
   "execution_count": 25,
   "metadata": {
    "collapsed": false
   },
   "outputs": [
    {
     "data": {
      "text/plain": [
       "{'max_error': 92.7999267578125, 'rmse': 92.7999267578125}"
      ]
     },
     "execution_count": 25,
     "metadata": {},
     "output_type": "execute_result"
    }
   ],
   "source": [
    "evaluate(phones_model, graphlab.SFrame(phones_train.head(1)))"
   ]
  },
  {
   "cell_type": "code",
   "execution_count": 26,
   "metadata": {
    "collapsed": false
   },
   "outputs": [
    {
     "name": "stdout",
     "output_type": "stream",
     "text": [
      "PROGRESS: Creating a validation set from 5 percent of training data. This may take a while.\n",
      "          You can set ``validation_set=None`` to disable validation tracking.\n",
      "\n"
     ]
    },
    {
     "data": {
      "text/html": [
       "<pre>Random forest regression:</pre>"
      ],
      "text/plain": [
       "Random forest regression:"
      ]
     },
     "metadata": {},
     "output_type": "display_data"
    },
    {
     "data": {
      "text/html": [
       "<pre>--------------------------------------------------------</pre>"
      ],
      "text/plain": [
       "--------------------------------------------------------"
      ]
     },
     "metadata": {},
     "output_type": "display_data"
    },
    {
     "data": {
      "text/html": [
       "<pre>Number of examples          : 56825</pre>"
      ],
      "text/plain": [
       "Number of examples          : 56825"
      ]
     },
     "metadata": {},
     "output_type": "display_data"
    },
    {
     "data": {
      "text/html": [
       "<pre>Number of features          : 102</pre>"
      ],
      "text/plain": [
       "Number of features          : 102"
      ]
     },
     "metadata": {},
     "output_type": "display_data"
    },
    {
     "data": {
      "text/html": [
       "<pre>Number of unpacked features : 35311</pre>"
      ],
      "text/plain": [
       "Number of unpacked features : 35311"
      ]
     },
     "metadata": {},
     "output_type": "display_data"
    },
    {
     "data": {
      "text/html": [
       "<pre>+-----------+--------------+--------------------+---------------+----------------------+-----------------+</pre>"
      ],
      "text/plain": [
       "+-----------+--------------+--------------------+---------------+----------------------+-----------------+"
      ]
     },
     "metadata": {},
     "output_type": "display_data"
    },
    {
     "data": {
      "text/html": [
       "<pre>| Iteration | Elapsed Time | Training-max_error | Training-rmse | Validation-max_error | Validation-rmse |</pre>"
      ],
      "text/plain": [
       "| Iteration | Elapsed Time | Training-max_error | Training-rmse | Validation-max_error | Validation-rmse |"
      ]
     },
     "metadata": {},
     "output_type": "display_data"
    },
    {
     "data": {
      "text/html": [
       "<pre>+-----------+--------------+--------------------+---------------+----------------------+-----------------+</pre>"
      ],
      "text/plain": [
       "+-----------+--------------+--------------------+---------------+----------------------+-----------------+"
      ]
     },
     "metadata": {},
     "output_type": "display_data"
    },
    {
     "data": {
      "text/html": [
       "<pre>| 1         | 3.324392     | 1430.194458        | 169.878174    | 1331.194458          | 174.204712      |</pre>"
      ],
      "text/plain": [
       "| 1         | 3.324392     | 1430.194458        | 169.878174    | 1331.194458          | 174.204712      |"
      ]
     },
     "metadata": {},
     "output_type": "display_data"
    },
    {
     "data": {
      "text/html": [
       "<pre>| 2         | 4.938397     | 1428.667480        | 168.394592    | 1329.667480          | 175.138275      |</pre>"
      ],
      "text/plain": [
       "| 2         | 4.938397     | 1428.667480        | 168.394592    | 1329.667480          | 175.138275      |"
      ]
     },
     "metadata": {},
     "output_type": "display_data"
    },
    {
     "data": {
      "text/html": [
       "<pre>| 3         | 6.612350     | 1430.086426        | 168.136673    | 1331.086426          | 174.188843      |</pre>"
      ],
      "text/plain": [
       "| 3         | 6.612350     | 1430.086426        | 168.136673    | 1331.086426          | 174.188843      |"
      ]
     },
     "metadata": {},
     "output_type": "display_data"
    },
    {
     "data": {
      "text/html": [
       "<pre>| 4         | 8.166828     | 1430.689453        | 168.056580    | 1331.689453          | 174.280334      |</pre>"
      ],
      "text/plain": [
       "| 4         | 8.166828     | 1430.689453        | 168.056580    | 1331.689453          | 174.280334      |"
      ]
     },
     "metadata": {},
     "output_type": "display_data"
    },
    {
     "data": {
      "text/html": [
       "<pre>| 5         | 9.728276     | 1430.975952        | 167.025681    | 1283.250610          | 173.031342      |</pre>"
      ],
      "text/plain": [
       "| 5         | 9.728276     | 1430.975952        | 167.025681    | 1283.250610          | 173.031342      |"
      ]
     },
     "metadata": {},
     "output_type": "display_data"
    },
    {
     "data": {
      "text/html": [
       "<pre>| 6         | 11.294011    | 1429.062378        | 167.028107    | 1289.457886          | 173.232407      |</pre>"
      ],
      "text/plain": [
       "| 6         | 11.294011    | 1429.062378        | 167.028107    | 1289.457886          | 173.232407      |"
      ]
     },
     "metadata": {},
     "output_type": "display_data"
    },
    {
     "data": {
      "text/html": [
       "<pre>| 7         | 12.820191    | 1429.122925        | 167.192764    | 1295.318970          | 173.121552      |</pre>"
      ],
      "text/plain": [
       "| 7         | 12.820191    | 1429.122925        | 167.192764    | 1295.318970          | 173.121552      |"
      ]
     },
     "metadata": {},
     "output_type": "display_data"
    },
    {
     "data": {
      "text/html": [
       "<pre>| 8         | 14.668973    | 1429.577393        | 167.382874    | 1300.124023          | 173.144196      |</pre>"
      ],
      "text/plain": [
       "| 8         | 14.668973    | 1429.577393        | 167.382874    | 1300.124023          | 173.144196      |"
      ]
     },
     "metadata": {},
     "output_type": "display_data"
    },
    {
     "data": {
      "text/html": [
       "<pre>| 9         | 16.289904    | 1429.864990        | 167.399643    | 1303.795288          | 173.190857      |</pre>"
      ],
      "text/plain": [
       "| 9         | 16.289904    | 1429.864990        | 167.399643    | 1303.795288          | 173.190857      |"
      ]
     },
     "metadata": {},
     "output_type": "display_data"
    },
    {
     "data": {
      "text/html": [
       "<pre>| 10        | 17.834598    | 1430.151001        | 167.551880    | 1306.788208          | 173.266907      |</pre>"
      ],
      "text/plain": [
       "| 10        | 17.834598    | 1430.151001        | 167.551880    | 1306.788208          | 173.266907      |"
      ]
     },
     "metadata": {},
     "output_type": "display_data"
    },
    {
     "data": {
      "text/html": [
       "<pre>+-----------+--------------+--------------------+---------------+----------------------+-----------------+</pre>"
      ],
      "text/plain": [
       "+-----------+--------------+--------------------+---------------+----------------------+-----------------+"
      ]
     },
     "metadata": {},
     "output_type": "display_data"
    }
   ],
   "source": [
    "home_model = random_forest_model(home_train, 'home_train')"
   ]
  },
  {
   "cell_type": "code",
   "execution_count": 27,
   "metadata": {
    "collapsed": true
   },
   "outputs": [],
   "source": [
    "#home_model = graphlab.load_model('data/random_forest_regression_for_home_train')"
   ]
  },
  {
   "cell_type": "code",
   "execution_count": 28,
   "metadata": {
    "collapsed": false
   },
   "outputs": [
    {
     "data": {
      "text/plain": [
       "{'max_error': 58.84905242919922, 'rmse': 58.84905242919922}"
      ]
     },
     "execution_count": 28,
     "metadata": {},
     "output_type": "execute_result"
    }
   ],
   "source": [
    "evaluate(home_model, graphlab.SFrame(home_train.head(1)))"
   ]
  },
  {
   "cell_type": "code",
   "execution_count": 29,
   "metadata": {
    "collapsed": false
   },
   "outputs": [
    {
     "data": {
      "text/plain": [
       "dtype: float\n",
       "Rows: 1\n",
       "[68.84905242919922]"
      ]
     },
     "execution_count": 29,
     "metadata": {},
     "output_type": "execute_result"
    }
   ],
   "source": [
    "home_model.predict(home_train.head(1))"
   ]
  },
  {
   "cell_type": "code",
   "execution_count": 30,
   "metadata": {
    "collapsed": false
   },
   "outputs": [
    {
     "data": {
      "text/plain": [
       "dtype: float\n",
       "Rows: 1\n",
       "[10.0]"
      ]
     },
     "execution_count": 30,
     "metadata": {},
     "output_type": "execute_result"
    }
   ],
   "source": [
    "home_train.head(1)['price']"
   ]
  },
  {
   "cell_type": "code",
   "execution_count": 31,
   "metadata": {
    "collapsed": false
   },
   "outputs": [
    {
     "name": "stdout",
     "output_type": "stream",
     "text": [
      "PROGRESS: Creating a validation set from 5 percent of training data. This may take a while.\n",
      "          You can set ``validation_set=None`` to disable validation tracking.\n",
      "\n"
     ]
    },
    {
     "data": {
      "text/html": [
       "<pre>Random forest regression:</pre>"
      ],
      "text/plain": [
       "Random forest regression:"
      ]
     },
     "metadata": {},
     "output_type": "display_data"
    },
    {
     "data": {
      "text/html": [
       "<pre>--------------------------------------------------------</pre>"
      ],
      "text/plain": [
       "--------------------------------------------------------"
      ]
     },
     "metadata": {},
     "output_type": "display_data"
    },
    {
     "data": {
      "text/html": [
       "<pre>Number of examples          : 65057</pre>"
      ],
      "text/plain": [
       "Number of examples          : 65057"
      ]
     },
     "metadata": {},
     "output_type": "display_data"
    },
    {
     "data": {
      "text/html": [
       "<pre>Number of features          : 102</pre>"
      ],
      "text/plain": [
       "Number of features          : 102"
      ]
     },
     "metadata": {},
     "output_type": "display_data"
    },
    {
     "data": {
      "text/html": [
       "<pre>Number of unpacked features : 36289</pre>"
      ],
      "text/plain": [
       "Number of unpacked features : 36289"
      ]
     },
     "metadata": {},
     "output_type": "display_data"
    },
    {
     "data": {
      "text/html": [
       "<pre>+-----------+--------------+--------------------+---------------+----------------------+-----------------+</pre>"
      ],
      "text/plain": [
       "+-----------+--------------+--------------------+---------------+----------------------+-----------------+"
      ]
     },
     "metadata": {},
     "output_type": "display_data"
    },
    {
     "data": {
      "text/html": [
       "<pre>| Iteration | Elapsed Time | Training-max_error | Training-rmse | Validation-max_error | Validation-rmse |</pre>"
      ],
      "text/plain": [
       "| Iteration | Elapsed Time | Training-max_error | Training-rmse | Validation-max_error | Validation-rmse |"
      ]
     },
     "metadata": {},
     "output_type": "display_data"
    },
    {
     "data": {
      "text/html": [
       "<pre>+-----------+--------------+--------------------+---------------+----------------------+-----------------+</pre>"
      ],
      "text/plain": [
       "+-----------+--------------+--------------------+---------------+----------------------+-----------------+"
      ]
     },
     "metadata": {},
     "output_type": "display_data"
    },
    {
     "data": {
      "text/html": [
       "<pre>| 1         | 3.278910     | 1348.583618        | 84.008591     | 1003.091797          | 89.287689       |</pre>"
      ],
      "text/plain": [
       "| 1         | 3.278910     | 1348.583618        | 84.008591     | 1003.091797          | 89.287689       |"
      ]
     },
     "metadata": {},
     "output_type": "display_data"
    },
    {
     "data": {
      "text/html": [
       "<pre>| 2         | 5.093201     | 1348.633667        | 83.934464     | 1003.270996          | 89.611542       |</pre>"
      ],
      "text/plain": [
       "| 2         | 5.093201     | 1348.633667        | 83.934464     | 1003.270996          | 89.611542       |"
      ]
     },
     "metadata": {},
     "output_type": "display_data"
    },
    {
     "data": {
      "text/html": [
       "<pre>| 3         | 6.964897     | 1344.987305        | 83.079643     | 983.098755           | 88.627380       |</pre>"
      ],
      "text/plain": [
       "| 3         | 6.964897     | 1344.987305        | 83.079643     | 983.098755           | 88.627380       |"
      ]
     },
     "metadata": {},
     "output_type": "display_data"
    },
    {
     "data": {
      "text/html": [
       "<pre>| 4         | 8.876473     | 1342.967041        | 82.456253     | 1001.281250          | 88.034599       |</pre>"
      ],
      "text/plain": [
       "| 4         | 8.876473     | 1342.967041        | 82.456253     | 1001.281250          | 88.034599       |"
      ]
     },
     "metadata": {},
     "output_type": "display_data"
    },
    {
     "data": {
      "text/html": [
       "<pre>| 5         | 10.714775    | 1340.689819        | 82.766479     | 1027.341064          | 88.639977       |</pre>"
      ],
      "text/plain": [
       "| 5         | 10.714775    | 1340.689819        | 82.766479     | 1027.341064          | 88.639977       |"
      ]
     },
     "metadata": {},
     "output_type": "display_data"
    },
    {
     "data": {
      "text/html": [
       "<pre>| 6         | 12.589024    | 1340.215332        | 82.599648     | 1031.895386          | 88.477692       |</pre>"
      ],
      "text/plain": [
       "| 6         | 12.589024    | 1340.215332        | 82.599648     | 1031.895386          | 88.477692       |"
      ]
     },
     "metadata": {},
     "output_type": "display_data"
    },
    {
     "data": {
      "text/html": [
       "<pre>| 7         | 14.420896    | 1339.836182        | 82.624962     | 1026.796143          | 88.462021       |</pre>"
      ],
      "text/plain": [
       "| 7         | 14.420896    | 1339.836182        | 82.624962     | 1026.796143          | 88.462021       |"
      ]
     },
     "metadata": {},
     "output_type": "display_data"
    },
    {
     "data": {
      "text/html": [
       "<pre>| 8         | 16.195545    | 1339.528320        | 82.500648     | 1029.652954          | 88.356110       |</pre>"
      ],
      "text/plain": [
       "| 8         | 16.195545    | 1339.528320        | 82.500648     | 1029.652954          | 88.356110       |"
      ]
     },
     "metadata": {},
     "output_type": "display_data"
    },
    {
     "data": {
      "text/html": [
       "<pre>| 9         | 18.034410    | 1340.313843        | 82.589691     | 1033.655518          | 88.426414       |</pre>"
      ],
      "text/plain": [
       "| 9         | 18.034410    | 1340.313843        | 82.589691     | 1033.655518          | 88.426414       |"
      ]
     },
     "metadata": {},
     "output_type": "display_data"
    },
    {
     "data": {
      "text/html": [
       "<pre>| 10        | 19.913917    | 1339.861328        | 82.571114     | 1043.868896          | 88.636559       |</pre>"
      ],
      "text/plain": [
       "| 10        | 19.913917    | 1339.861328        | 82.571114     | 1043.868896          | 88.636559       |"
      ]
     },
     "metadata": {},
     "output_type": "display_data"
    },
    {
     "data": {
      "text/html": [
       "<pre>+-----------+--------------+--------------------+---------------+----------------------+-----------------+</pre>"
      ],
      "text/plain": [
       "+-----------+--------------+--------------------+---------------+----------------------+-----------------+"
      ]
     },
     "metadata": {},
     "output_type": "display_data"
    }
   ],
   "source": [
    "apparel_model = random_forest_model(apparel_train, 'apparel_train')"
   ]
  },
  {
   "cell_type": "code",
   "execution_count": 32,
   "metadata": {
    "collapsed": true
   },
   "outputs": [],
   "source": [
    "#apparel_model = graphlab.load_model('data/random_forest_regression_for_apparel_train')"
   ]
  },
  {
   "cell_type": "code",
   "execution_count": 33,
   "metadata": {
    "collapsed": false
   },
   "outputs": [
    {
     "data": {
      "text/plain": [
       "{'max_error': 60.160614013671875, 'rmse': 60.160614013671875}"
      ]
     },
     "execution_count": 33,
     "metadata": {},
     "output_type": "execute_result"
    }
   ],
   "source": [
    "evaluate(apparel_model, graphlab.SFrame(apparel_train.head(1)))"
   ]
  },
  {
   "cell_type": "code",
   "execution_count": 34,
   "metadata": {
    "collapsed": false
   },
   "outputs": [
    {
     "data": {
      "text/plain": [
       "dtype: float\n",
       "Rows: 1\n",
       "[160.16061401367188]"
      ]
     },
     "execution_count": 34,
     "metadata": {},
     "output_type": "execute_result"
    }
   ],
   "source": [
    "apparel_model.predict(apparel_train.head(1))"
   ]
  },
  {
   "cell_type": "code",
   "execution_count": 35,
   "metadata": {
    "collapsed": false
   },
   "outputs": [
    {
     "data": {
      "text/plain": [
       "dtype: float\n",
       "Rows: 1\n",
       "[100.0]"
      ]
     },
     "execution_count": 35,
     "metadata": {},
     "output_type": "execute_result"
    }
   ],
   "source": [
    "apparel_train.head(1)['price']"
   ]
  },
  {
   "cell_type": "markdown",
   "metadata": {
    "collapsed": true
   },
   "source": [
    "# Final model 3\n",
    "## Predict price bin"
   ]
  },
  {
   "cell_type": "code",
   "execution_count": null,
   "metadata": {
    "collapsed": false
   },
   "outputs": [],
   "source": []
  },
  {
   "cell_type": "code",
   "execution_count": null,
   "metadata": {
    "collapsed": true
   },
   "outputs": [],
   "source": []
  },
  {
   "cell_type": "code",
   "execution_count": null,
   "metadata": {
    "collapsed": true
   },
   "outputs": [],
   "source": []
  },
  {
   "cell_type": "code",
   "execution_count": null,
   "metadata": {
    "collapsed": false
   },
   "outputs": [],
   "source": []
  },
  {
   "cell_type": "raw",
   "metadata": {},
   "source": []
  },
  {
   "cell_type": "code",
   "execution_count": null,
   "metadata": {
    "collapsed": true
   },
   "outputs": [],
   "source": []
  },
  {
   "cell_type": "code",
   "execution_count": null,
   "metadata": {
    "collapsed": true
   },
   "outputs": [],
   "source": []
  },
  {
   "cell_type": "code",
   "execution_count": null,
   "metadata": {
    "collapsed": true
   },
   "outputs": [],
   "source": []
  }
 ],
 "metadata": {
  "kernelspec": {
   "display_name": "Python 2",
   "language": "python",
   "name": "python2"
  },
  "language_info": {
   "codemirror_mode": {
    "name": "ipython",
    "version": 2
   },
   "file_extension": ".py",
   "mimetype": "text/x-python",
   "name": "python",
   "nbconvert_exporter": "python",
   "pygments_lexer": "ipython2",
   "version": "2.7.11"
  }
 },
 "nbformat": 4,
 "nbformat_minor": 0
}
