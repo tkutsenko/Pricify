{
 "cells": [
  {
   "cell_type": "markdown",
   "metadata": {},
   "source": [
    "# Price for OfferUp"
   ]
  },
  {
   "cell_type": "code",
   "execution_count": 1,
   "metadata": {
    "collapsed": false
   },
   "outputs": [
    {
     "name": "stderr",
     "output_type": "stream",
     "text": [
      "A newer version of GraphLab Create (v2.1) is available! Your current version is v1.9.\n",
      "\n",
      "You can use pip to upgrade the graphlab-create package. For more information see https://dato.com/products/create/upgrade.\n"
     ]
    }
   ],
   "source": [
    "import graphlab\n",
    "import re, string\n",
    "import graphlab.aggregate as agg\n",
    "graphlab.canvas.set_target('ipynb')"
   ]
  },
  {
   "cell_type": "markdown",
   "metadata": {},
   "source": [
    "## Load image analysis datasets\n",
    "\n",
    "I've reduced the data to 6 categories in 3 groups: phones, home (Furniture, Household, Home & Garden), apparel (Baby & Kids, Clothing & Shoes) \n",
    "This dataset is already split into a training set and test set (80/20)."
   ]
  },
  {
   "cell_type": "code",
   "execution_count": 2,
   "metadata": {
    "collapsed": false
   },
   "outputs": [
    {
     "name": "stderr",
     "output_type": "stream",
     "text": [
      "2016-08-07 09:23:56,482 [INFO] graphlab.cython.cy_server, 176: GraphLab Create v1.9 started. Logging: /tmp/graphlab_server_1470587034.log\n"
     ]
    },
    {
     "name": "stdout",
     "output_type": "stream",
     "text": [
      "This trial license of GraphLab Create is assigned to tkutsenko@gmail.com and will expire on April 14, 2017. Please contact trial@turi.com for licensing options or to request a free non-commercial license for academic use.\n"
     ]
    },
    {
     "ename": "IOError",
     "evalue": "/Users/tk/Projects/Galvanize/data/models/phones_train not found.: unspecified iostream_category error: unspecified iostream_category error",
     "output_type": "error",
     "traceback": [
      "\u001b[0;31m---------------------------------------------------------------------------\u001b[0m",
      "\u001b[0;31mIOError\u001b[0m                                   Traceback (most recent call last)",
      "\u001b[0;32m<ipython-input-2-0441bba2286c>\u001b[0m in \u001b[0;36m<module>\u001b[0;34m()\u001b[0m\n\u001b[0;32m----> 1\u001b[0;31m \u001b[0mphones_train\u001b[0m \u001b[0;34m=\u001b[0m \u001b[0mgraphlab\u001b[0m\u001b[0;34m.\u001b[0m\u001b[0mload_sframe\u001b[0m\u001b[0;34m(\u001b[0m\u001b[0;34m'../../data/models/phones_train'\u001b[0m\u001b[0;34m)\u001b[0m\u001b[0;34m\u001b[0m\u001b[0m\n\u001b[0m\u001b[1;32m      2\u001b[0m \u001b[0mphones_test\u001b[0m \u001b[0;34m=\u001b[0m \u001b[0mgraphlab\u001b[0m\u001b[0;34m.\u001b[0m\u001b[0mload_sframe\u001b[0m\u001b[0;34m(\u001b[0m\u001b[0;34m'../../data/models/phones_test'\u001b[0m\u001b[0;34m)\u001b[0m\u001b[0;34m\u001b[0m\u001b[0m\n\u001b[1;32m      3\u001b[0m \u001b[0;34m\u001b[0m\u001b[0m\n\u001b[1;32m      4\u001b[0m \u001b[0mhome_train\u001b[0m \u001b[0;34m=\u001b[0m \u001b[0mgraphlab\u001b[0m\u001b[0;34m.\u001b[0m\u001b[0mload_sframe\u001b[0m\u001b[0;34m(\u001b[0m\u001b[0;34m'../../data/models/home_train'\u001b[0m\u001b[0;34m)\u001b[0m\u001b[0;34m\u001b[0m\u001b[0m\n\u001b[1;32m      5\u001b[0m \u001b[0mhome_test\u001b[0m \u001b[0;34m=\u001b[0m \u001b[0mgraphlab\u001b[0m\u001b[0;34m.\u001b[0m\u001b[0mload_sframe\u001b[0m\u001b[0;34m(\u001b[0m\u001b[0;34m'../../data/models/home_test'\u001b[0m\u001b[0;34m)\u001b[0m\u001b[0;34m\u001b[0m\u001b[0m\n",
      "\u001b[0;32m/Users/tk/anaconda2/lib/python2.7/site-packages/graphlab/data_structures/sframe.pyc\u001b[0m in \u001b[0;36mload_sframe\u001b[0;34m(filename)\u001b[0m\n\u001b[1;32m    216\u001b[0m     \u001b[0;34m>>\u001b[0m\u001b[0;34m>\u001b[0m \u001b[0msf_loaded\u001b[0m \u001b[0;34m=\u001b[0m \u001b[0mgraphlab\u001b[0m\u001b[0;34m.\u001b[0m\u001b[0mload_sframe\u001b[0m\u001b[0;34m(\u001b[0m\u001b[0;34m'my_sframe'\u001b[0m\u001b[0;34m)\u001b[0m\u001b[0;34m\u001b[0m\u001b[0m\n\u001b[1;32m    217\u001b[0m     \"\"\"\n\u001b[0;32m--> 218\u001b[0;31m     \u001b[0msf\u001b[0m \u001b[0;34m=\u001b[0m \u001b[0mSFrame\u001b[0m\u001b[0;34m(\u001b[0m\u001b[0mdata\u001b[0m\u001b[0;34m=\u001b[0m\u001b[0mfilename\u001b[0m\u001b[0;34m)\u001b[0m\u001b[0;34m\u001b[0m\u001b[0m\n\u001b[0m\u001b[1;32m    219\u001b[0m     \u001b[0;32mreturn\u001b[0m \u001b[0msf\u001b[0m\u001b[0;34m\u001b[0m\u001b[0m\n\u001b[1;32m    220\u001b[0m \u001b[0;34m\u001b[0m\u001b[0m\n",
      "\u001b[0;32m/Users/tk/anaconda2/lib/python2.7/site-packages/graphlab/data_structures/sframe.pyc\u001b[0m in \u001b[0;36m__init__\u001b[0;34m(self, data, format, _proxy)\u001b[0m\n\u001b[1;32m    961\u001b[0m                     \u001b[0;32mpass\u001b[0m\u001b[0;34m\u001b[0m\u001b[0m\n\u001b[1;32m    962\u001b[0m                 \u001b[0;32melse\u001b[0m\u001b[0;34m:\u001b[0m\u001b[0;34m\u001b[0m\u001b[0m\n\u001b[0;32m--> 963\u001b[0;31m                     \u001b[0;32mraise\u001b[0m \u001b[0mValueError\u001b[0m\u001b[0;34m(\u001b[0m\u001b[0;34m'Unknown input type: '\u001b[0m \u001b[0;34m+\u001b[0m \u001b[0mformat\u001b[0m\u001b[0;34m)\u001b[0m\u001b[0;34m\u001b[0m\u001b[0m\n\u001b[0m\u001b[1;32m    964\u001b[0m \u001b[0;34m\u001b[0m\u001b[0m\n\u001b[1;32m    965\u001b[0m         \u001b[0msframe_size\u001b[0m \u001b[0;34m=\u001b[0m \u001b[0;34m-\u001b[0m\u001b[0;36m1\u001b[0m\u001b[0;34m\u001b[0m\u001b[0m\n",
      "\u001b[0;32m/Users/tk/anaconda2/lib/python2.7/site-packages/graphlab/cython/context.pyc\u001b[0m in \u001b[0;36m__exit__\u001b[0;34m(self, exc_type, exc_value, traceback)\u001b[0m\n\u001b[1;32m     47\u001b[0m             \u001b[0;32mif\u001b[0m \u001b[0;32mnot\u001b[0m \u001b[0mself\u001b[0m\u001b[0;34m.\u001b[0m\u001b[0mshow_cython_trace\u001b[0m\u001b[0;34m:\u001b[0m\u001b[0;34m\u001b[0m\u001b[0m\n\u001b[1;32m     48\u001b[0m                 \u001b[0;31m# To hide cython trace, we re-raise from here\u001b[0m\u001b[0;34m\u001b[0m\u001b[0;34m\u001b[0m\u001b[0m\n\u001b[0;32m---> 49\u001b[0;31m                 \u001b[0;32mraise\u001b[0m \u001b[0mexc_type\u001b[0m\u001b[0;34m(\u001b[0m\u001b[0mexc_value\u001b[0m\u001b[0;34m)\u001b[0m\u001b[0;34m\u001b[0m\u001b[0m\n\u001b[0m\u001b[1;32m     50\u001b[0m             \u001b[0;32melse\u001b[0m\u001b[0;34m:\u001b[0m\u001b[0;34m\u001b[0m\u001b[0m\n\u001b[1;32m     51\u001b[0m                 \u001b[0;31m# To show the full trace, we do nothing and let exception propagate\u001b[0m\u001b[0;34m\u001b[0m\u001b[0;34m\u001b[0m\u001b[0m\n",
      "\u001b[0;31mIOError\u001b[0m: /Users/tk/Projects/Galvanize/data/models/phones_train not found.: unspecified iostream_category error: unspecified iostream_category error"
     ]
    }
   ],
   "source": [
    "phones_train = graphlab.load_sframe('../../data/models/phones_train')\n",
    "phones_test = graphlab.load_sframe('../../data/models/phones_test')\n",
    "\n",
    "home_train = graphlab.load_sframe('../../data/models/home_train')\n",
    "home_test = graphlab.load_sframe('../../data/models/home_test')\n",
    "\n",
    "apparel_train = graphlab.load_sframe('../../data/models/apparel_train')\n",
    "apparel_test = graphlab.load_sframe('../../data/models/apparel_test')"
   ]
  },
  {
   "cell_type": "markdown",
   "metadata": {},
   "source": [
    "### Features"
   ]
  },
  {
   "cell_type": "code",
   "execution_count": 3,
   "metadata": {
    "collapsed": false
   },
   "outputs": [],
   "source": [
    "features_lst = ['id', 'category_id', 'category_name', 'count_words', 'tfidf', 'image', 'deep_features','price']\n",
    "\n",
    "def features(sf):\n",
    "    # Make price float from string\n",
    "    sf['price'] = sf['price'].astype(float)\n",
    "    #Remove outliers\n",
    "    sf = sf[sf['price'] < 1500]\n",
    "    \n",
    "    # Combine words from title and description\n",
    "    sf['words'] = sf['title'] + ' ' + sf['description']\n",
    "    # Remove punctuation\n",
    "    regex = re.compile('[%s]' % re.escape(string.punctuation))\n",
    "    sf['words'] = sf['words'].apply(lambda x: regex.sub('', x))\n",
    "    #Ttransforms row into an ordered list of strings that represents the a simpler version of the \n",
    "    #Penn-Tree-Bank-style (PTB-style) tokenization\n",
    "    sf['words'] = graphlab.text_analytics.tokenize(sf['words'])\n",
    "\n",
    "    #Bag-of-words\n",
    "    sf['count_words'] = graphlab.text_analytics.count_words(sf['words'])\n",
    "    #Text cleaning. Remove stop words.\n",
    "    sf['count_words'] = sf['count_words'].dict_trim_by_keys(graphlab.text_analytics.stopwords(), exclude=True)\n",
    "    #TF-IDF (term frequency - inverse document frequency)\n",
    "    sf['tfidf'] = graphlab.text_analytics.tf_idf(sf['count_words'])\n",
    "    \n",
    "    return sf.select_columns(features_lst)"
   ]
  },
  {
   "cell_type": "code",
   "execution_count": 4,
   "metadata": {
    "collapsed": false
   },
   "outputs": [
    {
     "data": {
      "text/html": [
       "<pre>Using default 16 lambda workers.</pre>"
      ],
      "text/plain": [
       "Using default 16 lambda workers."
      ]
     },
     "metadata": {},
     "output_type": "display_data"
    },
    {
     "data": {
      "text/html": [
       "<pre>To maximize the degree of parallelism, add the following code to the beginning of the program:</pre>"
      ],
      "text/plain": [
       "To maximize the degree of parallelism, add the following code to the beginning of the program:"
      ]
     },
     "metadata": {},
     "output_type": "display_data"
    },
    {
     "data": {
      "text/html": [
       "<pre>\"graphlab.set_runtime_config('GRAPHLAB_DEFAULT_NUM_PYLAMBDA_WORKERS', 36)\"</pre>"
      ],
      "text/plain": [
       "\"graphlab.set_runtime_config('GRAPHLAB_DEFAULT_NUM_PYLAMBDA_WORKERS', 36)\""
      ]
     },
     "metadata": {},
     "output_type": "display_data"
    },
    {
     "data": {
      "text/html": [
       "<pre>Note that increasing the degree of parallelism also increases the memory footprint.</pre>"
      ],
      "text/plain": [
       "Note that increasing the degree of parallelism also increases the memory footprint."
      ]
     },
     "metadata": {},
     "output_type": "display_data"
    }
   ],
   "source": [
    "phones_train = features(phones_train)\n",
    "home_train = features(home_train)\n",
    "apparel_train = features(apparel_train)\n",
    "phones_test = features(phones_test)\n",
    "home_test = features(home_test)\n",
    "apparel_test = features(apparel_test)"
   ]
  },
  {
   "cell_type": "markdown",
   "metadata": {},
   "source": [
    "## Work with title and description"
   ]
  },
  {
   "cell_type": "markdown",
   "metadata": {},
   "source": [
    "I use Topic models from GraphLab Create to generate topic by title and description"
   ]
  },
  {
   "cell_type": "code",
   "execution_count": 6,
   "metadata": {
    "collapsed": false
   },
   "outputs": [
    {
     "data": {
      "text/html": [
       "<pre>Learning a topic model</pre>"
      ],
      "text/plain": [
       "Learning a topic model"
      ]
     },
     "metadata": {},
     "output_type": "display_data"
    },
    {
     "data": {
      "text/html": [
       "<pre>       Number of documents     68471</pre>"
      ],
      "text/plain": [
       "       Number of documents     68471"
      ]
     },
     "metadata": {},
     "output_type": "display_data"
    },
    {
     "data": {
      "text/html": [
       "<pre>           Vocabulary size     32789</pre>"
      ],
      "text/plain": [
       "           Vocabulary size     32789"
      ]
     },
     "metadata": {},
     "output_type": "display_data"
    },
    {
     "data": {
      "text/html": [
       "<pre>   Running collapsed Gibbs sampling</pre>"
      ],
      "text/plain": [
       "   Running collapsed Gibbs sampling"
      ]
     },
     "metadata": {},
     "output_type": "display_data"
    },
    {
     "data": {
      "text/html": [
       "<pre>+-----------+---------------+----------------+-----------------+</pre>"
      ],
      "text/plain": [
       "+-----------+---------------+----------------+-----------------+"
      ]
     },
     "metadata": {},
     "output_type": "display_data"
    },
    {
     "data": {
      "text/html": [
       "<pre>| Iteration | Elapsed Time  | Tokens/Second  | Est. Perplexity |</pre>"
      ],
      "text/plain": [
       "| Iteration | Elapsed Time  | Tokens/Second  | Est. Perplexity |"
      ]
     },
     "metadata": {},
     "output_type": "display_data"
    },
    {
     "data": {
      "text/html": [
       "<pre>+-----------+---------------+----------------+-----------------+</pre>"
      ],
      "text/plain": [
       "+-----------+---------------+----------------+-----------------+"
      ]
     },
     "metadata": {},
     "output_type": "display_data"
    },
    {
     "data": {
      "text/html": [
       "<pre>| 10        | 2.12s         | 4.13353e+06    | 0               |</pre>"
      ],
      "text/plain": [
       "| 10        | 2.12s         | 4.13353e+06    | 0               |"
      ]
     },
     "metadata": {},
     "output_type": "display_data"
    },
    {
     "data": {
      "text/html": [
       "<pre>| 20        | 3.96s         | 4.45066e+06    | 0               |</pre>"
      ],
      "text/plain": [
       "| 20        | 3.96s         | 4.45066e+06    | 0               |"
      ]
     },
     "metadata": {},
     "output_type": "display_data"
    },
    {
     "data": {
      "text/html": [
       "<pre>| 30        | 5.86s         | 4.43874e+06    | 0               |</pre>"
      ],
      "text/plain": [
       "| 30        | 5.86s         | 4.43874e+06    | 0               |"
      ]
     },
     "metadata": {},
     "output_type": "display_data"
    },
    {
     "data": {
      "text/html": [
       "<pre>| 40        | 7.62s         | 5.5124e+06     | 0               |</pre>"
      ],
      "text/plain": [
       "| 40        | 7.62s         | 5.5124e+06     | 0               |"
      ]
     },
     "metadata": {},
     "output_type": "display_data"
    },
    {
     "data": {
      "text/html": [
       "<pre>| 50        | 9.33s         | 4.56775e+06    | 0               |</pre>"
      ],
      "text/plain": [
       "| 50        | 9.33s         | 4.56775e+06    | 0               |"
      ]
     },
     "metadata": {},
     "output_type": "display_data"
    },
    {
     "data": {
      "text/html": [
       "<pre>| 60        | 11.11s        | 4.90256e+06    | 0               |</pre>"
      ],
      "text/plain": [
       "| 60        | 11.11s        | 4.90256e+06    | 0               |"
      ]
     },
     "metadata": {},
     "output_type": "display_data"
    },
    {
     "data": {
      "text/html": [
       "<pre>| 70        | 12.70s        | 4.49974e+06    | 0               |</pre>"
      ],
      "text/plain": [
       "| 70        | 12.70s        | 4.49974e+06    | 0               |"
      ]
     },
     "metadata": {},
     "output_type": "display_data"
    },
    {
     "data": {
      "text/html": [
       "<pre>| 80        | 14.30s        | 4.74046e+06    | 0               |</pre>"
      ],
      "text/plain": [
       "| 80        | 14.30s        | 4.74046e+06    | 0               |"
      ]
     },
     "metadata": {},
     "output_type": "display_data"
    },
    {
     "data": {
      "text/html": [
       "<pre>| 90        | 16.09s        | 4.54138e+06    | 0               |</pre>"
      ],
      "text/plain": [
       "| 90        | 16.09s        | 4.54138e+06    | 0               |"
      ]
     },
     "metadata": {},
     "output_type": "display_data"
    },
    {
     "data": {
      "text/html": [
       "<pre>| 100       | 17.90s        | 4.4081e+06     | 0               |</pre>"
      ],
      "text/plain": [
       "| 100       | 17.90s        | 4.4081e+06     | 0               |"
      ]
     },
     "metadata": {},
     "output_type": "display_data"
    },
    {
     "data": {
      "text/html": [
       "<pre>+-----------+---------------+----------------+-----------------+</pre>"
      ],
      "text/plain": [
       "+-----------+---------------+----------------+-----------------+"
      ]
     },
     "metadata": {},
     "output_type": "display_data"
    }
   ],
   "source": [
    "# Learn topic model\n",
    "#model = graphlab.topic_model.create(apparel_train['count_words'], num_topics=100, num_iterations=100)"
   ]
  },
  {
   "cell_type": "code",
   "execution_count": null,
   "metadata": {
    "collapsed": true
   },
   "outputs": [],
   "source": [
    "#apparel_train['topic'] = model.predict(apparel_train['count_words'])"
   ]
  },
  {
   "cell_type": "code",
   "execution_count": null,
   "metadata": {
    "collapsed": false
   },
   "outputs": [],
   "source": [
    "#As with other models in GraphLab Create, it's also easy to save and load models.\n",
    "\n",
    "#model.save('my_model')\n",
    "#new_model = graphlab.load_model('my_model')"
   ]
  },
  {
   "cell_type": "markdown",
   "metadata": {},
   "source": [
    "### Evaluating topic models"
   ]
  },
  {
   "cell_type": "code",
   "execution_count": null,
   "metadata": {
    "collapsed": false
   },
   "outputs": [],
   "source": [
    "#model.evaluate(apparel_test['count_words'])"
   ]
  },
  {
   "cell_type": "markdown",
   "metadata": {},
   "source": [
    "Stop on 100 topics with 100 iterations as it gives one of the best results."
   ]
  },
  {
   "cell_type": "code",
   "execution_count": 5,
   "metadata": {
    "collapsed": false
   },
   "outputs": [],
   "source": [
    "# Learn topic model\n",
    "def topic_model(sf):\n",
    "    model = graphlab.topic_model.create(sf['count_words'], num_topics=100, num_iterations=100)\n",
    "    sf['topic'] = model.predict(sf['count_words'])\n",
    "    for i in  xrange(100):\n",
    "        sf['topic_' + str(i)] = sf['topic'].apply(lambda x: (1 if int(x) == i else 0))\n",
    "    return sf"
   ]
  },
  {
   "cell_type": "code",
   "execution_count": 68,
   "metadata": {
    "collapsed": false
   },
   "outputs": [
    {
     "data": {
      "text/html": [
       "<pre>Learning a topic model</pre>"
      ],
      "text/plain": [
       "Learning a topic model"
      ]
     },
     "metadata": {},
     "output_type": "display_data"
    },
    {
     "data": {
      "text/html": [
       "<pre>       Number of documents     15179</pre>"
      ],
      "text/plain": [
       "       Number of documents     15179"
      ]
     },
     "metadata": {},
     "output_type": "display_data"
    },
    {
     "data": {
      "text/html": [
       "<pre>           Vocabulary size      7898</pre>"
      ],
      "text/plain": [
       "           Vocabulary size      7898"
      ]
     },
     "metadata": {},
     "output_type": "display_data"
    },
    {
     "data": {
      "text/html": [
       "<pre>   Running collapsed Gibbs sampling</pre>"
      ],
      "text/plain": [
       "   Running collapsed Gibbs sampling"
      ]
     },
     "metadata": {},
     "output_type": "display_data"
    },
    {
     "data": {
      "text/html": [
       "<pre>+-----------+---------------+----------------+-----------------+</pre>"
      ],
      "text/plain": [
       "+-----------+---------------+----------------+-----------------+"
      ]
     },
     "metadata": {},
     "output_type": "display_data"
    },
    {
     "data": {
      "text/html": [
       "<pre>| Iteration | Elapsed Time  | Tokens/Second  | Est. Perplexity |</pre>"
      ],
      "text/plain": [
       "| Iteration | Elapsed Time  | Tokens/Second  | Est. Perplexity |"
      ]
     },
     "metadata": {},
     "output_type": "display_data"
    },
    {
     "data": {
      "text/html": [
       "<pre>+-----------+---------------+----------------+-----------------+</pre>"
      ],
      "text/plain": [
       "+-----------+---------------+----------------+-----------------+"
      ]
     },
     "metadata": {},
     "output_type": "display_data"
    },
    {
     "data": {
      "text/html": [
       "<pre>| 10        | 905.191ms     | 3.71379e+06    | 0               |</pre>"
      ],
      "text/plain": [
       "| 10        | 905.191ms     | 3.71379e+06    | 0               |"
      ]
     },
     "metadata": {},
     "output_type": "display_data"
    },
    {
     "data": {
      "text/html": [
       "<pre>| 20        | 1.65s         | 4.60808e+06    | 0               |</pre>"
      ],
      "text/plain": [
       "| 20        | 1.65s         | 4.60808e+06    | 0               |"
      ]
     },
     "metadata": {},
     "output_type": "display_data"
    },
    {
     "data": {
      "text/html": [
       "<pre>| 30        | 2.30s         | 3.90922e+06    | 0               |</pre>"
      ],
      "text/plain": [
       "| 30        | 2.30s         | 3.90922e+06    | 0               |"
      ]
     },
     "metadata": {},
     "output_type": "display_data"
    },
    {
     "data": {
      "text/html": [
       "<pre>| 40        | 3.01s         | 4.45495e+06    | 0               |</pre>"
      ],
      "text/plain": [
       "| 40        | 3.01s         | 4.45495e+06    | 0               |"
      ]
     },
     "metadata": {},
     "output_type": "display_data"
    },
    {
     "data": {
      "text/html": [
       "<pre>| 50        | 3.77s         | 4.09783e+06    | 0               |</pre>"
      ],
      "text/plain": [
       "| 50        | 3.77s         | 4.09783e+06    | 0               |"
      ]
     },
     "metadata": {},
     "output_type": "display_data"
    },
    {
     "data": {
      "text/html": [
       "<pre>| 60        | 4.48s         | 4.13844e+06    | 0               |</pre>"
      ],
      "text/plain": [
       "| 60        | 4.48s         | 4.13844e+06    | 0               |"
      ]
     },
     "metadata": {},
     "output_type": "display_data"
    },
    {
     "data": {
      "text/html": [
       "<pre>| 70        | 5.23s         | 3.93189e+06    | 0               |</pre>"
      ],
      "text/plain": [
       "| 70        | 5.23s         | 3.93189e+06    | 0               |"
      ]
     },
     "metadata": {},
     "output_type": "display_data"
    },
    {
     "data": {
      "text/html": [
       "<pre>| 80        | 5.93s         | 3.93739e+06    | 0               |</pre>"
      ],
      "text/plain": [
       "| 80        | 5.93s         | 3.93739e+06    | 0               |"
      ]
     },
     "metadata": {},
     "output_type": "display_data"
    },
    {
     "data": {
      "text/html": [
       "<pre>| 90        | 6.66s         | 4.2223e+06     | 0               |</pre>"
      ],
      "text/plain": [
       "| 90        | 6.66s         | 4.2223e+06     | 0               |"
      ]
     },
     "metadata": {},
     "output_type": "display_data"
    },
    {
     "data": {
      "text/html": [
       "<pre>| 100       | 7.37s         | 3.94823e+06    | 0               |</pre>"
      ],
      "text/plain": [
       "| 100       | 7.37s         | 3.94823e+06    | 0               |"
      ]
     },
     "metadata": {},
     "output_type": "display_data"
    },
    {
     "data": {
      "text/html": [
       "<pre>+-----------+---------------+----------------+-----------------+</pre>"
      ],
      "text/plain": [
       "+-----------+---------------+----------------+-----------------+"
      ]
     },
     "metadata": {},
     "output_type": "display_data"
    },
    {
     "data": {
      "text/html": [
       "<pre>Learning a topic model</pre>"
      ],
      "text/plain": [
       "Learning a topic model"
      ]
     },
     "metadata": {},
     "output_type": "display_data"
    },
    {
     "data": {
      "text/html": [
       "<pre>       Number of documents     59752</pre>"
      ],
      "text/plain": [
       "       Number of documents     59752"
      ]
     },
     "metadata": {},
     "output_type": "display_data"
    },
    {
     "data": {
      "text/html": [
       "<pre>           Vocabulary size     31823</pre>"
      ],
      "text/plain": [
       "           Vocabulary size     31823"
      ]
     },
     "metadata": {},
     "output_type": "display_data"
    },
    {
     "data": {
      "text/html": [
       "<pre>   Running collapsed Gibbs sampling</pre>"
      ],
      "text/plain": [
       "   Running collapsed Gibbs sampling"
      ]
     },
     "metadata": {},
     "output_type": "display_data"
    },
    {
     "data": {
      "text/html": [
       "<pre>+-----------+---------------+----------------+-----------------+</pre>"
      ],
      "text/plain": [
       "+-----------+---------------+----------------+-----------------+"
      ]
     },
     "metadata": {},
     "output_type": "display_data"
    },
    {
     "data": {
      "text/html": [
       "<pre>| Iteration | Elapsed Time  | Tokens/Second  | Est. Perplexity |</pre>"
      ],
      "text/plain": [
       "| Iteration | Elapsed Time  | Tokens/Second  | Est. Perplexity |"
      ]
     },
     "metadata": {},
     "output_type": "display_data"
    },
    {
     "data": {
      "text/html": [
       "<pre>+-----------+---------------+----------------+-----------------+</pre>"
      ],
      "text/plain": [
       "+-----------+---------------+----------------+-----------------+"
      ]
     },
     "metadata": {},
     "output_type": "display_data"
    },
    {
     "data": {
      "text/html": [
       "<pre>| 10        | 1.65s         | 4.52773e+06    | 0               |</pre>"
      ],
      "text/plain": [
       "| 10        | 1.65s         | 4.52773e+06    | 0               |"
      ]
     },
     "metadata": {},
     "output_type": "display_data"
    },
    {
     "data": {
      "text/html": [
       "<pre>| 20        | 3.16s         | 4.9534e+06     | 0               |</pre>"
      ],
      "text/plain": [
       "| 20        | 3.16s         | 4.9534e+06     | 0               |"
      ]
     },
     "metadata": {},
     "output_type": "display_data"
    },
    {
     "data": {
      "text/html": [
       "<pre>| 30        | 4.51s         | 6.71037e+06    | 0               |</pre>"
      ],
      "text/plain": [
       "| 30        | 4.51s         | 6.71037e+06    | 0               |"
      ]
     },
     "metadata": {},
     "output_type": "display_data"
    },
    {
     "data": {
      "text/html": [
       "<pre>| 40        | 5.82s         | 4.60578e+06    | 0               |</pre>"
      ],
      "text/plain": [
       "| 40        | 5.82s         | 4.60578e+06    | 0               |"
      ]
     },
     "metadata": {},
     "output_type": "display_data"
    },
    {
     "data": {
      "text/html": [
       "<pre>| 50        | 7.21s         | 4.91455e+06    | 0               |</pre>"
      ],
      "text/plain": [
       "| 50        | 7.21s         | 4.91455e+06    | 0               |"
      ]
     },
     "metadata": {},
     "output_type": "display_data"
    },
    {
     "data": {
      "text/html": [
       "<pre>| 60        | 8.53s         | 6.23139e+06    | 0               |</pre>"
      ],
      "text/plain": [
       "| 60        | 8.53s         | 6.23139e+06    | 0               |"
      ]
     },
     "metadata": {},
     "output_type": "display_data"
    },
    {
     "data": {
      "text/html": [
       "<pre>| 70        | 9.69s         | 5.38936e+06    | 0               |</pre>"
      ],
      "text/plain": [
       "| 70        | 9.69s         | 5.38936e+06    | 0               |"
      ]
     },
     "metadata": {},
     "output_type": "display_data"
    },
    {
     "data": {
      "text/html": [
       "<pre>| 80        | 11.06s        | 4.97726e+06    | 0               |</pre>"
      ],
      "text/plain": [
       "| 80        | 11.06s        | 4.97726e+06    | 0               |"
      ]
     },
     "metadata": {},
     "output_type": "display_data"
    },
    {
     "data": {
      "text/html": [
       "<pre>| 90        | 12.38s        | 4.94638e+06    | 0               |</pre>"
      ],
      "text/plain": [
       "| 90        | 12.38s        | 4.94638e+06    | 0               |"
      ]
     },
     "metadata": {},
     "output_type": "display_data"
    },
    {
     "data": {
      "text/html": [
       "<pre>| 100       | 13.79s        | 5.00471e+06    | 0               |</pre>"
      ],
      "text/plain": [
       "| 100       | 13.79s        | 5.00471e+06    | 0               |"
      ]
     },
     "metadata": {},
     "output_type": "display_data"
    },
    {
     "data": {
      "text/html": [
       "<pre>+-----------+---------------+----------------+-----------------+</pre>"
      ],
      "text/plain": [
       "+-----------+---------------+----------------+-----------------+"
      ]
     },
     "metadata": {},
     "output_type": "display_data"
    },
    {
     "data": {
      "text/html": [
       "<pre>Learning a topic model</pre>"
      ],
      "text/plain": [
       "Learning a topic model"
      ]
     },
     "metadata": {},
     "output_type": "display_data"
    },
    {
     "data": {
      "text/html": [
       "<pre>       Number of documents     68471</pre>"
      ],
      "text/plain": [
       "       Number of documents     68471"
      ]
     },
     "metadata": {},
     "output_type": "display_data"
    },
    {
     "data": {
      "text/html": [
       "<pre>           Vocabulary size     32789</pre>"
      ],
      "text/plain": [
       "           Vocabulary size     32789"
      ]
     },
     "metadata": {},
     "output_type": "display_data"
    },
    {
     "data": {
      "text/html": [
       "<pre>   Running collapsed Gibbs sampling</pre>"
      ],
      "text/plain": [
       "   Running collapsed Gibbs sampling"
      ]
     },
     "metadata": {},
     "output_type": "display_data"
    },
    {
     "data": {
      "text/html": [
       "<pre>+-----------+---------------+----------------+-----------------+</pre>"
      ],
      "text/plain": [
       "+-----------+---------------+----------------+-----------------+"
      ]
     },
     "metadata": {},
     "output_type": "display_data"
    },
    {
     "data": {
      "text/html": [
       "<pre>| Iteration | Elapsed Time  | Tokens/Second  | Est. Perplexity |</pre>"
      ],
      "text/plain": [
       "| Iteration | Elapsed Time  | Tokens/Second  | Est. Perplexity |"
      ]
     },
     "metadata": {},
     "output_type": "display_data"
    },
    {
     "data": {
      "text/html": [
       "<pre>+-----------+---------------+----------------+-----------------+</pre>"
      ],
      "text/plain": [
       "+-----------+---------------+----------------+-----------------+"
      ]
     },
     "metadata": {},
     "output_type": "display_data"
    },
    {
     "data": {
      "text/html": [
       "<pre>| 10        | 2.01s         | 4.89156e+06    | 0               |</pre>"
      ],
      "text/plain": [
       "| 10        | 2.01s         | 4.89156e+06    | 0               |"
      ]
     },
     "metadata": {},
     "output_type": "display_data"
    },
    {
     "data": {
      "text/html": [
       "<pre>| 20        | 3.52s         | 5.31344e+06    | 0               |</pre>"
      ],
      "text/plain": [
       "| 20        | 3.52s         | 5.31344e+06    | 0               |"
      ]
     },
     "metadata": {},
     "output_type": "display_data"
    },
    {
     "data": {
      "text/html": [
       "<pre>| 30        | 4.91s         | 5.13022e+06    | 0               |</pre>"
      ],
      "text/plain": [
       "| 30        | 4.91s         | 5.13022e+06    | 0               |"
      ]
     },
     "metadata": {},
     "output_type": "display_data"
    },
    {
     "data": {
      "text/html": [
       "<pre>| 40        | 6.58s         | 4.89847e+06    | 0               |</pre>"
      ],
      "text/plain": [
       "| 40        | 6.58s         | 4.89847e+06    | 0               |"
      ]
     },
     "metadata": {},
     "output_type": "display_data"
    },
    {
     "data": {
      "text/html": [
       "<pre>| 50        | 8.14s         | 5.47803e+06    | 0               |</pre>"
      ],
      "text/plain": [
       "| 50        | 8.14s         | 5.47803e+06    | 0               |"
      ]
     },
     "metadata": {},
     "output_type": "display_data"
    },
    {
     "data": {
      "text/html": [
       "<pre>| 60        | 9.65s         | 5.0428e+06     | 0               |</pre>"
      ],
      "text/plain": [
       "| 60        | 9.65s         | 5.0428e+06     | 0               |"
      ]
     },
     "metadata": {},
     "output_type": "display_data"
    },
    {
     "data": {
      "text/html": [
       "<pre>| 70        | 11.07s        | 5.44769e+06    | 0               |</pre>"
      ],
      "text/plain": [
       "| 70        | 11.07s        | 5.44769e+06    | 0               |"
      ]
     },
     "metadata": {},
     "output_type": "display_data"
    },
    {
     "data": {
      "text/html": [
       "<pre>| 80        | 12.80s        | 4.84807e+06    | 0               |</pre>"
      ],
      "text/plain": [
       "| 80        | 12.80s        | 4.84807e+06    | 0               |"
      ]
     },
     "metadata": {},
     "output_type": "display_data"
    },
    {
     "data": {
      "text/html": [
       "<pre>| 90        | 14.51s        | 4.86819e+06    | 0               |</pre>"
      ],
      "text/plain": [
       "| 90        | 14.51s        | 4.86819e+06    | 0               |"
      ]
     },
     "metadata": {},
     "output_type": "display_data"
    },
    {
     "data": {
      "text/html": [
       "<pre>| 100       | 16.21s        | 4.84096e+06    | 0               |</pre>"
      ],
      "text/plain": [
       "| 100       | 16.21s        | 4.84096e+06    | 0               |"
      ]
     },
     "metadata": {},
     "output_type": "display_data"
    },
    {
     "data": {
      "text/html": [
       "<pre>+-----------+---------------+----------------+-----------------+</pre>"
      ],
      "text/plain": [
       "+-----------+---------------+----------------+-----------------+"
      ]
     },
     "metadata": {},
     "output_type": "display_data"
    },
    {
     "data": {
      "text/html": [
       "<pre>Learning a topic model</pre>"
      ],
      "text/plain": [
       "Learning a topic model"
      ]
     },
     "metadata": {},
     "output_type": "display_data"
    },
    {
     "data": {
      "text/html": [
       "<pre>       Number of documents      3705</pre>"
      ],
      "text/plain": [
       "       Number of documents      3705"
      ]
     },
     "metadata": {},
     "output_type": "display_data"
    },
    {
     "data": {
      "text/html": [
       "<pre>           Vocabulary size      3952</pre>"
      ],
      "text/plain": [
       "           Vocabulary size      3952"
      ]
     },
     "metadata": {},
     "output_type": "display_data"
    },
    {
     "data": {
      "text/html": [
       "<pre>   Running collapsed Gibbs sampling</pre>"
      ],
      "text/plain": [
       "   Running collapsed Gibbs sampling"
      ]
     },
     "metadata": {},
     "output_type": "display_data"
    },
    {
     "data": {
      "text/html": [
       "<pre>+-----------+---------------+----------------+-----------------+</pre>"
      ],
      "text/plain": [
       "+-----------+---------------+----------------+-----------------+"
      ]
     },
     "metadata": {},
     "output_type": "display_data"
    },
    {
     "data": {
      "text/html": [
       "<pre>| Iteration | Elapsed Time  | Tokens/Second  | Est. Perplexity |</pre>"
      ],
      "text/plain": [
       "| Iteration | Elapsed Time  | Tokens/Second  | Est. Perplexity |"
      ]
     },
     "metadata": {},
     "output_type": "display_data"
    },
    {
     "data": {
      "text/html": [
       "<pre>+-----------+---------------+----------------+-----------------+</pre>"
      ],
      "text/plain": [
       "+-----------+---------------+----------------+-----------------+"
      ]
     },
     "metadata": {},
     "output_type": "display_data"
    },
    {
     "data": {
      "text/html": [
       "<pre>| 10        | 246.225ms     | 3.24707e+06    | 0               |</pre>"
      ],
      "text/plain": [
       "| 10        | 246.225ms     | 3.24707e+06    | 0               |"
      ]
     },
     "metadata": {},
     "output_type": "display_data"
    },
    {
     "data": {
      "text/html": [
       "<pre>| 20        | 472.738ms     | 2.99121e+06    | 0               |</pre>"
      ],
      "text/plain": [
       "| 20        | 472.738ms     | 2.99121e+06    | 0               |"
      ]
     },
     "metadata": {},
     "output_type": "display_data"
    },
    {
     "data": {
      "text/html": [
       "<pre>| 30        | 697.042ms     | 3.28812e+06    | 0               |</pre>"
      ],
      "text/plain": [
       "| 30        | 697.042ms     | 3.28812e+06    | 0               |"
      ]
     },
     "metadata": {},
     "output_type": "display_data"
    },
    {
     "data": {
      "text/html": [
       "<pre>| 40        | 899.777ms     | 3.42967e+06    | 0               |</pre>"
      ],
      "text/plain": [
       "| 40        | 899.777ms     | 3.42967e+06    | 0               |"
      ]
     },
     "metadata": {},
     "output_type": "display_data"
    },
    {
     "data": {
      "text/html": [
       "<pre>| 50        | 1.11s         | 3.37596e+06    | 0               |</pre>"
      ],
      "text/plain": [
       "| 50        | 1.11s         | 3.37596e+06    | 0               |"
      ]
     },
     "metadata": {},
     "output_type": "display_data"
    },
    {
     "data": {
      "text/html": [
       "<pre>| 60        | 1.32s         | 3.33285e+06    | 0               |</pre>"
      ],
      "text/plain": [
       "| 60        | 1.32s         | 3.33285e+06    | 0               |"
      ]
     },
     "metadata": {},
     "output_type": "display_data"
    },
    {
     "data": {
      "text/html": [
       "<pre>| 70        | 1.54s         | 3.04191e+06    | 0               |</pre>"
      ],
      "text/plain": [
       "| 70        | 1.54s         | 3.04191e+06    | 0               |"
      ]
     },
     "metadata": {},
     "output_type": "display_data"
    },
    {
     "data": {
      "text/html": [
       "<pre>| 80        | 1.74s         | 3.35262e+06    | 0               |</pre>"
      ],
      "text/plain": [
       "| 80        | 1.74s         | 3.35262e+06    | 0               |"
      ]
     },
     "metadata": {},
     "output_type": "display_data"
    },
    {
     "data": {
      "text/html": [
       "<pre>| 90        | 1.95s         | 3.41791e+06    | 0               |</pre>"
      ],
      "text/plain": [
       "| 90        | 1.95s         | 3.41791e+06    | 0               |"
      ]
     },
     "metadata": {},
     "output_type": "display_data"
    },
    {
     "data": {
      "text/html": [
       "<pre>| 100       | 2.16s         | 3.55943e+06    | 0               |</pre>"
      ],
      "text/plain": [
       "| 100       | 2.16s         | 3.55943e+06    | 0               |"
      ]
     },
     "metadata": {},
     "output_type": "display_data"
    },
    {
     "data": {
      "text/html": [
       "<pre>+-----------+---------------+----------------+-----------------+</pre>"
      ],
      "text/plain": [
       "+-----------+---------------+----------------+-----------------+"
      ]
     },
     "metadata": {},
     "output_type": "display_data"
    },
    {
     "data": {
      "text/html": [
       "<pre>Learning a topic model</pre>"
      ],
      "text/plain": [
       "Learning a topic model"
      ]
     },
     "metadata": {},
     "output_type": "display_data"
    },
    {
     "data": {
      "text/html": [
       "<pre>       Number of documents     15018</pre>"
      ],
      "text/plain": [
       "       Number of documents     15018"
      ]
     },
     "metadata": {},
     "output_type": "display_data"
    },
    {
     "data": {
      "text/html": [
       "<pre>           Vocabulary size     16812</pre>"
      ],
      "text/plain": [
       "           Vocabulary size     16812"
      ]
     },
     "metadata": {},
     "output_type": "display_data"
    },
    {
     "data": {
      "text/html": [
       "<pre>   Running collapsed Gibbs sampling</pre>"
      ],
      "text/plain": [
       "   Running collapsed Gibbs sampling"
      ]
     },
     "metadata": {},
     "output_type": "display_data"
    },
    {
     "data": {
      "text/html": [
       "<pre>+-----------+---------------+----------------+-----------------+</pre>"
      ],
      "text/plain": [
       "+-----------+---------------+----------------+-----------------+"
      ]
     },
     "metadata": {},
     "output_type": "display_data"
    },
    {
     "data": {
      "text/html": [
       "<pre>| Iteration | Elapsed Time  | Tokens/Second  | Est. Perplexity |</pre>"
      ],
      "text/plain": [
       "| Iteration | Elapsed Time  | Tokens/Second  | Est. Perplexity |"
      ]
     },
     "metadata": {},
     "output_type": "display_data"
    },
    {
     "data": {
      "text/html": [
       "<pre>+-----------+---------------+----------------+-----------------+</pre>"
      ],
      "text/plain": [
       "+-----------+---------------+----------------+-----------------+"
      ]
     },
     "metadata": {},
     "output_type": "display_data"
    },
    {
     "data": {
      "text/html": [
       "<pre>| 10        | 487.956ms     | 4.05626e+06    | 0               |</pre>"
      ],
      "text/plain": [
       "| 10        | 487.956ms     | 4.05626e+06    | 0               |"
      ]
     },
     "metadata": {},
     "output_type": "display_data"
    },
    {
     "data": {
      "text/html": [
       "<pre>| 20        | 913.984ms     | 4.10417e+06    | 0               |</pre>"
      ],
      "text/plain": [
       "| 20        | 913.984ms     | 4.10417e+06    | 0               |"
      ]
     },
     "metadata": {},
     "output_type": "display_data"
    },
    {
     "data": {
      "text/html": [
       "<pre>| 30        | 1.33s         | 4.19767e+06    | 0               |</pre>"
      ],
      "text/plain": [
       "| 30        | 1.33s         | 4.19767e+06    | 0               |"
      ]
     },
     "metadata": {},
     "output_type": "display_data"
    },
    {
     "data": {
      "text/html": [
       "<pre>| 40        | 1.74s         | 4.51264e+06    | 0               |</pre>"
      ],
      "text/plain": [
       "| 40        | 1.74s         | 4.51264e+06    | 0               |"
      ]
     },
     "metadata": {},
     "output_type": "display_data"
    },
    {
     "data": {
      "text/html": [
       "<pre>| 50        | 2.15s         | 4.30067e+06    | 0               |</pre>"
      ],
      "text/plain": [
       "| 50        | 2.15s         | 4.30067e+06    | 0               |"
      ]
     },
     "metadata": {},
     "output_type": "display_data"
    },
    {
     "data": {
      "text/html": [
       "<pre>| 60        | 2.55s         | 4.28727e+06    | 0               |</pre>"
      ],
      "text/plain": [
       "| 60        | 2.55s         | 4.28727e+06    | 0               |"
      ]
     },
     "metadata": {},
     "output_type": "display_data"
    },
    {
     "data": {
      "text/html": [
       "<pre>| 70        | 2.96s         | 4.24399e+06    | 0               |</pre>"
      ],
      "text/plain": [
       "| 70        | 2.96s         | 4.24399e+06    | 0               |"
      ]
     },
     "metadata": {},
     "output_type": "display_data"
    },
    {
     "data": {
      "text/html": [
       "<pre>| 80        | 3.36s         | 4.59265e+06    | 0               |</pre>"
      ],
      "text/plain": [
       "| 80        | 3.36s         | 4.59265e+06    | 0               |"
      ]
     },
     "metadata": {},
     "output_type": "display_data"
    },
    {
     "data": {
      "text/html": [
       "<pre>| 90        | 3.75s         | 4.57785e+06    | 0               |</pre>"
      ],
      "text/plain": [
       "| 90        | 3.75s         | 4.57785e+06    | 0               |"
      ]
     },
     "metadata": {},
     "output_type": "display_data"
    },
    {
     "data": {
      "text/html": [
       "<pre>| 100       | 4.15s         | 4.41537e+06    | 0               |</pre>"
      ],
      "text/plain": [
       "| 100       | 4.15s         | 4.41537e+06    | 0               |"
      ]
     },
     "metadata": {},
     "output_type": "display_data"
    },
    {
     "data": {
      "text/html": [
       "<pre>+-----------+---------------+----------------+-----------------+</pre>"
      ],
      "text/plain": [
       "+-----------+---------------+----------------+-----------------+"
      ]
     },
     "metadata": {},
     "output_type": "display_data"
    },
    {
     "data": {
      "text/html": [
       "<pre>Learning a topic model</pre>"
      ],
      "text/plain": [
       "Learning a topic model"
      ]
     },
     "metadata": {},
     "output_type": "display_data"
    },
    {
     "data": {
      "text/html": [
       "<pre>       Number of documents     17244</pre>"
      ],
      "text/plain": [
       "       Number of documents     17244"
      ]
     },
     "metadata": {},
     "output_type": "display_data"
    },
    {
     "data": {
      "text/html": [
       "<pre>           Vocabulary size     17184</pre>"
      ],
      "text/plain": [
       "           Vocabulary size     17184"
      ]
     },
     "metadata": {},
     "output_type": "display_data"
    },
    {
     "data": {
      "text/html": [
       "<pre>   Running collapsed Gibbs sampling</pre>"
      ],
      "text/plain": [
       "   Running collapsed Gibbs sampling"
      ]
     },
     "metadata": {},
     "output_type": "display_data"
    },
    {
     "data": {
      "text/html": [
       "<pre>+-----------+---------------+----------------+-----------------+</pre>"
      ],
      "text/plain": [
       "+-----------+---------------+----------------+-----------------+"
      ]
     },
     "metadata": {},
     "output_type": "display_data"
    },
    {
     "data": {
      "text/html": [
       "<pre>| Iteration | Elapsed Time  | Tokens/Second  | Est. Perplexity |</pre>"
      ],
      "text/plain": [
       "| Iteration | Elapsed Time  | Tokens/Second  | Est. Perplexity |"
      ]
     },
     "metadata": {},
     "output_type": "display_data"
    },
    {
     "data": {
      "text/html": [
       "<pre>+-----------+---------------+----------------+-----------------+</pre>"
      ],
      "text/plain": [
       "+-----------+---------------+----------------+-----------------+"
      ]
     },
     "metadata": {},
     "output_type": "display_data"
    },
    {
     "data": {
      "text/html": [
       "<pre>| 10        | 553.818ms     | 4.4064e+06     | 0               |</pre>"
      ],
      "text/plain": [
       "| 10        | 553.818ms     | 4.4064e+06     | 0               |"
      ]
     },
     "metadata": {},
     "output_type": "display_data"
    },
    {
     "data": {
      "text/html": [
       "<pre>| 20        | 1.02s         | 4.68727e+06    | 0               |</pre>"
      ],
      "text/plain": [
       "| 20        | 1.02s         | 4.68727e+06    | 0               |"
      ]
     },
     "metadata": {},
     "output_type": "display_data"
    },
    {
     "data": {
      "text/html": [
       "<pre>| 30        | 1.49s         | 4.51755e+06    | 0               |</pre>"
      ],
      "text/plain": [
       "| 30        | 1.49s         | 4.51755e+06    | 0               |"
      ]
     },
     "metadata": {},
     "output_type": "display_data"
    },
    {
     "data": {
      "text/html": [
       "<pre>| 40        | 1.96s         | 4.42737e+06    | 0               |</pre>"
      ],
      "text/plain": [
       "| 40        | 1.96s         | 4.42737e+06    | 0               |"
      ]
     },
     "metadata": {},
     "output_type": "display_data"
    },
    {
     "data": {
      "text/html": [
       "<pre>| 50        | 2.44s         | 4.36351e+06    | 0               |</pre>"
      ],
      "text/plain": [
       "| 50        | 2.44s         | 4.36351e+06    | 0               |"
      ]
     },
     "metadata": {},
     "output_type": "display_data"
    },
    {
     "data": {
      "text/html": [
       "<pre>| 60        | 2.91s         | 4.49418e+06    | 0               |</pre>"
      ],
      "text/plain": [
       "| 60        | 2.91s         | 4.49418e+06    | 0               |"
      ]
     },
     "metadata": {},
     "output_type": "display_data"
    },
    {
     "data": {
      "text/html": [
       "<pre>| 70        | 3.38s         | 4.40909e+06    | 0               |</pre>"
      ],
      "text/plain": [
       "| 70        | 3.38s         | 4.40909e+06    | 0               |"
      ]
     },
     "metadata": {},
     "output_type": "display_data"
    },
    {
     "data": {
      "text/html": [
       "<pre>| 80        | 3.85s         | 4.4744e+06     | 0               |</pre>"
      ],
      "text/plain": [
       "| 80        | 3.85s         | 4.4744e+06     | 0               |"
      ]
     },
     "metadata": {},
     "output_type": "display_data"
    },
    {
     "data": {
      "text/html": [
       "<pre>| 90        | 4.32s         | 4.43196e+06    | 0               |</pre>"
      ],
      "text/plain": [
       "| 90        | 4.32s         | 4.43196e+06    | 0               |"
      ]
     },
     "metadata": {},
     "output_type": "display_data"
    },
    {
     "data": {
      "text/html": [
       "<pre>| 100       | 4.80s         | 4.12795e+06    | 0               |</pre>"
      ],
      "text/plain": [
       "| 100       | 4.80s         | 4.12795e+06    | 0               |"
      ]
     },
     "metadata": {},
     "output_type": "display_data"
    },
    {
     "data": {
      "text/html": [
       "<pre>+-----------+---------------+----------------+-----------------+</pre>"
      ],
      "text/plain": [
       "+-----------+---------------+----------------+-----------------+"
      ]
     },
     "metadata": {},
     "output_type": "display_data"
    }
   ],
   "source": [
    "phones_train = topic_model(phones_train)\n",
    "home_train = topic_model(home_train)\n",
    "apparel_train = topic_model(apparel_train)\n",
    "phones_test = topic_model(phones_test)\n",
    "home_test = topic_model(home_test)\n",
    "apparel_test = topic_model(apparel_test)\n"
   ]
  },
  {
   "cell_type": "markdown",
   "metadata": {},
   "source": [
    "# Final model 1\n",
    "## Find 5 nearest neighbours"
   ]
  },
  {
   "cell_type": "code",
   "execution_count": 70,
   "metadata": {
    "collapsed": false
   },
   "outputs": [],
   "source": [
    "def nearest_neighbors(sf, name):\n",
    "    #'deep_features','tfidf','topic_0','topic_1','topic_2', ...\n",
    "    feature_lst = set(\n",
    "                      sf.column_names()) - \\\n",
    "                      set(['id', 'category_id', 'category_name', 'count_words', 'image', 'price', 'topic']\n",
    "                      )\n",
    "    model = graphlab.nearest_neighbors.create(sf, features=list(feature_lst))\n",
    "    model.save('data/similar_images_for_' + name)\n",
    "    return model"
   ]
  },
  {
   "cell_type": "code",
   "execution_count": 71,
   "metadata": {
    "collapsed": false
   },
   "outputs": [],
   "source": [
    "def get_neighbours(model, item):\n",
    "    similar_images = model.query(item, k = 5)\n",
    "    similar_images = similar_images.groupby(key_columns='query_label', operations={\"neighbours\":agg.CONCAT(\"reference_label\")})\n",
    "    return similar_images"
   ]
  },
  {
   "cell_type": "code",
   "execution_count": 72,
   "metadata": {
    "collapsed": false
   },
   "outputs": [
    {
     "name": "stdout",
     "output_type": "stream",
     "text": [
      "Defaulting to brute force instead of ball tree because there are multiple distance components.\n"
     ]
    },
    {
     "data": {
      "text/html": [
       "<pre>Starting brute force nearest neighbors model training.</pre>"
      ],
      "text/plain": [
       "Starting brute force nearest neighbors model training."
      ]
     },
     "metadata": {},
     "output_type": "display_data"
    }
   ],
   "source": [
    "phones_model = nearest_neighbors(phones_train, 'phones_train')"
   ]
  },
  {
   "cell_type": "code",
   "execution_count": 73,
   "metadata": {
    "collapsed": false
   },
   "outputs": [],
   "source": [
    "#phones_model = graphlab.load_model('data/similar_images_for_phones_train')"
   ]
  },
  {
   "cell_type": "code",
   "execution_count": 74,
   "metadata": {
    "collapsed": false
   },
   "outputs": [
    {
     "data": {
      "text/html": [
       "<pre>Starting pairwise querying.</pre>"
      ],
      "text/plain": [
       "Starting pairwise querying."
      ]
     },
     "metadata": {},
     "output_type": "display_data"
    },
    {
     "data": {
      "text/html": [
       "<pre>+--------------+---------+-------------+--------------+</pre>"
      ],
      "text/plain": [
       "+--------------+---------+-------------+--------------+"
      ]
     },
     "metadata": {},
     "output_type": "display_data"
    },
    {
     "data": {
      "text/html": [
       "<pre>| Query points | # Pairs | % Complete. | Elapsed Time |</pre>"
      ],
      "text/plain": [
       "| Query points | # Pairs | % Complete. | Elapsed Time |"
      ]
     },
     "metadata": {},
     "output_type": "display_data"
    },
    {
     "data": {
      "text/html": [
       "<pre>+--------------+---------+-------------+--------------+</pre>"
      ],
      "text/plain": [
       "+--------------+---------+-------------+--------------+"
      ]
     },
     "metadata": {},
     "output_type": "display_data"
    },
    {
     "data": {
      "text/html": [
       "<pre>| 0            | 1       | 0.00658805  | 4.956ms      |</pre>"
      ],
      "text/plain": [
       "| 0            | 1       | 0.00658805  | 4.956ms      |"
      ]
     },
     "metadata": {},
     "output_type": "display_data"
    },
    {
     "data": {
      "text/html": [
       "<pre>| Done         |         | 100         | 134.398ms    |</pre>"
      ],
      "text/plain": [
       "| Done         |         | 100         | 134.398ms    |"
      ]
     },
     "metadata": {},
     "output_type": "display_data"
    },
    {
     "data": {
      "text/html": [
       "<pre>+--------------+---------+-------------+--------------+</pre>"
      ],
      "text/plain": [
       "+--------------+---------+-------------+--------------+"
      ]
     },
     "metadata": {},
     "output_type": "display_data"
    },
    {
     "data": {
      "text/html": [
       "<div style=\"max-height:1000px;max-width:1500px;overflow:auto;\"><table frame=\"box\" rules=\"cols\">\n",
       "    <tr>\n",
       "        <th style=\"padding-left: 1em; padding-right: 1em; text-align: center\">query_label</th>\n",
       "        <th style=\"padding-left: 1em; padding-right: 1em; text-align: center\">neighbours</th>\n",
       "    </tr>\n",
       "    <tr>\n",
       "        <td style=\"padding-left: 1em; padding-right: 1em; text-align: center; vertical-align: top\">0</td>\n",
       "        <td style=\"padding-left: 1em; padding-right: 1em; text-align: center; vertical-align: top\">[8531, 7164, 2450, 1418,<br>5443] ...</td>\n",
       "    </tr>\n",
       "</table>\n",
       "[1 rows x 2 columns]<br/>\n",
       "</div>"
      ],
      "text/plain": [
       "Columns:\n",
       "\tquery_label\tint\n",
       "\tneighbours\tlist\n",
       "\n",
       "Rows: 1\n",
       "\n",
       "Data:\n",
       "+-------------+--------------------------------+\n",
       "| query_label |           neighbours           |\n",
       "+-------------+--------------------------------+\n",
       "|      0      | [8531, 7164, 2450, 1418, 5443] |\n",
       "+-------------+--------------------------------+\n",
       "[1 rows x 2 columns]"
      ]
     },
     "execution_count": 74,
     "metadata": {},
     "output_type": "execute_result"
    }
   ],
   "source": [
    "get_neighbours(phones_model, graphlab.SFrame(phones_test.head(1)))"
   ]
  },
  {
   "cell_type": "code",
   "execution_count": 75,
   "metadata": {
    "collapsed": false
   },
   "outputs": [
    {
     "name": "stdout",
     "output_type": "stream",
     "text": [
      "Defaulting to brute force instead of ball tree because there are multiple distance components.\n"
     ]
    },
    {
     "data": {
      "text/html": [
       "<pre>Starting brute force nearest neighbors model training.</pre>"
      ],
      "text/plain": [
       "Starting brute force nearest neighbors model training."
      ]
     },
     "metadata": {},
     "output_type": "display_data"
    }
   ],
   "source": [
    "apparel_model = nearest_neighbors(apparel_train, 'apparel_train')"
   ]
  },
  {
   "cell_type": "code",
   "execution_count": 76,
   "metadata": {
    "collapsed": false
   },
   "outputs": [],
   "source": [
    "#apparel_model = graphlab.load_model('data/similar_images_for_apparel_train')"
   ]
  },
  {
   "cell_type": "code",
   "execution_count": 77,
   "metadata": {
    "collapsed": false
   },
   "outputs": [
    {
     "data": {
      "text/html": [
       "<pre>Starting pairwise querying.</pre>"
      ],
      "text/plain": [
       "Starting pairwise querying."
      ]
     },
     "metadata": {},
     "output_type": "display_data"
    },
    {
     "data": {
      "text/html": [
       "<pre>+--------------+---------+-------------+--------------+</pre>"
      ],
      "text/plain": [
       "+--------------+---------+-------------+--------------+"
      ]
     },
     "metadata": {},
     "output_type": "display_data"
    },
    {
     "data": {
      "text/html": [
       "<pre>| Query points | # Pairs | % Complete. | Elapsed Time |</pre>"
      ],
      "text/plain": [
       "| Query points | # Pairs | % Complete. | Elapsed Time |"
      ]
     },
     "metadata": {},
     "output_type": "display_data"
    },
    {
     "data": {
      "text/html": [
       "<pre>+--------------+---------+-------------+--------------+</pre>"
      ],
      "text/plain": [
       "+--------------+---------+-------------+--------------+"
      ]
     },
     "metadata": {},
     "output_type": "display_data"
    },
    {
     "data": {
      "text/html": [
       "<pre>| 0            | 1       | 0.00146047  | 4.96ms       |</pre>"
      ],
      "text/plain": [
       "| 0            | 1       | 0.00146047  | 4.96ms       |"
      ]
     },
     "metadata": {},
     "output_type": "display_data"
    },
    {
     "data": {
      "text/html": [
       "<pre>| Done         |         | 100         | 471.511ms    |</pre>"
      ],
      "text/plain": [
       "| Done         |         | 100         | 471.511ms    |"
      ]
     },
     "metadata": {},
     "output_type": "display_data"
    },
    {
     "data": {
      "text/html": [
       "<pre>+--------------+---------+-------------+--------------+</pre>"
      ],
      "text/plain": [
       "+--------------+---------+-------------+--------------+"
      ]
     },
     "metadata": {},
     "output_type": "display_data"
    },
    {
     "data": {
      "text/html": [
       "<div style=\"max-height:1000px;max-width:1500px;overflow:auto;\"><table frame=\"box\" rules=\"cols\">\n",
       "    <tr>\n",
       "        <th style=\"padding-left: 1em; padding-right: 1em; text-align: center\">query_label</th>\n",
       "        <th style=\"padding-left: 1em; padding-right: 1em; text-align: center\">neighbours</th>\n",
       "    </tr>\n",
       "    <tr>\n",
       "        <td style=\"padding-left: 1em; padding-right: 1em; text-align: center; vertical-align: top\">0</td>\n",
       "        <td style=\"padding-left: 1em; padding-right: 1em; text-align: center; vertical-align: top\">[11, 22475, 62252, 15549,<br>31027] ...</td>\n",
       "    </tr>\n",
       "</table>\n",
       "[1 rows x 2 columns]<br/>\n",
       "</div>"
      ],
      "text/plain": [
       "Columns:\n",
       "\tquery_label\tint\n",
       "\tneighbours\tlist\n",
       "\n",
       "Rows: 1\n",
       "\n",
       "Data:\n",
       "+-------------+-------------------------------+\n",
       "| query_label |           neighbours          |\n",
       "+-------------+-------------------------------+\n",
       "|      0      | [11, 22475, 62252, 15549, ... |\n",
       "+-------------+-------------------------------+\n",
       "[1 rows x 2 columns]"
      ]
     },
     "execution_count": 77,
     "metadata": {},
     "output_type": "execute_result"
    }
   ],
   "source": [
    "get_neighbours(apparel_model, graphlab.SFrame(apparel_test.head(1)))"
   ]
  },
  {
   "cell_type": "code",
   "execution_count": 13,
   "metadata": {
    "collapsed": false
   },
   "outputs": [
    {
     "name": "stdout",
     "output_type": "stream",
     "text": [
      "Defaulting to brute force instead of ball tree because there are multiple distance components.\n"
     ]
    },
    {
     "data": {
      "text/html": [
       "<pre>Starting brute force nearest neighbors model training.</pre>"
      ],
      "text/plain": [
       "Starting brute force nearest neighbors model training."
      ]
     },
     "metadata": {},
     "output_type": "display_data"
    }
   ],
   "source": [
    "home_model = nearest_neighbors(home_train, 'home_train')"
   ]
  },
  {
   "cell_type": "code",
   "execution_count": 14,
   "metadata": {
    "collapsed": true
   },
   "outputs": [],
   "source": [
    "#home_model = graphlab.load_model('data/similar_images_for_home_train')"
   ]
  },
  {
   "cell_type": "code",
   "execution_count": 15,
   "metadata": {
    "collapsed": false
   },
   "outputs": [
    {
     "data": {
      "text/html": [
       "<pre>Starting pairwise querying.</pre>"
      ],
      "text/plain": [
       "Starting pairwise querying."
      ]
     },
     "metadata": {},
     "output_type": "display_data"
    },
    {
     "data": {
      "text/html": [
       "<pre>+--------------+---------+-------------+--------------+</pre>"
      ],
      "text/plain": [
       "+--------------+---------+-------------+--------------+"
      ]
     },
     "metadata": {},
     "output_type": "display_data"
    },
    {
     "data": {
      "text/html": [
       "<pre>| Query points | # Pairs | % Complete. | Elapsed Time |</pre>"
      ],
      "text/plain": [
       "| Query points | # Pairs | % Complete. | Elapsed Time |"
      ]
     },
     "metadata": {},
     "output_type": "display_data"
    },
    {
     "data": {
      "text/html": [
       "<pre>+--------------+---------+-------------+--------------+</pre>"
      ],
      "text/plain": [
       "+--------------+---------+-------------+--------------+"
      ]
     },
     "metadata": {},
     "output_type": "display_data"
    },
    {
     "data": {
      "text/html": [
       "<pre>| 0            | 1       | 0.00167358  | 5.442ms      |</pre>"
      ],
      "text/plain": [
       "| 0            | 1       | 0.00167358  | 5.442ms      |"
      ]
     },
     "metadata": {},
     "output_type": "display_data"
    },
    {
     "data": {
      "text/html": [
       "<pre>| Done         |         | 100         | 808.921ms    |</pre>"
      ],
      "text/plain": [
       "| Done         |         | 100         | 808.921ms    |"
      ]
     },
     "metadata": {},
     "output_type": "display_data"
    },
    {
     "data": {
      "text/html": [
       "<pre>+--------------+---------+-------------+--------------+</pre>"
      ],
      "text/plain": [
       "+--------------+---------+-------------+--------------+"
      ]
     },
     "metadata": {},
     "output_type": "display_data"
    },
    {
     "data": {
      "text/html": [
       "<div style=\"max-height:1000px;max-width:1500px;overflow:auto;\"><table frame=\"box\" rules=\"cols\">\n",
       "    <tr>\n",
       "        <th style=\"padding-left: 1em; padding-right: 1em; text-align: center\">query_label</th>\n",
       "        <th style=\"padding-left: 1em; padding-right: 1em; text-align: center\">neighbours</th>\n",
       "    </tr>\n",
       "    <tr>\n",
       "        <td style=\"padding-left: 1em; padding-right: 1em; text-align: center; vertical-align: top\">0</td>\n",
       "        <td style=\"padding-left: 1em; padding-right: 1em; text-align: center; vertical-align: top\">[32480, 6175, 54850, 0,<br>49131] ...</td>\n",
       "    </tr>\n",
       "</table>\n",
       "[1 rows x 2 columns]<br/>\n",
       "</div>"
      ],
      "text/plain": [
       "Columns:\n",
       "\tquery_label\tint\n",
       "\tneighbours\tlist\n",
       "\n",
       "Rows: 1\n",
       "\n",
       "Data:\n",
       "+-------------+--------------------------------+\n",
       "| query_label |           neighbours           |\n",
       "+-------------+--------------------------------+\n",
       "|      0      | [32480, 6175, 54850, 0, 49131] |\n",
       "+-------------+--------------------------------+\n",
       "[1 rows x 2 columns]"
      ]
     },
     "execution_count": 15,
     "metadata": {},
     "output_type": "execute_result"
    }
   ],
   "source": [
    "get_neighbours(home_model, graphlab.SFrame(home_test.head(1)))"
   ]
  },
  {
   "cell_type": "code",
   "execution_count": 88,
   "metadata": {
    "collapsed": false
   },
   "outputs": [
    {
     "data": {
      "application/javascript": [
       "$(\"head\").append($(\"<link/>\").attr({\n",
       "  rel:  \"stylesheet\",\n",
       "  type: \"text/css\",\n",
       "  href: \"//cdnjs.cloudflare.com/ajax/libs/font-awesome/4.1.0/css/font-awesome.min.css\"\n",
       "}));\n",
       "$(\"head\").append($(\"<link/>\").attr({\n",
       "  rel:  \"stylesheet\",\n",
       "  type: \"text/css\",\n",
       "  href: \"//dato.com/files/canvas/1.8.5/css/canvas.css\"\n",
       "}));\n",
       "\n",
       "            (function(){\n",
       "\n",
       "                var e = null;\n",
       "                if (typeof element == 'undefined') {\n",
       "                    var scripts = document.getElementsByTagName('script');\n",
       "                    var thisScriptTag = scripts[scripts.length-1];\n",
       "                    var parentDiv = thisScriptTag.parentNode;\n",
       "                    e = document.createElement('div');\n",
       "                    parentDiv.appendChild(e);\n",
       "                } else {\n",
       "                    e = element[0];\n",
       "                }\n",
       "\n",
       "                if (typeof requirejs !== 'undefined') {\n",
       "                    // disable load timeout; ipython_app.js is large and can take a while to load.\n",
       "                    requirejs.config({waitSeconds: 0});\n",
       "                }\n",
       "\n",
       "                require(['//dato.com/files/canvas/1.8.5/js/ipython_app.js'], function(IPythonApp){\n",
       "                    var app = new IPythonApp();\n",
       "                    app.attachView('sarray','Images', {\"ipython\": true, \"rows\": [{\"format\": \"jpeg\", \"value\": \"image/jpeg;base64,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\\n\", \"height\": 1066, \"channels\": 3, \"width\": 600, \"type\": \"image\", \"id\": 140368927395984}], \"selected_variable\": {\"name\": [\"<SArray>\"], \"dtype\": \"Image\", \"view_component\": \"Images\", \"view_file\": \"sarray\", \"descriptives\": {\"rows\": 1}, \"type\": \"SArray\", \"view_components\": [\"Images\"]}}, e);\n",
       "                });\n",
       "            })();\n",
       "        "
      ]
     },
     "metadata": {},
     "output_type": "display_data"
    },
    {
     "data": {
      "text/plain": [
       "100.0"
      ]
     },
     "execution_count": 88,
     "metadata": {},
     "output_type": "execute_result"
    }
   ],
   "source": [
    "graphlab.canvas.set_target('ipynb')\n",
    "graphlab.SArray([apparel_test['image'][0]]).show() \n",
    "apparel_train['price'][0]"
   ]
  },
  {
   "cell_type": "code",
   "execution_count": 87,
   "metadata": {
    "collapsed": false
   },
   "outputs": [
    {
     "data": {
      "application/javascript": [
       "$(\"head\").append($(\"<link/>\").attr({\n",
       "  rel:  \"stylesheet\",\n",
       "  type: \"text/css\",\n",
       "  href: \"//cdnjs.cloudflare.com/ajax/libs/font-awesome/4.1.0/css/font-awesome.min.css\"\n",
       "}));\n",
       "$(\"head\").append($(\"<link/>\").attr({\n",
       "  rel:  \"stylesheet\",\n",
       "  type: \"text/css\",\n",
       "  href: \"//dato.com/files/canvas/1.8.5/css/canvas.css\"\n",
       "}));\n",
       "\n",
       "            (function(){\n",
       "\n",
       "                var e = null;\n",
       "                if (typeof element == 'undefined') {\n",
       "                    var scripts = document.getElementsByTagName('script');\n",
       "                    var thisScriptTag = scripts[scripts.length-1];\n",
       "                    var parentDiv = thisScriptTag.parentNode;\n",
       "                    e = document.createElement('div');\n",
       "                    parentDiv.appendChild(e);\n",
       "                } else {\n",
       "                    e = element[0];\n",
       "                }\n",
       "\n",
       "                if (typeof requirejs !== 'undefined') {\n",
       "                    // disable load timeout; ipython_app.js is large and can take a while to load.\n",
       "                    requirejs.config({waitSeconds: 0});\n",
       "                }\n",
       "\n",
       "                require(['//dato.com/files/canvas/1.8.5/js/ipython_app.js'], function(IPythonApp){\n",
       "                    var app = new IPythonApp();\n",
       "                    app.attachView('sarray','Images', {\"ipython\": true, \"rows\": [{\"format\": \"jpeg\", \"value\": \"image/jpeg;base64,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\\n\", \"height\": 1066, \"channels\": 3, \"width\": 600, \"type\": \"image\", \"id\": 140369530900752}], \"selected_variable\": {\"name\": [\"<SArray>\"], \"dtype\": \"Image\", \"view_component\": \"Images\", \"view_file\": \"sarray\", \"descriptives\": {\"rows\": 1}, \"type\": \"SArray\", \"view_components\": [\"Images\"]}}, e);\n",
       "                });\n",
       "            })();\n",
       "        "
      ]
     },
     "metadata": {},
     "output_type": "display_data"
    },
    {
     "data": {
      "text/plain": [
       "50.0"
      ]
     },
     "execution_count": 87,
     "metadata": {},
     "output_type": "execute_result"
    }
   ],
   "source": [
    "graphlab.SArray([apparel_train['image'][11]]).show()\n",
    "apparel_train['price'][11]"
   ]
  },
  {
   "cell_type": "code",
   "execution_count": 89,
   "metadata": {
    "collapsed": false
   },
   "outputs": [
    {
     "data": {
      "application/javascript": [
       "$(\"head\").append($(\"<link/>\").attr({\n",
       "  rel:  \"stylesheet\",\n",
       "  type: \"text/css\",\n",
       "  href: \"//cdnjs.cloudflare.com/ajax/libs/font-awesome/4.1.0/css/font-awesome.min.css\"\n",
       "}));\n",
       "$(\"head\").append($(\"<link/>\").attr({\n",
       "  rel:  \"stylesheet\",\n",
       "  type: \"text/css\",\n",
       "  href: \"//dato.com/files/canvas/1.8.5/css/canvas.css\"\n",
       "}));\n",
       "\n",
       "            (function(){\n",
       "\n",
       "                var e = null;\n",
       "                if (typeof element == 'undefined') {\n",
       "                    var scripts = document.getElementsByTagName('script');\n",
       "                    var thisScriptTag = scripts[scripts.length-1];\n",
       "                    var parentDiv = thisScriptTag.parentNode;\n",
       "                    e = document.createElement('div');\n",
       "                    parentDiv.appendChild(e);\n",
       "                } else {\n",
       "                    e = element[0];\n",
       "                }\n",
       "\n",
       "                if (typeof requirejs !== 'undefined') {\n",
       "                    // disable load timeout; ipython_app.js is large and can take a while to load.\n",
       "                    requirejs.config({waitSeconds: 0});\n",
       "                }\n",
       "\n",
       "                require(['//dato.com/files/canvas/1.8.5/js/ipython_app.js'], function(IPythonApp){\n",
       "                    var app = new IPythonApp();\n",
       "                    app.attachView('sarray','Images', {\"ipython\": true, \"rows\": [{\"format\": \"jpeg\", \"value\": \"image/jpeg;base64,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\\n\", \"height\": 800, \"channels\": 3, \"width\": 600, \"type\": \"image\", \"id\": 140368927397968}], \"selected_variable\": {\"name\": [\"<SArray>\"], \"dtype\": \"Image\", \"view_component\": \"Images\", \"view_file\": \"sarray\", \"descriptives\": {\"rows\": 1}, \"type\": \"SArray\", \"view_components\": [\"Images\"]}}, e);\n",
       "                });\n",
       "            })();\n",
       "        "
      ]
     },
     "metadata": {},
     "output_type": "display_data"
    },
    {
     "data": {
      "text/plain": [
       "75.0"
      ]
     },
     "execution_count": 89,
     "metadata": {},
     "output_type": "execute_result"
    }
   ],
   "source": [
    "graphlab.SArray([apparel_train['image'][22475]]).show()\n",
    "apparel_train['price'][22475]"
   ]
  },
  {
   "cell_type": "code",
   "execution_count": 90,
   "metadata": {
    "collapsed": false
   },
   "outputs": [
    {
     "data": {
      "application/javascript": [
       "$(\"head\").append($(\"<link/>\").attr({\n",
       "  rel:  \"stylesheet\",\n",
       "  type: \"text/css\",\n",
       "  href: \"//cdnjs.cloudflare.com/ajax/libs/font-awesome/4.1.0/css/font-awesome.min.css\"\n",
       "}));\n",
       "$(\"head\").append($(\"<link/>\").attr({\n",
       "  rel:  \"stylesheet\",\n",
       "  type: \"text/css\",\n",
       "  href: \"//dato.com/files/canvas/1.8.5/css/canvas.css\"\n",
       "}));\n",
       "\n",
       "            (function(){\n",
       "\n",
       "                var e = null;\n",
       "                if (typeof element == 'undefined') {\n",
       "                    var scripts = document.getElementsByTagName('script');\n",
       "                    var thisScriptTag = scripts[scripts.length-1];\n",
       "                    var parentDiv = thisScriptTag.parentNode;\n",
       "                    e = document.createElement('div');\n",
       "                    parentDiv.appendChild(e);\n",
       "                } else {\n",
       "                    e = element[0];\n",
       "                }\n",
       "\n",
       "                if (typeof requirejs !== 'undefined') {\n",
       "                    // disable load timeout; ipython_app.js is large and can take a while to load.\n",
       "                    requirejs.config({waitSeconds: 0});\n",
       "                }\n",
       "\n",
       "                require(['//dato.com/files/canvas/1.8.5/js/ipython_app.js'], function(IPythonApp){\n",
       "                    var app = new IPythonApp();\n",
       "                    app.attachView('sarray','Images', {\"ipython\": true, \"rows\": [{\"format\": \"jpeg\", \"value\": \"image/jpeg;base64,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\\n\", \"height\": 337, \"channels\": 3, \"width\": 600, \"type\": \"image\", \"id\": 140368927403216}], \"selected_variable\": {\"name\": [\"<SArray>\"], \"dtype\": \"Image\", \"view_component\": \"Images\", \"view_file\": \"sarray\", \"descriptives\": {\"rows\": 1}, \"type\": \"SArray\", \"view_components\": [\"Images\"]}}, e);\n",
       "                });\n",
       "            })();\n",
       "        "
      ]
     },
     "metadata": {},
     "output_type": "display_data"
    },
    {
     "data": {
      "text/plain": [
       "100.0"
      ]
     },
     "execution_count": 90,
     "metadata": {},
     "output_type": "execute_result"
    }
   ],
   "source": [
    "graphlab.SArray([apparel_train['image'][62252]]).show()\n",
    "apparel_train['price'][62252]"
   ]
  },
  {
   "cell_type": "code",
   "execution_count": 91,
   "metadata": {
    "collapsed": false
   },
   "outputs": [
    {
     "data": {
      "application/javascript": [
       "$(\"head\").append($(\"<link/>\").attr({\n",
       "  rel:  \"stylesheet\",\n",
       "  type: \"text/css\",\n",
       "  href: \"//cdnjs.cloudflare.com/ajax/libs/font-awesome/4.1.0/css/font-awesome.min.css\"\n",
       "}));\n",
       "$(\"head\").append($(\"<link/>\").attr({\n",
       "  rel:  \"stylesheet\",\n",
       "  type: \"text/css\",\n",
       "  href: \"//dato.com/files/canvas/1.8.5/css/canvas.css\"\n",
       "}));\n",
       "\n",
       "            (function(){\n",
       "\n",
       "                var e = null;\n",
       "                if (typeof element == 'undefined') {\n",
       "                    var scripts = document.getElementsByTagName('script');\n",
       "                    var thisScriptTag = scripts[scripts.length-1];\n",
       "                    var parentDiv = thisScriptTag.parentNode;\n",
       "                    e = document.createElement('div');\n",
       "                    parentDiv.appendChild(e);\n",
       "                } else {\n",
       "                    e = element[0];\n",
       "                }\n",
       "\n",
       "                if (typeof requirejs !== 'undefined') {\n",
       "                    // disable load timeout; ipython_app.js is large and can take a while to load.\n",
       "                    requirejs.config({waitSeconds: 0});\n",
       "                }\n",
       "\n",
       "                require(['//dato.com/files/canvas/1.8.5/js/ipython_app.js'], function(IPythonApp){\n",
       "                    var app = new IPythonApp();\n",
       "                    app.attachView('sarray','Images', {\"ipython\": true, \"rows\": [{\"format\": \"jpeg\", \"value\": \"image/jpeg;base64,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\\n\", \"height\": 337, \"channels\": 3, \"width\": 600, \"type\": \"image\", \"id\": 140368927396688}], \"selected_variable\": {\"name\": [\"<SArray>\"], \"dtype\": \"Image\", \"view_component\": \"Images\", \"view_file\": \"sarray\", \"descriptives\": {\"rows\": 1}, \"type\": \"SArray\", \"view_components\": [\"Images\"]}}, e);\n",
       "                });\n",
       "            })();\n",
       "        "
      ]
     },
     "metadata": {},
     "output_type": "display_data"
    },
    {
     "data": {
      "text/plain": [
       "25.0"
      ]
     },
     "execution_count": 91,
     "metadata": {},
     "output_type": "execute_result"
    }
   ],
   "source": [
    "graphlab.SArray([apparel_train['image'][15549]]).show()\n",
    "apparel_train['price'][15549]"
   ]
  },
  {
   "cell_type": "markdown",
   "metadata": {},
   "source": [
    "# Final model 2\n",
    "## Predict exact price"
   ]
  },
  {
   "cell_type": "code",
   "execution_count": 96,
   "metadata": {
    "collapsed": false
   },
   "outputs": [],
   "source": [
    "# Create a model.\n",
    "def random_forest_model(sf, name):\n",
    "    #'deep_features','tfidf','topic_0','topic_1','topic_2', ...\n",
    "    feature_lst = set(\n",
    "                      sf.column_names()) - \\\n",
    "                      set(['id', 'category_id', 'category_name', 'count_words', 'image', 'price', 'topic']\n",
    "                      )\n",
    "\n",
    "    model = graphlab.random_forest_regression.create(sf, target='price',\n",
    "                                          features=list(feature_lst),\n",
    "                                          #max_iterations = 20,\n",
    "                                          max_depth =  3\n",
    "                                          )\n",
    "\n",
    "    model.save('data/random_forest_regression_for_' + name)\n",
    "    return model"
   ]
  },
  {
   "cell_type": "code",
   "execution_count": 97,
   "metadata": {
    "collapsed": false
   },
   "outputs": [],
   "source": [
    "def evaluate(model, test_set):\n",
    "    results = model.evaluate(test_set)\n",
    "    return results"
   ]
  },
  {
   "cell_type": "code",
   "execution_count": 98,
   "metadata": {
    "collapsed": false
   },
   "outputs": [
    {
     "name": "stdout",
     "output_type": "stream",
     "text": [
      "PROGRESS: Creating a validation set from 5 percent of training data. This may take a while.\n",
      "          You can set ``validation_set=None`` to disable validation tracking.\n",
      "\n"
     ]
    },
    {
     "data": {
      "text/html": [
       "<pre>Random forest regression:</pre>"
      ],
      "text/plain": [
       "Random forest regression:"
      ]
     },
     "metadata": {},
     "output_type": "display_data"
    },
    {
     "data": {
      "text/html": [
       "<pre>--------------------------------------------------------</pre>"
      ],
      "text/plain": [
       "--------------------------------------------------------"
      ]
     },
     "metadata": {},
     "output_type": "display_data"
    },
    {
     "data": {
      "text/html": [
       "<pre>Number of examples          : 14437</pre>"
      ],
      "text/plain": [
       "Number of examples          : 14437"
      ]
     },
     "metadata": {},
     "output_type": "display_data"
    },
    {
     "data": {
      "text/html": [
       "<pre>Number of features          : 102</pre>"
      ],
      "text/plain": [
       "Number of features          : 102"
      ]
     },
     "metadata": {},
     "output_type": "display_data"
    },
    {
     "data": {
      "text/html": [
       "<pre>Number of unpacked features : 11890</pre>"
      ],
      "text/plain": [
       "Number of unpacked features : 11890"
      ]
     },
     "metadata": {},
     "output_type": "display_data"
    },
    {
     "data": {
      "text/html": [
       "<pre>+-----------+--------------+--------------------+---------------+----------------------+-----------------+</pre>"
      ],
      "text/plain": [
       "+-----------+--------------+--------------------+---------------+----------------------+-----------------+"
      ]
     },
     "metadata": {},
     "output_type": "display_data"
    },
    {
     "data": {
      "text/html": [
       "<pre>| Iteration | Elapsed Time | Training-max_error | Training-rmse | Validation-max_error | Validation-rmse |</pre>"
      ],
      "text/plain": [
       "| Iteration | Elapsed Time | Training-max_error | Training-rmse | Validation-max_error | Validation-rmse |"
      ]
     },
     "metadata": {},
     "output_type": "display_data"
    },
    {
     "data": {
      "text/html": [
       "<pre>+-----------+--------------+--------------------+---------------+----------------------+-----------------+</pre>"
      ],
      "text/plain": [
       "+-----------+--------------+--------------------+---------------+----------------------+-----------------+"
      ]
     },
     "metadata": {},
     "output_type": "display_data"
    },
    {
     "data": {
      "text/html": [
       "<pre>| 1         | 0.124108     | 1175.692017        | 132.340363    | 685.682007           | 135.732941      |</pre>"
      ],
      "text/plain": [
       "| 1         | 0.124108     | 1175.692017        | 132.340363    | 685.682007           | 135.732941      |"
      ]
     },
     "metadata": {},
     "output_type": "display_data"
    },
    {
     "data": {
      "text/html": [
       "<pre>| 2         | 0.218742     | 1127.519043        | 130.155655    | 685.125488           | 133.857224      |</pre>"
      ],
      "text/plain": [
       "| 2         | 0.218742     | 1127.519043        | 130.155655    | 685.125488           | 133.857224      |"
      ]
     },
     "metadata": {},
     "output_type": "display_data"
    },
    {
     "data": {
      "text/html": [
       "<pre>| 3         | 0.299608     | 1144.028564        | 130.505829    | 685.762756           | 134.157730      |</pre>"
      ],
      "text/plain": [
       "| 3         | 0.299608     | 1144.028564        | 130.505829    | 685.762756           | 134.157730      |"
      ]
     },
     "metadata": {},
     "output_type": "display_data"
    },
    {
     "data": {
      "text/html": [
       "<pre>| 4         | 0.386750     | 1127.551392        | 130.157715    | 685.085693           | 134.017303      |</pre>"
      ],
      "text/plain": [
       "| 4         | 0.386750     | 1127.551392        | 130.157715    | 685.085693           | 134.017303      |"
      ]
     },
     "metadata": {},
     "output_type": "display_data"
    },
    {
     "data": {
      "text/html": [
       "<pre>| 5         | 0.472444     | 1117.804565        | 130.087784    | 685.106262           | 133.985809      |</pre>"
      ],
      "text/plain": [
       "| 5         | 0.472444     | 1117.804565        | 130.087784    | 685.106262           | 133.985809      |"
      ]
     },
     "metadata": {},
     "output_type": "display_data"
    },
    {
     "data": {
      "text/html": [
       "<pre>| 6         | 0.558269     | 1111.182129        | 130.123550    | 685.023315           | 134.094772      |</pre>"
      ],
      "text/plain": [
       "| 6         | 0.558269     | 1111.182129        | 130.123550    | 685.023315           | 134.094772      |"
      ]
     },
     "metadata": {},
     "output_type": "display_data"
    },
    {
     "data": {
      "text/html": [
       "<pre>+-----------+--------------+--------------------+---------------+----------------------+-----------------+</pre>"
      ],
      "text/plain": [
       "+-----------+--------------+--------------------+---------------+----------------------+-----------------+"
      ]
     },
     "metadata": {},
     "output_type": "display_data"
    }
   ],
   "source": [
    "phones_model = random_forest_model(phones_train, 'phones_train')"
   ]
  },
  {
   "cell_type": "code",
   "execution_count": 99,
   "metadata": {
    "collapsed": true
   },
   "outputs": [],
   "source": [
    "#phones_model = graphlab.load_model('data/random_forest_regression_for_phones_train')"
   ]
  },
  {
   "cell_type": "code",
   "execution_count": 100,
   "metadata": {
    "collapsed": false
   },
   "outputs": [
    {
     "data": {
      "text/plain": [
       "{'max_error': 70.70128631591797, 'rmse': 70.70128631591797}"
      ]
     },
     "execution_count": 100,
     "metadata": {},
     "output_type": "execute_result"
    }
   ],
   "source": [
    "evaluate(phones_model, graphlab.SFrame(phones_test.head(1)))"
   ]
  },
  {
   "cell_type": "code",
   "execution_count": 26,
   "metadata": {
    "collapsed": false
   },
   "outputs": [
    {
     "name": "stdout",
     "output_type": "stream",
     "text": [
      "PROGRESS: Creating a validation set from 5 percent of training data. This may take a while.\n",
      "          You can set ``validation_set=None`` to disable validation tracking.\n",
      "\n"
     ]
    },
    {
     "data": {
      "text/html": [
       "<pre>Random forest regression:</pre>"
      ],
      "text/plain": [
       "Random forest regression:"
      ]
     },
     "metadata": {},
     "output_type": "display_data"
    },
    {
     "data": {
      "text/html": [
       "<pre>--------------------------------------------------------</pre>"
      ],
      "text/plain": [
       "--------------------------------------------------------"
      ]
     },
     "metadata": {},
     "output_type": "display_data"
    },
    {
     "data": {
      "text/html": [
       "<pre>Number of examples          : 56825</pre>"
      ],
      "text/plain": [
       "Number of examples          : 56825"
      ]
     },
     "metadata": {},
     "output_type": "display_data"
    },
    {
     "data": {
      "text/html": [
       "<pre>Number of features          : 102</pre>"
      ],
      "text/plain": [
       "Number of features          : 102"
      ]
     },
     "metadata": {},
     "output_type": "display_data"
    },
    {
     "data": {
      "text/html": [
       "<pre>Number of unpacked features : 35311</pre>"
      ],
      "text/plain": [
       "Number of unpacked features : 35311"
      ]
     },
     "metadata": {},
     "output_type": "display_data"
    },
    {
     "data": {
      "text/html": [
       "<pre>+-----------+--------------+--------------------+---------------+----------------------+-----------------+</pre>"
      ],
      "text/plain": [
       "+-----------+--------------+--------------------+---------------+----------------------+-----------------+"
      ]
     },
     "metadata": {},
     "output_type": "display_data"
    },
    {
     "data": {
      "text/html": [
       "<pre>| Iteration | Elapsed Time | Training-max_error | Training-rmse | Validation-max_error | Validation-rmse |</pre>"
      ],
      "text/plain": [
       "| Iteration | Elapsed Time | Training-max_error | Training-rmse | Validation-max_error | Validation-rmse |"
      ]
     },
     "metadata": {},
     "output_type": "display_data"
    },
    {
     "data": {
      "text/html": [
       "<pre>+-----------+--------------+--------------------+---------------+----------------------+-----------------+</pre>"
      ],
      "text/plain": [
       "+-----------+--------------+--------------------+---------------+----------------------+-----------------+"
      ]
     },
     "metadata": {},
     "output_type": "display_data"
    },
    {
     "data": {
      "text/html": [
       "<pre>| 1         | 3.324392     | 1430.194458        | 169.878174    | 1331.194458          | 174.204712      |</pre>"
      ],
      "text/plain": [
       "| 1         | 3.324392     | 1430.194458        | 169.878174    | 1331.194458          | 174.204712      |"
      ]
     },
     "metadata": {},
     "output_type": "display_data"
    },
    {
     "data": {
      "text/html": [
       "<pre>| 2         | 4.938397     | 1428.667480        | 168.394592    | 1329.667480          | 175.138275      |</pre>"
      ],
      "text/plain": [
       "| 2         | 4.938397     | 1428.667480        | 168.394592    | 1329.667480          | 175.138275      |"
      ]
     },
     "metadata": {},
     "output_type": "display_data"
    },
    {
     "data": {
      "text/html": [
       "<pre>| 3         | 6.612350     | 1430.086426        | 168.136673    | 1331.086426          | 174.188843      |</pre>"
      ],
      "text/plain": [
       "| 3         | 6.612350     | 1430.086426        | 168.136673    | 1331.086426          | 174.188843      |"
      ]
     },
     "metadata": {},
     "output_type": "display_data"
    },
    {
     "data": {
      "text/html": [
       "<pre>| 4         | 8.166828     | 1430.689453        | 168.056580    | 1331.689453          | 174.280334      |</pre>"
      ],
      "text/plain": [
       "| 4         | 8.166828     | 1430.689453        | 168.056580    | 1331.689453          | 174.280334      |"
      ]
     },
     "metadata": {},
     "output_type": "display_data"
    },
    {
     "data": {
      "text/html": [
       "<pre>| 5         | 9.728276     | 1430.975952        | 167.025681    | 1283.250610          | 173.031342      |</pre>"
      ],
      "text/plain": [
       "| 5         | 9.728276     | 1430.975952        | 167.025681    | 1283.250610          | 173.031342      |"
      ]
     },
     "metadata": {},
     "output_type": "display_data"
    },
    {
     "data": {
      "text/html": [
       "<pre>| 6         | 11.294011    | 1429.062378        | 167.028107    | 1289.457886          | 173.232407      |</pre>"
      ],
      "text/plain": [
       "| 6         | 11.294011    | 1429.062378        | 167.028107    | 1289.457886          | 173.232407      |"
      ]
     },
     "metadata": {},
     "output_type": "display_data"
    },
    {
     "data": {
      "text/html": [
       "<pre>| 7         | 12.820191    | 1429.122925        | 167.192764    | 1295.318970          | 173.121552      |</pre>"
      ],
      "text/plain": [
       "| 7         | 12.820191    | 1429.122925        | 167.192764    | 1295.318970          | 173.121552      |"
      ]
     },
     "metadata": {},
     "output_type": "display_data"
    },
    {
     "data": {
      "text/html": [
       "<pre>| 8         | 14.668973    | 1429.577393        | 167.382874    | 1300.124023          | 173.144196      |</pre>"
      ],
      "text/plain": [
       "| 8         | 14.668973    | 1429.577393        | 167.382874    | 1300.124023          | 173.144196      |"
      ]
     },
     "metadata": {},
     "output_type": "display_data"
    },
    {
     "data": {
      "text/html": [
       "<pre>| 9         | 16.289904    | 1429.864990        | 167.399643    | 1303.795288          | 173.190857      |</pre>"
      ],
      "text/plain": [
       "| 9         | 16.289904    | 1429.864990        | 167.399643    | 1303.795288          | 173.190857      |"
      ]
     },
     "metadata": {},
     "output_type": "display_data"
    },
    {
     "data": {
      "text/html": [
       "<pre>| 10        | 17.834598    | 1430.151001        | 167.551880    | 1306.788208          | 173.266907      |</pre>"
      ],
      "text/plain": [
       "| 10        | 17.834598    | 1430.151001        | 167.551880    | 1306.788208          | 173.266907      |"
      ]
     },
     "metadata": {},
     "output_type": "display_data"
    },
    {
     "data": {
      "text/html": [
       "<pre>+-----------+--------------+--------------------+---------------+----------------------+-----------------+</pre>"
      ],
      "text/plain": [
       "+-----------+--------------+--------------------+---------------+----------------------+-----------------+"
      ]
     },
     "metadata": {},
     "output_type": "display_data"
    }
   ],
   "source": [
    "home_model = random_forest_model(home_train, 'home_train')"
   ]
  },
  {
   "cell_type": "code",
   "execution_count": 61,
   "metadata": {
    "collapsed": true
   },
   "outputs": [],
   "source": [
    "#home_model = graphlab.load_model('data/random_forest_regression_for_home_train')"
   ]
  },
  {
   "cell_type": "code",
   "execution_count": 28,
   "metadata": {
    "collapsed": false
   },
   "outputs": [
    {
     "data": {
      "text/plain": [
       "{'max_error': 58.84905242919922, 'rmse': 58.84905242919922}"
      ]
     },
     "execution_count": 28,
     "metadata": {},
     "output_type": "execute_result"
    }
   ],
   "source": [
    "evaluate(home_model, graphlab.SFrame(home_train.head(1)))"
   ]
  },
  {
   "cell_type": "code",
   "execution_count": 31,
   "metadata": {
    "collapsed": false
   },
   "outputs": [
    {
     "name": "stdout",
     "output_type": "stream",
     "text": [
      "PROGRESS: Creating a validation set from 5 percent of training data. This may take a while.\n",
      "          You can set ``validation_set=None`` to disable validation tracking.\n",
      "\n"
     ]
    },
    {
     "data": {
      "text/html": [
       "<pre>Random forest regression:</pre>"
      ],
      "text/plain": [
       "Random forest regression:"
      ]
     },
     "metadata": {},
     "output_type": "display_data"
    },
    {
     "data": {
      "text/html": [
       "<pre>--------------------------------------------------------</pre>"
      ],
      "text/plain": [
       "--------------------------------------------------------"
      ]
     },
     "metadata": {},
     "output_type": "display_data"
    },
    {
     "data": {
      "text/html": [
       "<pre>Number of examples          : 65057</pre>"
      ],
      "text/plain": [
       "Number of examples          : 65057"
      ]
     },
     "metadata": {},
     "output_type": "display_data"
    },
    {
     "data": {
      "text/html": [
       "<pre>Number of features          : 102</pre>"
      ],
      "text/plain": [
       "Number of features          : 102"
      ]
     },
     "metadata": {},
     "output_type": "display_data"
    },
    {
     "data": {
      "text/html": [
       "<pre>Number of unpacked features : 36289</pre>"
      ],
      "text/plain": [
       "Number of unpacked features : 36289"
      ]
     },
     "metadata": {},
     "output_type": "display_data"
    },
    {
     "data": {
      "text/html": [
       "<pre>+-----------+--------------+--------------------+---------------+----------------------+-----------------+</pre>"
      ],
      "text/plain": [
       "+-----------+--------------+--------------------+---------------+----------------------+-----------------+"
      ]
     },
     "metadata": {},
     "output_type": "display_data"
    },
    {
     "data": {
      "text/html": [
       "<pre>| Iteration | Elapsed Time | Training-max_error | Training-rmse | Validation-max_error | Validation-rmse |</pre>"
      ],
      "text/plain": [
       "| Iteration | Elapsed Time | Training-max_error | Training-rmse | Validation-max_error | Validation-rmse |"
      ]
     },
     "metadata": {},
     "output_type": "display_data"
    },
    {
     "data": {
      "text/html": [
       "<pre>+-----------+--------------+--------------------+---------------+----------------------+-----------------+</pre>"
      ],
      "text/plain": [
       "+-----------+--------------+--------------------+---------------+----------------------+-----------------+"
      ]
     },
     "metadata": {},
     "output_type": "display_data"
    },
    {
     "data": {
      "text/html": [
       "<pre>| 1         | 3.278910     | 1348.583618        | 84.008591     | 1003.091797          | 89.287689       |</pre>"
      ],
      "text/plain": [
       "| 1         | 3.278910     | 1348.583618        | 84.008591     | 1003.091797          | 89.287689       |"
      ]
     },
     "metadata": {},
     "output_type": "display_data"
    },
    {
     "data": {
      "text/html": [
       "<pre>| 2         | 5.093201     | 1348.633667        | 83.934464     | 1003.270996          | 89.611542       |</pre>"
      ],
      "text/plain": [
       "| 2         | 5.093201     | 1348.633667        | 83.934464     | 1003.270996          | 89.611542       |"
      ]
     },
     "metadata": {},
     "output_type": "display_data"
    },
    {
     "data": {
      "text/html": [
       "<pre>| 3         | 6.964897     | 1344.987305        | 83.079643     | 983.098755           | 88.627380       |</pre>"
      ],
      "text/plain": [
       "| 3         | 6.964897     | 1344.987305        | 83.079643     | 983.098755           | 88.627380       |"
      ]
     },
     "metadata": {},
     "output_type": "display_data"
    },
    {
     "data": {
      "text/html": [
       "<pre>| 4         | 8.876473     | 1342.967041        | 82.456253     | 1001.281250          | 88.034599       |</pre>"
      ],
      "text/plain": [
       "| 4         | 8.876473     | 1342.967041        | 82.456253     | 1001.281250          | 88.034599       |"
      ]
     },
     "metadata": {},
     "output_type": "display_data"
    },
    {
     "data": {
      "text/html": [
       "<pre>| 5         | 10.714775    | 1340.689819        | 82.766479     | 1027.341064          | 88.639977       |</pre>"
      ],
      "text/plain": [
       "| 5         | 10.714775    | 1340.689819        | 82.766479     | 1027.341064          | 88.639977       |"
      ]
     },
     "metadata": {},
     "output_type": "display_data"
    },
    {
     "data": {
      "text/html": [
       "<pre>| 6         | 12.589024    | 1340.215332        | 82.599648     | 1031.895386          | 88.477692       |</pre>"
      ],
      "text/plain": [
       "| 6         | 12.589024    | 1340.215332        | 82.599648     | 1031.895386          | 88.477692       |"
      ]
     },
     "metadata": {},
     "output_type": "display_data"
    },
    {
     "data": {
      "text/html": [
       "<pre>| 7         | 14.420896    | 1339.836182        | 82.624962     | 1026.796143          | 88.462021       |</pre>"
      ],
      "text/plain": [
       "| 7         | 14.420896    | 1339.836182        | 82.624962     | 1026.796143          | 88.462021       |"
      ]
     },
     "metadata": {},
     "output_type": "display_data"
    },
    {
     "data": {
      "text/html": [
       "<pre>| 8         | 16.195545    | 1339.528320        | 82.500648     | 1029.652954          | 88.356110       |</pre>"
      ],
      "text/plain": [
       "| 8         | 16.195545    | 1339.528320        | 82.500648     | 1029.652954          | 88.356110       |"
      ]
     },
     "metadata": {},
     "output_type": "display_data"
    },
    {
     "data": {
      "text/html": [
       "<pre>| 9         | 18.034410    | 1340.313843        | 82.589691     | 1033.655518          | 88.426414       |</pre>"
      ],
      "text/plain": [
       "| 9         | 18.034410    | 1340.313843        | 82.589691     | 1033.655518          | 88.426414       |"
      ]
     },
     "metadata": {},
     "output_type": "display_data"
    },
    {
     "data": {
      "text/html": [
       "<pre>| 10        | 19.913917    | 1339.861328        | 82.571114     | 1043.868896          | 88.636559       |</pre>"
      ],
      "text/plain": [
       "| 10        | 19.913917    | 1339.861328        | 82.571114     | 1043.868896          | 88.636559       |"
      ]
     },
     "metadata": {},
     "output_type": "display_data"
    },
    {
     "data": {
      "text/html": [
       "<pre>+-----------+--------------+--------------------+---------------+----------------------+-----------------+</pre>"
      ],
      "text/plain": [
       "+-----------+--------------+--------------------+---------------+----------------------+-----------------+"
      ]
     },
     "metadata": {},
     "output_type": "display_data"
    }
   ],
   "source": [
    "apparel_model = random_forest_model(apparel_train, 'apparel_train')"
   ]
  },
  {
   "cell_type": "code",
   "execution_count": 32,
   "metadata": {
    "collapsed": true
   },
   "outputs": [],
   "source": [
    "#apparel_model = graphlab.load_model('data/random_forest_regression_for_apparel_train')"
   ]
  },
  {
   "cell_type": "code",
   "execution_count": 33,
   "metadata": {
    "collapsed": false
   },
   "outputs": [
    {
     "data": {
      "text/plain": [
       "{'max_error': 60.160614013671875, 'rmse': 60.160614013671875}"
      ]
     },
     "execution_count": 33,
     "metadata": {},
     "output_type": "execute_result"
    }
   ],
   "source": [
    "evaluate(apparel_model, graphlab.SFrame(apparel_train.head(1)))"
   ]
  },
  {
   "cell_type": "code",
   "execution_count": 122,
   "metadata": {
    "collapsed": false
   },
   "outputs": [],
   "source": [
    "# Create a model.\n",
    "def  gradient_boosted_regression_trees_model(sf, name):\n",
    "    #'deep_features','tfidf','topic_0','topic_1','topic_2', ...\n",
    "    feature_lst = set(\n",
    "                      sf.column_names()) - \\\n",
    "                      set(['id', 'category_id', 'category_name', 'count_words', 'image', 'price', 'topic']\n",
    "                      )\n",
    "\n",
    "    model = graphlab.boosted_trees_regression.create(sf, target='price',\n",
    "                                          features=list(feature_lst),\n",
    "                                          max_iterations = 20,\n",
    "                                          max_depth =  3\n",
    "                                          )\n",
    "\n",
    "    model.save('data/boosted_trees_regression_for_' + name)\n",
    "    return model"
   ]
  },
  {
   "cell_type": "code",
   "execution_count": 123,
   "metadata": {
    "collapsed": false
   },
   "outputs": [
    {
     "name": "stdout",
     "output_type": "stream",
     "text": [
      "PROGRESS: Creating a validation set from 5 percent of training data. This may take a while.\n",
      "          You can set ``validation_set=None`` to disable validation tracking.\n",
      "\n"
     ]
    },
    {
     "data": {
      "text/html": [
       "<pre>Boosted trees regression:</pre>"
      ],
      "text/plain": [
       "Boosted trees regression:"
      ]
     },
     "metadata": {},
     "output_type": "display_data"
    },
    {
     "data": {
      "text/html": [
       "<pre>--------------------------------------------------------</pre>"
      ],
      "text/plain": [
       "--------------------------------------------------------"
      ]
     },
     "metadata": {},
     "output_type": "display_data"
    },
    {
     "data": {
      "text/html": [
       "<pre>Number of examples          : 14486</pre>"
      ],
      "text/plain": [
       "Number of examples          : 14486"
      ]
     },
     "metadata": {},
     "output_type": "display_data"
    },
    {
     "data": {
      "text/html": [
       "<pre>Number of features          : 102</pre>"
      ],
      "text/plain": [
       "Number of features          : 102"
      ]
     },
     "metadata": {},
     "output_type": "display_data"
    },
    {
     "data": {
      "text/html": [
       "<pre>Number of unpacked features : 11902</pre>"
      ],
      "text/plain": [
       "Number of unpacked features : 11902"
      ]
     },
     "metadata": {},
     "output_type": "display_data"
    },
    {
     "data": {
      "text/html": [
       "<pre>+-----------+--------------+--------------------+---------------+----------------------+-----------------+</pre>"
      ],
      "text/plain": [
       "+-----------+--------------+--------------------+---------------+----------------------+-----------------+"
      ]
     },
     "metadata": {},
     "output_type": "display_data"
    },
    {
     "data": {
      "text/html": [
       "<pre>| Iteration | Elapsed Time | Training-max_error | Training-rmse | Validation-max_error | Validation-rmse |</pre>"
      ],
      "text/plain": [
       "| Iteration | Elapsed Time | Training-max_error | Training-rmse | Validation-max_error | Validation-rmse |"
      ]
     },
     "metadata": {},
     "output_type": "display_data"
    },
    {
     "data": {
      "text/html": [
       "<pre>+-----------+--------------+--------------------+---------------+----------------------+-----------------+</pre>"
      ],
      "text/plain": [
       "+-----------+--------------+--------------------+---------------+----------------------+-----------------+"
      ]
     },
     "metadata": {},
     "output_type": "display_data"
    },
    {
     "data": {
      "text/html": [
       "<pre>| 1         | 2.179810     | 1116.161255        | 164.153427    | 890.407532           | 163.895172      |</pre>"
      ],
      "text/plain": [
       "| 1         | 2.179810     | 1116.161255        | 164.153427    | 890.407532           | 163.895172      |"
      ]
     },
     "metadata": {},
     "output_type": "display_data"
    },
    {
     "data": {
      "text/html": [
       "<pre>| 2         | 3.766452     | 961.053406         | 120.251045    | 883.744019           | 131.304474      |</pre>"
      ],
      "text/plain": [
       "| 2         | 3.766452     | 961.053406         | 120.251045    | 883.744019           | 131.304474      |"
      ]
     },
     "metadata": {},
     "output_type": "display_data"
    },
    {
     "data": {
      "text/html": [
       "<pre>| 3         | 5.364978     | 798.842712         | 89.153030     | 876.829468           | 110.579597      |</pre>"
      ],
      "text/plain": [
       "| 3         | 5.364978     | 798.842712         | 89.153030     | 876.829468           | 110.579597      |"
      ]
     },
     "metadata": {},
     "output_type": "display_data"
    },
    {
     "data": {
      "text/html": [
       "<pre>| 4         | 7.045485     | 669.074158         | 66.860558     | 874.312561           | 97.785721       |</pre>"
      ],
      "text/plain": [
       "| 4         | 7.045485     | 669.074158         | 66.860558     | 874.312561           | 97.785721       |"
      ]
     },
     "metadata": {},
     "output_type": "display_data"
    },
    {
     "data": {
      "text/html": [
       "<pre>| 5         | 8.728758     | 565.259338         | 50.829727     | 871.134583           | 90.631859       |</pre>"
      ],
      "text/plain": [
       "| 5         | 8.728758     | 565.259338         | 50.829727     | 871.134583           | 90.631859       |"
      ]
     },
     "metadata": {},
     "output_type": "display_data"
    },
    {
     "data": {
      "text/html": [
       "<pre>| 6         | 10.801606    | 488.198120         | 39.010281     | 870.431946           | 86.951248       |</pre>"
      ],
      "text/plain": [
       "| 6         | 10.801606    | 488.198120         | 39.010281     | 870.431946           | 86.951248       |"
      ]
     },
     "metadata": {},
     "output_type": "display_data"
    },
    {
     "data": {
      "text/html": [
       "<pre>| 7         | 12.684656    | 407.148865         | 30.121355     | 854.399048           | 84.114830       |</pre>"
      ],
      "text/plain": [
       "| 7         | 12.684656    | 407.148865         | 30.121355     | 854.399048           | 84.114830       |"
      ]
     },
     "metadata": {},
     "output_type": "display_data"
    },
    {
     "data": {
      "text/html": [
       "<pre>| 8         | 14.467624    | 351.526245         | 23.773558     | 854.189819           | 83.226814       |</pre>"
      ],
      "text/plain": [
       "| 8         | 14.467624    | 351.526245         | 23.773558     | 854.189819           | 83.226814       |"
      ]
     },
     "metadata": {},
     "output_type": "display_data"
    },
    {
     "data": {
      "text/html": [
       "<pre>| 9         | 16.272574    | 298.797302         | 18.979580     | 854.216187           | 82.283379       |</pre>"
      ],
      "text/plain": [
       "| 9         | 16.272574    | 298.797302         | 18.979580     | 854.216187           | 82.283379       |"
      ]
     },
     "metadata": {},
     "output_type": "display_data"
    },
    {
     "data": {
      "text/html": [
       "<pre>| 10        | 18.111241    | 242.698975         | 15.294694     | 846.875427           | 81.978683       |</pre>"
      ],
      "text/plain": [
       "| 10        | 18.111241    | 242.698975         | 15.294694     | 846.875427           | 81.978683       |"
      ]
     },
     "metadata": {},
     "output_type": "display_data"
    },
    {
     "data": {
      "text/html": [
       "<pre>| 11        | 19.896023    | 197.820312         | 12.831883     | 847.174316           | 81.636642       |</pre>"
      ],
      "text/plain": [
       "| 11        | 19.896023    | 197.820312         | 12.831883     | 847.174316           | 81.636642       |"
      ]
     },
     "metadata": {},
     "output_type": "display_data"
    },
    {
     "data": {
      "text/html": [
       "<pre>| 12        | 21.555331    | 168.221558         | 10.893799     | 847.516907           | 81.555794       |</pre>"
      ],
      "text/plain": [
       "| 12        | 21.555331    | 168.221558         | 10.893799     | 847.516907           | 81.555794       |"
      ]
     },
     "metadata": {},
     "output_type": "display_data"
    },
    {
     "data": {
      "text/html": [
       "<pre>| 13        | 23.064744    | 147.025024         | 9.629232      | 847.406799           | 81.259926       |</pre>"
      ],
      "text/plain": [
       "| 13        | 23.064744    | 147.025024         | 9.629232      | 847.406799           | 81.259926       |"
      ]
     },
     "metadata": {},
     "output_type": "display_data"
    },
    {
     "data": {
      "text/html": [
       "<pre>| 14        | 24.672004    | 124.971313         | 8.634433      | 847.662170           | 81.068428       |</pre>"
      ],
      "text/plain": [
       "| 14        | 24.672004    | 124.971313         | 8.634433      | 847.662170           | 81.068428       |"
      ]
     },
     "metadata": {},
     "output_type": "display_data"
    },
    {
     "data": {
      "text/html": [
       "<pre>| 15        | 26.179734    | 102.573975         | 7.745875      | 847.610229           | 81.110687       |</pre>"
      ],
      "text/plain": [
       "| 15        | 26.179734    | 102.573975         | 7.745875      | 847.610229           | 81.110687       |"
      ]
     },
     "metadata": {},
     "output_type": "display_data"
    },
    {
     "data": {
      "text/html": [
       "<pre>| 16        | 28.083581    | 87.187866          | 6.980761      | 843.333618           | 80.971077       |</pre>"
      ],
      "text/plain": [
       "| 16        | 28.083581    | 87.187866          | 6.980761      | 843.333618           | 80.971077       |"
      ]
     },
     "metadata": {},
     "output_type": "display_data"
    },
    {
     "data": {
      "text/html": [
       "<pre>| 17        | 29.521438    | 74.109741          | 6.513376      | 843.641357           | 81.003914       |</pre>"
      ],
      "text/plain": [
       "| 17        | 29.521438    | 74.109741          | 6.513376      | 843.641357           | 81.003914       |"
      ]
     },
     "metadata": {},
     "output_type": "display_data"
    },
    {
     "data": {
      "text/html": [
       "<pre>| 18        | 31.034994    | 62.400024          | 5.951642      | 843.917603           | 80.979721       |</pre>"
      ],
      "text/plain": [
       "| 18        | 31.034994    | 62.400024          | 5.951642      | 843.917603           | 80.979721       |"
      ]
     },
     "metadata": {},
     "output_type": "display_data"
    },
    {
     "data": {
      "text/html": [
       "<pre>| 19        | 32.567080    | 51.455444          | 5.410603      | 843.899536           | 80.955971       |</pre>"
      ],
      "text/plain": [
       "| 19        | 32.567080    | 51.455444          | 5.410603      | 843.899536           | 80.955971       |"
      ]
     },
     "metadata": {},
     "output_type": "display_data"
    },
    {
     "data": {
      "text/html": [
       "<pre>| 20        | 34.117659    | 42.699829          | 4.817017      | 843.976440           | 80.886856       |</pre>"
      ],
      "text/plain": [
       "| 20        | 34.117659    | 42.699829          | 4.817017      | 843.976440           | 80.886856       |"
      ]
     },
     "metadata": {},
     "output_type": "display_data"
    },
    {
     "data": {
      "text/html": [
       "<pre>+-----------+--------------+--------------------+---------------+----------------------+-----------------+</pre>"
      ],
      "text/plain": [
       "+-----------+--------------+--------------------+---------------+----------------------+-----------------+"
      ]
     },
     "metadata": {},
     "output_type": "display_data"
    }
   ],
   "source": [
    "phones_model = gradient_boosted_regression_trees_model(phones_train, 'phones_train')"
   ]
  },
  {
   "cell_type": "code",
   "execution_count": 124,
   "metadata": {
    "collapsed": false
   },
   "outputs": [
    {
     "data": {
      "text/plain": [
       "{'max_error': 35.06368637084961, 'rmse': 35.06368637084961}"
      ]
     },
     "execution_count": 124,
     "metadata": {},
     "output_type": "execute_result"
    }
   ],
   "source": [
    "evaluate(phones_model, graphlab.SFrame(phones_test.head(1)))"
   ]
  },
  {
   "cell_type": "code",
   "execution_count": null,
   "metadata": {
    "collapsed": false
   },
   "outputs": [],
   "source": []
  },
  {
   "cell_type": "markdown",
   "metadata": {
    "collapsed": true
   },
   "source": [
    "# Final model 3\n",
    "## Predict price bin"
   ]
  },
  {
   "cell_type": "code",
   "execution_count": null,
   "metadata": {
    "collapsed": false
   },
   "outputs": [],
   "source": []
  },
  {
   "cell_type": "code",
   "execution_count": null,
   "metadata": {
    "collapsed": true
   },
   "outputs": [],
   "source": []
  },
  {
   "cell_type": "code",
   "execution_count": null,
   "metadata": {
    "collapsed": true
   },
   "outputs": [],
   "source": []
  },
  {
   "cell_type": "code",
   "execution_count": null,
   "metadata": {
    "collapsed": false
   },
   "outputs": [],
   "source": []
  },
  {
   "cell_type": "raw",
   "metadata": {},
   "source": []
  },
  {
   "cell_type": "code",
   "execution_count": null,
   "metadata": {
    "collapsed": true
   },
   "outputs": [],
   "source": []
  },
  {
   "cell_type": "code",
   "execution_count": null,
   "metadata": {
    "collapsed": true
   },
   "outputs": [],
   "source": []
  },
  {
   "cell_type": "code",
   "execution_count": null,
   "metadata": {
    "collapsed": true
   },
   "outputs": [],
   "source": []
  }
 ],
 "metadata": {
  "kernelspec": {
   "display_name": "Python 2",
   "language": "python",
   "name": "python2"
  },
  "language_info": {
   "codemirror_mode": {
    "name": "ipython",
    "version": 2
   },
   "file_extension": ".py",
   "mimetype": "text/x-python",
   "name": "python",
   "nbconvert_exporter": "python",
   "pygments_lexer": "ipython2",
   "version": "2.7.11"
  }
 },
 "nbformat": 4,
 "nbformat_minor": 0
}
